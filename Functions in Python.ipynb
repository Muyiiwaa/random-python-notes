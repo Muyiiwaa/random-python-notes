{
 "cells": [
  {
   "cell_type": "markdown",
   "id": "b508f5ac",
   "metadata": {},
   "source": [
    "## Functions"
   ]
  },
  {
   "cell_type": "code",
   "execution_count": 1,
   "id": "2b544d58",
   "metadata": {},
   "outputs": [],
   "source": [
    "# function that greets someone and addresses them by their full name\n",
    "\n",
    "\n",
    "def greet(firstname, lastname):\n",
    "    greeting = f'HI, {firstname} {lastname} how are you today'\n",
    "    print(greeting)"
   ]
  },
  {
   "cell_type": "code",
   "execution_count": 2,
   "id": "42423563",
   "metadata": {},
   "outputs": [
    {
     "name": "stdout",
     "output_type": "stream",
     "text": [
      "HI, George Adeyeye how are you today\n"
     ]
    }
   ],
   "source": [
    "# call the function\n",
    "\n",
    "greet(firstname = 'George', lastname = 'Adeyeye')"
   ]
  },
  {
   "cell_type": "code",
   "execution_count": 3,
   "id": "f82664fc",
   "metadata": {},
   "outputs": [
    {
     "name": "stdout",
     "output_type": "stream",
     "text": [
      "HI, Ife Salami how are you today\n"
     ]
    }
   ],
   "source": [
    "greet(firstname = 'Ife', lastname = 'Salami')"
   ]
  },
  {
   "cell_type": "code",
   "execution_count": 4,
   "id": "a90637fa",
   "metadata": {},
   "outputs": [
    {
     "name": "stdout",
     "output_type": "stream",
     "text": [
      "HI, Segun Martins how are you today\n"
     ]
    }
   ],
   "source": [
    "greet('Segun', 'Martins')"
   ]
  },
  {
   "cell_type": "code",
   "execution_count": 12,
   "id": "c58f6716",
   "metadata": {},
   "outputs": [],
   "source": [
    "# function that returns someone's age.\n",
    "\n",
    "def calculate_age(year):\n",
    "    age = 2023 - year\n",
    "    return age"
   ]
  },
  {
   "cell_type": "code",
   "execution_count": 14,
   "id": "0f29ca62",
   "metadata": {},
   "outputs": [
    {
     "data": {
      "text/plain": [
       "18"
      ]
     },
     "execution_count": 14,
     "metadata": {},
     "output_type": "execute_result"
    }
   ],
   "source": [
    "calculate_age(year = 2005)"
   ]
  },
  {
   "cell_type": "code",
   "execution_count": 15,
   "id": "99cdb4da",
   "metadata": {},
   "outputs": [],
   "source": [
    "# function that finds the lcm of two numbers\n",
    "\n",
    "def get_lcm(num_1, num_2):\n",
    "    \n",
    "    if num_1 > num_2:\n",
    "        greater = num_1\n",
    "    else:\n",
    "        greater = num_2\n",
    "\n",
    "    while True:\n",
    "        if greater % num_1 == 0 and greater % num_2 == 0:\n",
    "            lcm = greater \n",
    "            break\n",
    "        else:\n",
    "            greater += 1\n",
    "            \n",
    "    return lcm"
   ]
  },
  {
   "cell_type": "code",
   "execution_count": 16,
   "id": "624bfed2",
   "metadata": {},
   "outputs": [
    {
     "data": {
      "text/plain": [
       "15"
      ]
     },
     "execution_count": 16,
     "metadata": {},
     "output_type": "execute_result"
    }
   ],
   "source": [
    "get_lcm(3, 5)"
   ]
  },
  {
   "cell_type": "code",
   "execution_count": 17,
   "id": "ebc25de7",
   "metadata": {},
   "outputs": [
    {
     "data": {
      "text/plain": [
       "24"
      ]
     },
     "execution_count": 17,
     "metadata": {},
     "output_type": "execute_result"
    }
   ],
   "source": [
    "get_lcm(2,24)"
   ]
  },
  {
   "cell_type": "code",
   "execution_count": 33,
   "id": "7fe660b0",
   "metadata": {},
   "outputs": [],
   "source": [
    "# function that checks whether a number is prime or not\n",
    "\n",
    "def check_prime(number):\n",
    "    for num in range(2, number):\n",
    "        if number % num == 0:\n",
    "            return False\n",
    "    else:\n",
    "        return True"
   ]
  },
  {
   "cell_type": "code",
   "execution_count": 34,
   "id": "e208a94b",
   "metadata": {},
   "outputs": [
    {
     "data": {
      "text/plain": [
       "True"
      ]
     },
     "execution_count": 34,
     "metadata": {},
     "output_type": "execute_result"
    }
   ],
   "source": [
    "check_prime(number = 13)"
   ]
  },
  {
   "cell_type": "code",
   "execution_count": 35,
   "id": "c5e7220e",
   "metadata": {},
   "outputs": [],
   "source": [
    "# function that returns the prime number within a given range\n",
    "\n",
    "def get_primes(lower, upper):\n",
    "    \n",
    "    prime_list = []\n",
    "    \n",
    "    for num in range(lower, upper):\n",
    "        if check_prime(num) == True:\n",
    "            prime_list.append(num)\n",
    "            \n",
    "    return prime_list\n",
    "            \n",
    "\n"
   ]
  },
  {
   "cell_type": "code",
   "execution_count": 3,
   "id": "4da340e4",
   "metadata": {},
   "outputs": [
    {
     "data": {
      "text/plain": [
       "[2, 3, 4, 5, 6, 7]"
      ]
     },
     "execution_count": 3,
     "metadata": {},
     "output_type": "execute_result"
    }
   ],
   "source": [
    "def abc(*nums):\n",
    "    nums = list(nums)\n",
    "    return nums\n",
    "\n",
    "\n",
    "\n",
    "abc(2,3,4,5,6,7)"
   ]
  },
  {
   "cell_type": "code",
   "execution_count": 36,
   "id": "4aeb9567",
   "metadata": {},
   "outputs": [
    {
     "data": {
      "text/plain": [
       "[11, 13, 17, 19]"
      ]
     },
     "execution_count": 36,
     "metadata": {},
     "output_type": "execute_result"
    }
   ],
   "source": [
    "get_primes(10,20)"
   ]
  },
  {
   "cell_type": "code",
   "execution_count": 37,
   "id": "f8b324e8",
   "metadata": {},
   "outputs": [],
   "source": [
    "# function that returns the total number of prime numbers between a range\n",
    "\n",
    "\n",
    "def count_primes(lower, upper):\n",
    "    return len(get_primes(lower, upper))"
   ]
  },
  {
   "cell_type": "code",
   "execution_count": 39,
   "id": "e954835c",
   "metadata": {},
   "outputs": [
    {
     "data": {
      "text/plain": [
       "21"
      ]
     },
     "execution_count": 39,
     "metadata": {},
     "output_type": "execute_result"
    }
   ],
   "source": [
    "count_primes(100,200)"
   ]
  },
  {
   "cell_type": "code",
   "execution_count": 1,
   "id": "662edc4d",
   "metadata": {},
   "outputs": [
    {
     "name": "stdout",
     "output_type": "stream",
     "text": [
      "rice 2\n",
      "beans 3\n",
      "beans 4\n"
     ]
    }
   ],
   "source": [
    "# function that returns the number of even numbers within a range\n",
    "\n",
    "\n",
    "\n",
    "a = ['rice', 'beans', 'beans']\n",
    "b = [2,3,4]\n",
    "\n",
    "for i, element in enumerate(a):\n",
    "    print(element, b[i])"
   ]
  },
  {
   "cell_type": "code",
   "execution_count": 46,
   "id": "f44c49c9",
   "metadata": {},
   "outputs": [],
   "source": [
    "# function that greets a person\n",
    "\n",
    "def greet(name, time_day = 'day'):\n",
    "    return f'Hi {name}, good {time_day}'"
   ]
  },
  {
   "cell_type": "code",
   "execution_count": 48,
   "id": "6f100bab",
   "metadata": {},
   "outputs": [
    {
     "data": {
      "text/plain": [
       "'Hi wale, good morning'"
      ]
     },
     "execution_count": 48,
     "metadata": {},
     "output_type": "execute_result"
    }
   ],
   "source": [
    "greet('wale', 'morning')"
   ]
  },
  {
   "cell_type": "code",
   "execution_count": 9,
   "id": "85a0b8ad",
   "metadata": {},
   "outputs": [
    {
     "data": {
      "text/plain": [
       "'Hi tunde, good afternoon'"
      ]
     },
     "execution_count": 9,
     "metadata": {},
     "output_type": "execute_result"
    }
   ],
   "source": [
    "greet('tunde', 'afternoon')"
   ]
  },
  {
   "cell_type": "code",
   "execution_count": 7,
   "id": "de31ce24",
   "metadata": {},
   "outputs": [],
   "source": [
    "# function that solves quadratic equation\n",
    "\n",
    "def solve(a,b,c):\n",
    "    x1 = (-b + (b**2 - 4*a*c) ** 0.5)/(2*a)\n",
    "    x2 = (-b - (b**2 - 4*a*c) ** 0.5)/(2*a)\n",
    "    return x1,x2"
   ]
  },
  {
   "cell_type": "code",
   "execution_count": 8,
   "id": "125de617",
   "metadata": {},
   "outputs": [
    {
     "data": {
      "text/plain": [
       "(-2.0, -3.0)"
      ]
     },
     "execution_count": 8,
     "metadata": {},
     "output_type": "execute_result"
    }
   ],
   "source": [
    "solve(a=1,b=5,c=6)"
   ]
  },
  {
   "cell_type": "code",
   "execution_count": 10,
   "id": "0e3f7f62",
   "metadata": {},
   "outputs": [
    {
     "data": {
      "text/plain": [
       "(3.0, 2.0)"
      ]
     },
     "execution_count": 10,
     "metadata": {},
     "output_type": "execute_result"
    }
   ],
   "source": [
    "# x2 -5x + 6 = 0\n",
    "\n",
    "\n",
    "solve(a = 1, b =-5, c = 6)"
   ]
  },
  {
   "cell_type": "code",
   "execution_count": 11,
   "id": "ada822aa",
   "metadata": {},
   "outputs": [],
   "source": [
    "# a function that returns the number of even numbers within a range \n",
    "\n",
    "# firstly define a function that returns the even numbers within a range\n",
    "\n",
    "def count_even(lower, upper):\n",
    "    even_list = []\n",
    "    for num in range(lower, upper+1):\n",
    "        if num % 2 == 0:\n",
    "            even_list.append(num)\n",
    "    return len(even_list) "
   ]
  },
  {
   "cell_type": "code",
   "execution_count": 12,
   "id": "d724b5df",
   "metadata": {},
   "outputs": [
    {
     "data": {
      "text/plain": [
       "25"
      ]
     },
     "execution_count": 12,
     "metadata": {},
     "output_type": "execute_result"
    }
   ],
   "source": [
    "count_even(2,50)"
   ]
  },
  {
   "cell_type": "code",
   "execution_count": 57,
   "id": "a20c23d4",
   "metadata": {},
   "outputs": [
    {
     "name": "stdout",
     "output_type": "stream",
     "text": [
      "Enter your name: Ayo\n",
      "Hi Ayo, good day\n",
      "Enter your deposit: 10\n",
      "You deposited 10\n",
      "Welcome, To play this game you must guess the even numbers within a range\n",
      "are you ready?: yes\n",
      "Okay, Ayo guess the even_nos between 14, 46\n",
      "16\n",
      "Wrong!! you have lost 5 naira\n",
      "Welcome, To play this game you must guess the even numbers within a range\n",
      "are you ready?: yes\n",
      "Okay, Ayo guess the even_nos between 11, 56\n",
      "11\n",
      "Wrong!! you have lost 5 naira\n",
      "Welcome, To play this game you must guess the even numbers within a range\n",
      "are you ready?: no\n",
      "Okay, bye Ayo you left with 0\n"
     ]
    }
   ],
   "source": [
    "# even number guessing game\n",
    "\n",
    "\n",
    "import random  #generate random numbers \n",
    "\n",
    "player = input('Enter your name: ') # accepts player's name\n",
    "print(greet(player)) # greet the player\n",
    "\n",
    "deposit = int(input('Enter your deposit: ')) # accepts the deposit \n",
    "print(f'You deposited {deposit}') # prints the deposit\n",
    "while True: # makes the program run continuously\n",
    "\n",
    "    print('Welcome, To play this game you must guess the even numbers within a range')\n",
    "    action = input('are you ready?: ')\n",
    "\n",
    "    if action == 'yes' and deposit >= 5:\n",
    "\n",
    "        low = random.randint(1,15) # returns a random lower bound\n",
    "        high = random.randint(lower, lower+70) # return a random upper bound\n",
    "        answer = count_even(lower = low, upper = high)\n",
    "        print(f'Okay, {player} guess the even_nos between {low}, {high}')\n",
    "        reply = int(input()) \n",
    "        if  reply == answer:\n",
    "            print('Correct!! you have won 10 naira')\n",
    "            deposit += 10\n",
    "        else:\n",
    "            print('Wrong!! you have lost 5 naira')\n",
    "            deposit -= 5\n",
    "\n",
    "    elif action == 'yes' and deposit < 5:\n",
    "        print(f'Low fund you cant play')\n",
    "        break\n",
    "    elif action == 'no':\n",
    "        print(f'Okay, bye {player} you left with {deposit}')\n",
    "        break\n",
    "    else:\n",
    "        print('That is a wrong input')"
   ]
  },
  {
   "cell_type": "code",
   "execution_count": null,
   "id": "d0ff9aa4",
   "metadata": {},
   "outputs": [],
   "source": []
  },
  {
   "cell_type": "code",
   "execution_count": null,
   "id": "b202c227",
   "metadata": {},
   "outputs": [],
   "source": []
  }
 ],
 "metadata": {
  "kernelspec": {
   "display_name": "Python 3 (ipykernel)",
   "language": "python",
   "name": "python3"
  },
  "language_info": {
   "codemirror_mode": {
    "name": "ipython",
    "version": 3
   },
   "file_extension": ".py",
   "mimetype": "text/x-python",
   "name": "python",
   "nbconvert_exporter": "python",
   "pygments_lexer": "ipython3",
   "version": "3.11.4"
  }
 },
 "nbformat": 4,
 "nbformat_minor": 5
}

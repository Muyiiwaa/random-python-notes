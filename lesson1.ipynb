{
 "cells": [
  {
   "cell_type": "code",
   "execution_count": 1,
   "metadata": {},
   "outputs": [
    {
     "data": {
      "text/plain": [
       "4"
      ]
     },
     "execution_count": 1,
     "metadata": {},
     "output_type": "execute_result"
    }
   ],
   "source": [
    "2+2"
   ]
  },
  {
   "cell_type": "markdown",
   "metadata": {},
   "source": [
    "### Findings\n",
    "\n",
    "I have just discovered the following:\n",
    "\n",
    "* That 2+2 is 4 \n",
    "* That 2+2 is 4 every time"
   ]
  },
  {
   "cell_type": "markdown",
   "metadata": {},
   "source": [
    "### Variables and Datatypes"
   ]
  },
  {
   "cell_type": "markdown",
   "metadata": {},
   "source": [
    "#### DataTypes in Python\n",
    "\n",
    "datatypes | examples\n",
    ":---------|---------:\n",
    "int    | 2,3,4,5,6\n",
    "float | 2.4, 4.5\n",
    "strings | 'taye', 'wole', 'femi', 'dog'\n",
    "boolean | True or False\n",
    "list | [1,2,3,4], ['ade', 'segun']\n",
    "tuple | ('ade', 'segun')\n",
    "dictionaries | {'lagos:ikeja,'kwara':'ilorin'}\n",
    "sets | (1,2,3,4)"
   ]
  },
  {
   "cell_type": "code",
   "execution_count": 6,
   "metadata": {},
   "outputs": [],
   "source": [
    "#understanding variables\n",
    "\n",
    "age = 25\n",
    "name = 'Segun'\n",
    "\n",
    "# get segun's age in 3 years time\n",
    "age_2027 = age + 3"
   ]
  },
  {
   "cell_type": "code",
   "execution_count": 7,
   "metadata": {},
   "outputs": [
    {
     "data": {
      "text/plain": [
       "28"
      ]
     },
     "execution_count": 7,
     "metadata": {},
     "output_type": "execute_result"
    }
   ],
   "source": [
    "age_2027"
   ]
  },
  {
   "cell_type": "code",
   "execution_count": 19,
   "metadata": {},
   "outputs": [
    {
     "name": "stdout",
     "output_type": "stream",
     "text": [
      "Hi bola, you are 21 years old\n",
      "Hibola, you are 21 years old\n"
     ]
    }
   ],
   "source": [
    "# write a programme that calculates someones age just by acceptin their birth year\n",
    "\n",
    "year_of_birth = int(input('Enter your year of birth: '))\n",
    "name = input('Enter your name: ')\n",
    "age = 2024 - year_of_birth\n",
    "print(f'Hi {name}, you are {age} years old')"
   ]
  },
  {
   "cell_type": "code",
   "execution_count": 20,
   "metadata": {},
   "outputs": [
    {
     "name": "stdout",
     "output_type": "stream",
     "text": [
      "Hi Daniel, the interest on 50000.0 for 3 years is 7500.0 at 5% per annum\n",
      "===========================================\n",
      "Total  Amount Payables is 57500.0 naira\n"
     ]
    }
   ],
   "source": [
    "# write a program that returns the interest due on a loan and the amount payable\n",
    "\n",
    "name = input('Welcome, enter your name: ')\n",
    "principal = float(input('Enter the amount you want to borrow: '))\n",
    "time = int(input('For how long: '))\n",
    "rate = 5\n",
    "\n",
    "interest = (principal * rate * time)/100\n",
    "\n",
    "print(f'Hi {name}, the interest on N{principal} for {time} years is N{interest} at {rate}% per annum')\n",
    "print('===========================================')\n",
    "print(f'Total  Amount Payables is {principal + interest} naira')"
   ]
  },
  {
   "cell_type": "markdown",
   "metadata": {},
   "source": [
    "### Exercise\n",
    "\n",
    "* write a program that calculates a person's tax and tithe by knowing their salary\n",
    "tax is 4%, tithe is 10%\n",
    "* The program should return the amount they have paid in tax and tithe and what is left as their take home."
   ]
  },
  {
   "cell_type": "markdown",
   "metadata": {},
   "source": []
  }
 ],
 "metadata": {
  "kernelspec": {
   "display_name": "base",
   "language": "python",
   "name": "python3"
  },
  "language_info": {
   "codemirror_mode": {
    "name": "ipython",
    "version": 3
   },
   "file_extension": ".py",
   "mimetype": "text/x-python",
   "name": "python",
   "nbconvert_exporter": "python",
   "pygments_lexer": "ipython3",
   "version": "3.11.4"
  }
 },
 "nbformat": 4,
 "nbformat_minor": 2
}

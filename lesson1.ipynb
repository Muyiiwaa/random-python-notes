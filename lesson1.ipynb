{
 "cells": [
  {
   "cell_type": "code",
   "execution_count": 1,
   "metadata": {},
   "outputs": [
    {
     "data": {
      "text/plain": [
       "4"
      ]
     },
     "execution_count": 1,
     "metadata": {},
     "output_type": "execute_result"
    }
   ],
   "source": [
    "2+2"
   ]
  },
  {
   "cell_type": "markdown",
   "metadata": {},
   "source": [
    "### Findings\n",
    "\n",
    "I have just discovered the following:\n",
    "\n",
    "* That 2+2 is 4 \n",
    "* That 2+2 is 4 every time"
   ]
  },
  {
   "cell_type": "markdown",
   "metadata": {},
   "source": [
    "### Variables and Datatypes"
   ]
  },
  {
   "cell_type": "markdown",
   "metadata": {},
   "source": [
    "#### DataTypes in Python\n",
    "\n",
    "datatypes | examples\n",
    ":---------|---------:\n",
    "int    | 2,3,4,5,6\n",
    "float | 2.4, 4.5\n",
    "strings | 'taye', 'wole', 'femi', 'dog'\n",
    "boolean | True or False\n",
    "list | [1,2,3,4], ['ade', 'segun']\n",
    "tuple | ('ade', 'segun')\n",
    "dictionaries | {'lagos:ikeja,'kwara':'ilorin'}\n",
    "sets | (1,2,3,4)"
   ]
  },
  {
   "cell_type": "code",
   "execution_count": 6,
   "metadata": {},
   "outputs": [],
   "source": [
    "#understanding variables\n",
    "\n",
    "age = 25\n",
    "name = 'Segun'\n",
    "\n",
    "# get segun's age in 3 years time\n",
    "age_2027 = age + 3"
   ]
  },
  {
   "cell_type": "code",
   "execution_count": 7,
   "metadata": {},
   "outputs": [
    {
     "data": {
      "text/plain": [
       "28"
      ]
     },
     "execution_count": 7,
     "metadata": {},
     "output_type": "execute_result"
    }
   ],
   "source": [
    "age_2027"
   ]
  },
  {
   "cell_type": "code",
   "execution_count": 19,
   "metadata": {},
   "outputs": [
    {
     "name": "stdout",
     "output_type": "stream",
     "text": [
      "Hi bola, you are 21 years old\n",
      "Hibola, you are 21 years old\n"
     ]
    }
   ],
   "source": [
    "# write a programme that calculates someones age just by acceptin their birth year\n",
    "\n",
    "year_of_birth = int(input('Enter your year of birth: '))\n",
    "name = input('Enter your name: ')\n",
    "age = 2024 - year_of_birth\n",
    "print(f'Hi {name}, you are {age} years old')"
   ]
  },
  {
   "cell_type": "code",
   "execution_count": 20,
   "metadata": {},
   "outputs": [
    {
     "name": "stdout",
     "output_type": "stream",
     "text": [
      "Hi Daniel, the interest on 50000.0 for 3 years is 7500.0 at 5% per annum\n",
      "===========================================\n",
      "Total  Amount Payables is 57500.0 naira\n"
     ]
    }
   ],
   "source": [
    "# write a program that returns the interest due on a loan and the amount payable\n",
    "\n",
    "name = input('Welcome, enter your name: ')\n",
    "principal = float(input('Enter the amount you want to borrow: '))\n",
    "time = int(input('For how long: '))\n",
    "rate = 5\n",
    "\n",
    "interest = (principal * rate * time)/100\n",
    "\n",
    "print(f'Hi {name}, the interest on N{principal} for {time} years is N{interest} at {rate}% per annum')\n",
    "print('===========================================')\n",
    "print(f'Total  Amount Payables is {principal + interest} naira')"
   ]
  },
  {
   "cell_type": "markdown",
   "metadata": {},
   "source": [
    "### Exercise\n",
    "\n",
    "* write a program that calculates a person's tax and tithe by knowing their salary\n",
    "tax is 4%, tithe is 10%\n",
    "* The program should return the amount they have paid in tax and tithe and what is left as their take home."
   ]
  },
  {
   "cell_type": "code",
   "execution_count": 1,
   "metadata": {},
   "outputs": [
    {
     "name": "stdout",
     "output_type": "stream",
     "text": [
      "You paid $1600.0 tax, $3840.0 tithe and you have $34560.0 left\n"
     ]
    }
   ],
   "source": [
    "# assignment solution\n",
    "\n",
    "salary = int(input('Enter your salary'))\n",
    "tax = salary * 0.04\n",
    "tithe = (salary - tax) * 0.1\n",
    "print(f'You paid ${tax} tax, ${tithe} tithe and you have ${salary - tithe - tax} left')"
   ]
  },
  {
   "cell_type": "markdown",
   "metadata": {},
   "source": [
    "### LESSON 2\n",
    "\n",
    "#### CONDITIONALS AND ITERABLES "
   ]
  },
  {
   "cell_type": "code",
   "execution_count": 3,
   "metadata": {},
   "outputs": [
    {
     "name": "stdout",
     "output_type": "stream",
     "text": [
      "Benson, you are an adult\n"
     ]
    }
   ],
   "source": [
    "# write a program that checks if someone is a child, adult, teenager or old\n",
    "\n",
    "name = input('Enter your name: ')\n",
    "year_of_birth = int(input(f'Hi {name}, enter your year of birth: '))\n",
    "age = 2024 - year_of_birth\n",
    "\n",
    "if age < 12:\n",
    "    print(f'{name}, you are a child')\n",
    "elif age < 20:\n",
    "    print(f'{name}, you are a teenager')\n",
    "elif age < 59:\n",
    "    print(f'{name}, you are an adult')\n",
    "else:\n",
    "    print(f'{name}, you are a old')"
   ]
  },
  {
   "cell_type": "code",
   "execution_count": 6,
   "metadata": {},
   "outputs": [
    {
     "name": "stdout",
     "output_type": "stream",
     "text": [
      "femi!!! nawa!!\n"
     ]
    }
   ],
   "source": [
    "# mulitiple condition\n",
    "\n",
    "# write a program that outputs a student's admission eligibility. They can get into UI\n",
    "# only if they score above 60 in english and mathematics. However they can get into Bowen\n",
    "# with above  60  in at least one course\n",
    "\n",
    "name = input('Enter your name: ')\n",
    "english = int(input('Engliish: '))\n",
    "maths = int(input('Maths: '))\n",
    "\n",
    "if english > 60 and maths > 60:\n",
    "    print(f'Congrats {name}! you have gotten into UI')\n",
    "elif english > 60 or maths > 60:\n",
    "      print(f'HI {name} welcome to Bowen')\n",
    "else:\n",
    "    print(f'{name}!!! nawa!!')\n",
    "      \n"
   ]
  },
  {
   "cell_type": "code",
   "execution_count": 13,
   "metadata": {},
   "outputs": [
    {
     "name": "stdout",
     "output_type": "stream",
     "text": [
      "ugo,no discount amount payable is $10800.0\n"
     ]
    }
   ],
   "source": [
    "#### NESTED IFs\n",
    "\n",
    "# program that gives someone 3% discount on their loan if they are female, 4% discount\n",
    "# if they are borrowing above 300k, 10% discount if they satisfy both condition.\n",
    "\n",
    "name = input('Enter your name: ')\n",
    "gender = input('Gender: ')\n",
    "principal = float(input('principal: '))\n",
    "time = float(input('time: '))\n",
    "interest_rate = 4 \n",
    "\n",
    "interest = (principal * interest_rate * time)/100\n",
    "\n",
    "if principal > 300000:\n",
    "    if gender == 'female':\n",
    "        print(f\"{name} you've gotten 10% amount payable is ${principal + (interest * 0.90)}\")\n",
    "    else:\n",
    "        print(f\"{name} you've gotten 4% amount payable is ${principal + (interest * 0.96)}\")\n",
    "else:\n",
    "    if gender == 'female':\n",
    "        print(f\"{name} you've gotten 3% amount payable is ${principal + (interest * 0.97)}\")\n",
    "    else:\n",
    "        print(f\"{name},no discount amount payable is ${principal + interest}\")"
   ]
  },
  {
   "cell_type": "markdown",
   "metadata": {},
   "source": [
    "### ITERABLES (LISTS TUPLES AND DICTIONARIS)"
   ]
  },
  {
   "cell_type": "code",
   "execution_count": 10,
   "metadata": {},
   "outputs": [
    {
     "name": "stdout",
     "output_type": "stream",
     "text": [
      "5\n",
      "sum 110\n",
      "minimumn 2\n",
      "maximum 20\n",
      "average 11.0\n"
     ]
    }
   ],
   "source": [
    "# creating a list\n",
    "\n",
    "students = ['femi','ugo','daniel','tosin','feyi']\n",
    "even_num = list(range(2,21, 2))\n",
    "odd_num = list(range(1,21,2))\n",
    "\n",
    "# check data type\n",
    "type(students)\n",
    "\n",
    "# forward indexing\n",
    "students[1]\n",
    "\n",
    "# backward indexing \n",
    "students[-4]\n",
    "\n",
    "# slicing \n",
    "students[:3]\n",
    "\n",
    "# slicing \n",
    "students[2:]\n",
    "# slicing\n",
    "students[1:3]\n",
    "\n",
    "# slicing multidimensional list\n",
    "staff = [['ugo',250,'male'],\n",
    "         ['feyi',200,'male'],\n",
    "         ['tola',100,'female']]\n",
    "\n",
    "# access ugo's information\n",
    "staff[0]\n",
    "\n",
    "# access feyi's name \n",
    "staff[1][0]\n",
    "\n",
    "# list method and function\n",
    "# counting elements in a list\n",
    "print(len(students))\n",
    "\n",
    "# adding a new element to the list\n",
    "students.append('bola')\n",
    "\n",
    "# min, max, sum functions\n",
    "\n",
    "print('sum', sum(even_num))\n",
    "print('minimumn', min(even_num))\n",
    "print('maximum', max(even_num))\n",
    "print('average', sum(even_num)/len(even_num))\n",
    "\n",
    "\n",
    "# assignment : pop, index, sorted, revered"
   ]
  },
  {
   "cell_type": "code",
   "execution_count": 4,
   "metadata": {},
   "outputs": [
    {
     "data": {
      "text/plain": [
       "['femi', 'ugo', 'daniel', 'tosin', 'feyi', 'bola']"
      ]
     },
     "execution_count": 4,
     "metadata": {},
     "output_type": "execute_result"
    }
   ],
   "source": [
    "students"
   ]
  },
  {
   "cell_type": "code",
   "execution_count": 26,
   "metadata": {},
   "outputs": [
    {
     "name": "stdout",
     "output_type": "stream",
     "text": [
      "Minimum = 13\n",
      "Maximum = 32\n",
      "Average = 22.0\n"
     ]
    }
   ],
   "source": [
    "# dictioneries \n",
    "\n",
    "nigeria = {\n",
    "    'lagos': 'ikeja',\n",
    "    'osun': 'osogbo',\n",
    "    'oyo' : 'ibadan'\n",
    "}\n",
    "\n",
    "# dictionary methods\n",
    "\n",
    "# getting keys\n",
    "nigeria.keys()\n",
    "\n",
    "# getting values\n",
    "nigeria.values()\n",
    "\n",
    "nigeria['oyo'] \n",
    "\n",
    "# adding new element\n",
    "nigeria.update({'kwara':'ilorin'})\n",
    "\n",
    "# exercise\n",
    "# create a dictionary of student names and age\n",
    "# return all the names of students in your class\n",
    "# return the minimum, maximum and average age of students in your class\n",
    "\n",
    "students = {\n",
    "    'wale': 13,\n",
    "    'remi': 32,\n",
    "    'tola': 21\n",
    "}\n",
    "\n",
    "students.keys()\n",
    "\n",
    "age = list(students.values())\n",
    "\n",
    "print(f'Minimum = {min((age))}')\n",
    "print(f'Maximum = {max((age))}')\n",
    "print(f'Average = {sum((age))/len((age))}')"
   ]
  },
  {
   "cell_type": "code",
   "execution_count": null,
   "metadata": {},
   "outputs": [
    {
     "data": {
      "text/plain": [
       "['lagos', 'osun', 'oyo', 'kwara']"
      ]
     },
     "execution_count": 21,
     "metadata": {},
     "output_type": "execute_result"
    }
   ],
   "source": [
    "list(nigeria.keys())"
   ]
  },
  {
   "cell_type": "markdown",
   "metadata": {},
   "source": [
    "#### LOOPS"
   ]
  },
  {
   "cell_type": "code",
   "execution_count": 28,
   "metadata": {},
   "outputs": [
    {
     "name": "stdout",
     "output_type": "stream",
     "text": [
      "God is good\n",
      "God is good\n",
      "God is good\n",
      "God is good\n",
      "God is good\n",
      "God is good\n",
      "God is good\n",
      "God is good\n",
      "God is good\n"
     ]
    }
   ],
   "source": [
    "for num in range(1, 10):\n",
    "    print('God is good')"
   ]
  },
  {
   "cell_type": "code",
   "execution_count": 29,
   "metadata": {},
   "outputs": [
    {
     "data": {
      "text/plain": [
       "[51, 54, 57, 60, 63, 66, 69, 72, 75, 78, 81, 84, 87, 90, 93, 96, 99]"
      ]
     },
     "execution_count": 29,
     "metadata": {},
     "output_type": "execute_result"
    }
   ],
   "source": [
    "# create a list of numbers between 50 and 100 that are divisible by 3\n",
    "\n",
    "threes = []\n",
    "\n",
    "for num in range(50, 101):\n",
    "    if num % 3 == 0:\n",
    "        threes.append(num)\n",
    "    else:\n",
    "        pass\n",
    "    \n",
    "threes"
   ]
  },
  {
   "cell_type": "code",
   "execution_count": null,
   "metadata": {},
   "outputs": [],
   "source": [
    "# program that checks prime numbers\n",
    "\n",
    "number = int(input('number: '))\n",
    "for num in range(2, number):\n",
    "    if number % num == 0:\n",
    "        print(f'{number} is Not prime')\n",
    "        break\n",
    "else:\n",
    "    print(f'{number} is prime')\n"
   ]
  },
  {
   "cell_type": "code",
   "execution_count": 49,
   "metadata": {},
   "outputs": [],
   "source": [
    "students = {'femi':'abcd',\n",
    "            'ugo':'1234',\n",
    "            'rola':'xyz',\n",
    "            'feyi':'4433',\n",
    "            'tomi':'563'}"
   ]
  },
  {
   "cell_type": "code",
   "execution_count": 51,
   "metadata": {},
   "outputs": [
    {
     "name": "stdout",
     "output_type": "stream",
     "text": [
      "wrong password\n"
     ]
    }
   ],
   "source": [
    "# a user validation program\n",
    "\n",
    "name = input('Enter your name: ')\n",
    "\n",
    "if name not in students.keys():\n",
    "    print('Acess denied')\n",
    "    decision = input('do you want to register: ')\n",
    "    if decision == 'yes':\n",
    "        password = input('Choose a password: ')\n",
    "        students.update({name:password})\n",
    "    else:\n",
    "        pass\n",
    "else:\n",
    "    password = input('Enter password: ')\n",
    "    if students[name] == password:\n",
    "        print(f'welcome {name}, have you heard from {students[1]} todaY')\n",
    "    else:\n",
    "        print('wrong password')"
   ]
  },
  {
   "cell_type": "code",
   "execution_count": 52,
   "metadata": {},
   "outputs": [
    {
     "data": {
      "text/plain": [
       "{'femi': 'abcd',\n",
       " 'ugo': '1234',\n",
       " 'rola': 'xyz',\n",
       " 'feyi': '4433',\n",
       " 'tomi': '563',\n",
       " 'bola': '2123'}"
      ]
     },
     "execution_count": 52,
     "metadata": {},
     "output_type": "execute_result"
    }
   ],
   "source": [
    "students"
   ]
  },
  {
   "cell_type": "code",
   "execution_count": 1,
   "metadata": {},
   "outputs": [],
   "source": [
    "import pandas as pd\n",
    "import numpy as np"
   ]
  },
  {
   "cell_type": "code",
   "execution_count": 2,
   "metadata": {},
   "outputs": [
    {
     "data": {
      "text/html": [
       "<div>\n",
       "<style scoped>\n",
       "    .dataframe tbody tr th:only-of-type {\n",
       "        vertical-align: middle;\n",
       "    }\n",
       "\n",
       "    .dataframe tbody tr th {\n",
       "        vertical-align: top;\n",
       "    }\n",
       "\n",
       "    .dataframe thead th {\n",
       "        text-align: right;\n",
       "    }\n",
       "</style>\n",
       "<table border=\"1\" class=\"dataframe\">\n",
       "  <thead>\n",
       "    <tr style=\"text-align: right;\">\n",
       "      <th></th>\n",
       "      <th>name</th>\n",
       "      <th>gender</th>\n",
       "      <th>age</th>\n",
       "      <th>religion</th>\n",
       "    </tr>\n",
       "  </thead>\n",
       "  <tbody>\n",
       "    <tr>\n",
       "      <th>0</th>\n",
       "      <td>rola</td>\n",
       "      <td>female</td>\n",
       "      <td>12</td>\n",
       "      <td>christian</td>\n",
       "    </tr>\n",
       "    <tr>\n",
       "      <th>1</th>\n",
       "      <td>daniel</td>\n",
       "      <td>male</td>\n",
       "      <td>23</td>\n",
       "      <td>muslim</td>\n",
       "    </tr>\n",
       "    <tr>\n",
       "      <th>2</th>\n",
       "      <td>tomi</td>\n",
       "      <td>female</td>\n",
       "      <td>18</td>\n",
       "      <td>christian</td>\n",
       "    </tr>\n",
       "    <tr>\n",
       "      <th>3</th>\n",
       "      <td>ugo</td>\n",
       "      <td>male</td>\n",
       "      <td>25</td>\n",
       "      <td>muslim</td>\n",
       "    </tr>\n",
       "  </tbody>\n",
       "</table>\n",
       "</div>"
      ],
      "text/plain": [
       "     name  gender  age   religion\n",
       "0    rola  female   12  christian\n",
       "1  daniel    male   23     muslim\n",
       "2    tomi  female   18  christian\n",
       "3     ugo    male   25     muslim"
      ]
     },
     "execution_count": 2,
     "metadata": {},
     "output_type": "execute_result"
    }
   ],
   "source": [
    "# how to create dataframes in pandas\n",
    "\n",
    "# list of lists\n",
    "\n",
    "student_data = [\n",
    "    ['rola','female',12,'christian'],\n",
    "    ['daniel','male',23,'muslim'],\n",
    "    ['tomi','female',18,'christian'],\n",
    "    ['ugo','male',25,'muslim']\n",
    "]\n",
    "\n",
    "student_df = pd.DataFrame(data = student_data, columns= ['name','gender','age','religion'])\n",
    "\n",
    "student_df"
   ]
  },
  {
   "cell_type": "code",
   "execution_count": 3,
   "metadata": {},
   "outputs": [
    {
     "data": {
      "text/html": [
       "<div>\n",
       "<style scoped>\n",
       "    .dataframe tbody tr th:only-of-type {\n",
       "        vertical-align: middle;\n",
       "    }\n",
       "\n",
       "    .dataframe tbody tr th {\n",
       "        vertical-align: top;\n",
       "    }\n",
       "\n",
       "    .dataframe thead th {\n",
       "        text-align: right;\n",
       "    }\n",
       "</style>\n",
       "<table border=\"1\" class=\"dataframe\">\n",
       "  <thead>\n",
       "    <tr style=\"text-align: right;\">\n",
       "      <th></th>\n",
       "      <th>name</th>\n",
       "      <th>gender</th>\n",
       "      <th>age</th>\n",
       "    </tr>\n",
       "  </thead>\n",
       "  <tbody>\n",
       "    <tr>\n",
       "      <th>0</th>\n",
       "      <td>jide</td>\n",
       "      <td>male</td>\n",
       "      <td>23</td>\n",
       "    </tr>\n",
       "    <tr>\n",
       "      <th>1</th>\n",
       "      <td>sola</td>\n",
       "      <td>female</td>\n",
       "      <td>14</td>\n",
       "    </tr>\n",
       "    <tr>\n",
       "      <th>2</th>\n",
       "      <td>bola</td>\n",
       "      <td>male</td>\n",
       "      <td>22</td>\n",
       "    </tr>\n",
       "    <tr>\n",
       "      <th>3</th>\n",
       "      <td>segun</td>\n",
       "      <td>female</td>\n",
       "      <td>35</td>\n",
       "    </tr>\n",
       "    <tr>\n",
       "      <th>4</th>\n",
       "      <td>tobi</td>\n",
       "      <td>male</td>\n",
       "      <td>85</td>\n",
       "    </tr>\n",
       "    <tr>\n",
       "      <th>5</th>\n",
       "      <td>fola</td>\n",
       "      <td>female</td>\n",
       "      <td>12</td>\n",
       "    </tr>\n",
       "  </tbody>\n",
       "</table>\n",
       "</div>"
      ],
      "text/plain": [
       "    name  gender  age\n",
       "0   jide    male   23\n",
       "1   sola  female   14\n",
       "2   bola    male   22\n",
       "3  segun  female   35\n",
       "4   tobi    male   85\n",
       "5   fola  female   12"
      ]
     },
     "execution_count": 3,
     "metadata": {},
     "output_type": "execute_result"
    }
   ],
   "source": [
    "# dictionaries\n",
    "\n",
    "student_dict = {\n",
    "    'name': ['jide', 'sola','bola','segun','tobi','fola'],\n",
    "    'gender': ['male', 'female','male','female','male','female'],\n",
    "    'age': [23,14,22,35,85,12]\n",
    "}\n",
    "\n",
    "student_df2 = pd.DataFrame(student_dict)\n",
    "\n",
    "student_df2"
   ]
  },
  {
   "cell_type": "code",
   "execution_count": 4,
   "metadata": {},
   "outputs": [
    {
     "data": {
      "text/html": [
       "<div>\n",
       "<style scoped>\n",
       "    .dataframe tbody tr th:only-of-type {\n",
       "        vertical-align: middle;\n",
       "    }\n",
       "\n",
       "    .dataframe tbody tr th {\n",
       "        vertical-align: top;\n",
       "    }\n",
       "\n",
       "    .dataframe thead th {\n",
       "        text-align: right;\n",
       "    }\n",
       "</style>\n",
       "<table border=\"1\" class=\"dataframe\">\n",
       "  <thead>\n",
       "    <tr style=\"text-align: right;\">\n",
       "      <th></th>\n",
       "      <th>Age</th>\n",
       "      <th>Race</th>\n",
       "      <th>Marital Status</th>\n",
       "      <th>T Stage</th>\n",
       "      <th>N Stage</th>\n",
       "      <th>6th Stage</th>\n",
       "      <th>differentiate</th>\n",
       "      <th>Grade</th>\n",
       "      <th>A Stage</th>\n",
       "      <th>Tumor Size</th>\n",
       "      <th>Estrogen Status</th>\n",
       "      <th>Progesterone Status</th>\n",
       "      <th>Regional Node Examined</th>\n",
       "      <th>Reginol Node Positive</th>\n",
       "      <th>Survival Months</th>\n",
       "      <th>Status</th>\n",
       "    </tr>\n",
       "  </thead>\n",
       "  <tbody>\n",
       "    <tr>\n",
       "      <th>0</th>\n",
       "      <td>68</td>\n",
       "      <td>White</td>\n",
       "      <td>Married</td>\n",
       "      <td>T1</td>\n",
       "      <td>N1</td>\n",
       "      <td>IIA</td>\n",
       "      <td>Poorly differentiated</td>\n",
       "      <td>3</td>\n",
       "      <td>Regional</td>\n",
       "      <td>4</td>\n",
       "      <td>Positive</td>\n",
       "      <td>Positive</td>\n",
       "      <td>24</td>\n",
       "      <td>1</td>\n",
       "      <td>60</td>\n",
       "      <td>Alive</td>\n",
       "    </tr>\n",
       "    <tr>\n",
       "      <th>1</th>\n",
       "      <td>50</td>\n",
       "      <td>White</td>\n",
       "      <td>Married</td>\n",
       "      <td>T2</td>\n",
       "      <td>N2</td>\n",
       "      <td>IIIA</td>\n",
       "      <td>Moderately differentiated</td>\n",
       "      <td>2</td>\n",
       "      <td>Regional</td>\n",
       "      <td>35</td>\n",
       "      <td>Positive</td>\n",
       "      <td>Positive</td>\n",
       "      <td>14</td>\n",
       "      <td>5</td>\n",
       "      <td>62</td>\n",
       "      <td>Alive</td>\n",
       "    </tr>\n",
       "    <tr>\n",
       "      <th>2</th>\n",
       "      <td>58</td>\n",
       "      <td>White</td>\n",
       "      <td>Divorced</td>\n",
       "      <td>T3</td>\n",
       "      <td>N3</td>\n",
       "      <td>IIIC</td>\n",
       "      <td>Moderately differentiated</td>\n",
       "      <td>2</td>\n",
       "      <td>Regional</td>\n",
       "      <td>63</td>\n",
       "      <td>Positive</td>\n",
       "      <td>Positive</td>\n",
       "      <td>14</td>\n",
       "      <td>7</td>\n",
       "      <td>75</td>\n",
       "      <td>Alive</td>\n",
       "    </tr>\n",
       "    <tr>\n",
       "      <th>3</th>\n",
       "      <td>58</td>\n",
       "      <td>White</td>\n",
       "      <td>Married</td>\n",
       "      <td>T1</td>\n",
       "      <td>N1</td>\n",
       "      <td>IIA</td>\n",
       "      <td>Poorly differentiated</td>\n",
       "      <td>3</td>\n",
       "      <td>Regional</td>\n",
       "      <td>18</td>\n",
       "      <td>Positive</td>\n",
       "      <td>Positive</td>\n",
       "      <td>2</td>\n",
       "      <td>1</td>\n",
       "      <td>84</td>\n",
       "      <td>Alive</td>\n",
       "    </tr>\n",
       "    <tr>\n",
       "      <th>4</th>\n",
       "      <td>47</td>\n",
       "      <td>White</td>\n",
       "      <td>Married</td>\n",
       "      <td>T2</td>\n",
       "      <td>N1</td>\n",
       "      <td>IIB</td>\n",
       "      <td>Poorly differentiated</td>\n",
       "      <td>3</td>\n",
       "      <td>Regional</td>\n",
       "      <td>41</td>\n",
       "      <td>Positive</td>\n",
       "      <td>Positive</td>\n",
       "      <td>3</td>\n",
       "      <td>1</td>\n",
       "      <td>50</td>\n",
       "      <td>Alive</td>\n",
       "    </tr>\n",
       "    <tr>\n",
       "      <th>...</th>\n",
       "      <td>...</td>\n",
       "      <td>...</td>\n",
       "      <td>...</td>\n",
       "      <td>...</td>\n",
       "      <td>...</td>\n",
       "      <td>...</td>\n",
       "      <td>...</td>\n",
       "      <td>...</td>\n",
       "      <td>...</td>\n",
       "      <td>...</td>\n",
       "      <td>...</td>\n",
       "      <td>...</td>\n",
       "      <td>...</td>\n",
       "      <td>...</td>\n",
       "      <td>...</td>\n",
       "      <td>...</td>\n",
       "    </tr>\n",
       "    <tr>\n",
       "      <th>4019</th>\n",
       "      <td>62</td>\n",
       "      <td>Other</td>\n",
       "      <td>Married</td>\n",
       "      <td>T1</td>\n",
       "      <td>N1</td>\n",
       "      <td>IIA</td>\n",
       "      <td>Moderately differentiated</td>\n",
       "      <td>2</td>\n",
       "      <td>Regional</td>\n",
       "      <td>9</td>\n",
       "      <td>Positive</td>\n",
       "      <td>Positive</td>\n",
       "      <td>1</td>\n",
       "      <td>1</td>\n",
       "      <td>49</td>\n",
       "      <td>Alive</td>\n",
       "    </tr>\n",
       "    <tr>\n",
       "      <th>4020</th>\n",
       "      <td>56</td>\n",
       "      <td>White</td>\n",
       "      <td>Divorced</td>\n",
       "      <td>T2</td>\n",
       "      <td>N2</td>\n",
       "      <td>IIIA</td>\n",
       "      <td>Moderately differentiated</td>\n",
       "      <td>2</td>\n",
       "      <td>Regional</td>\n",
       "      <td>46</td>\n",
       "      <td>Positive</td>\n",
       "      <td>Positive</td>\n",
       "      <td>14</td>\n",
       "      <td>8</td>\n",
       "      <td>69</td>\n",
       "      <td>Alive</td>\n",
       "    </tr>\n",
       "    <tr>\n",
       "      <th>4021</th>\n",
       "      <td>68</td>\n",
       "      <td>White</td>\n",
       "      <td>Married</td>\n",
       "      <td>T2</td>\n",
       "      <td>N1</td>\n",
       "      <td>IIB</td>\n",
       "      <td>Moderately differentiated</td>\n",
       "      <td>2</td>\n",
       "      <td>Regional</td>\n",
       "      <td>22</td>\n",
       "      <td>Positive</td>\n",
       "      <td>Negative</td>\n",
       "      <td>11</td>\n",
       "      <td>3</td>\n",
       "      <td>69</td>\n",
       "      <td>Alive</td>\n",
       "    </tr>\n",
       "    <tr>\n",
       "      <th>4022</th>\n",
       "      <td>58</td>\n",
       "      <td>Black</td>\n",
       "      <td>Divorced</td>\n",
       "      <td>T2</td>\n",
       "      <td>N1</td>\n",
       "      <td>IIB</td>\n",
       "      <td>Moderately differentiated</td>\n",
       "      <td>2</td>\n",
       "      <td>Regional</td>\n",
       "      <td>44</td>\n",
       "      <td>Positive</td>\n",
       "      <td>Positive</td>\n",
       "      <td>11</td>\n",
       "      <td>1</td>\n",
       "      <td>72</td>\n",
       "      <td>Alive</td>\n",
       "    </tr>\n",
       "    <tr>\n",
       "      <th>4023</th>\n",
       "      <td>46</td>\n",
       "      <td>White</td>\n",
       "      <td>Married</td>\n",
       "      <td>T2</td>\n",
       "      <td>N1</td>\n",
       "      <td>IIB</td>\n",
       "      <td>Moderately differentiated</td>\n",
       "      <td>2</td>\n",
       "      <td>Regional</td>\n",
       "      <td>30</td>\n",
       "      <td>Positive</td>\n",
       "      <td>Positive</td>\n",
       "      <td>7</td>\n",
       "      <td>2</td>\n",
       "      <td>100</td>\n",
       "      <td>Alive</td>\n",
       "    </tr>\n",
       "  </tbody>\n",
       "</table>\n",
       "<p>4024 rows × 16 columns</p>\n",
       "</div>"
      ],
      "text/plain": [
       "      Age   Race Marital Status T Stage  N Stage 6th Stage  \\\n",
       "0      68  White        Married       T1      N1       IIA   \n",
       "1      50  White        Married       T2      N2      IIIA   \n",
       "2      58  White       Divorced       T3      N3      IIIC   \n",
       "3      58  White        Married       T1      N1       IIA   \n",
       "4      47  White        Married       T2      N1       IIB   \n",
       "...   ...    ...            ...      ...     ...       ...   \n",
       "4019   62  Other        Married       T1      N1       IIA   \n",
       "4020   56  White       Divorced       T2      N2      IIIA   \n",
       "4021   68  White        Married       T2      N1       IIB   \n",
       "4022   58  Black       Divorced       T2      N1       IIB   \n",
       "4023   46  White        Married       T2      N1       IIB   \n",
       "\n",
       "                  differentiate Grade   A Stage  Tumor Size Estrogen Status  \\\n",
       "0         Poorly differentiated     3  Regional           4        Positive   \n",
       "1     Moderately differentiated     2  Regional          35        Positive   \n",
       "2     Moderately differentiated     2  Regional          63        Positive   \n",
       "3         Poorly differentiated     3  Regional          18        Positive   \n",
       "4         Poorly differentiated     3  Regional          41        Positive   \n",
       "...                         ...   ...       ...         ...             ...   \n",
       "4019  Moderately differentiated     2  Regional           9        Positive   \n",
       "4020  Moderately differentiated     2  Regional          46        Positive   \n",
       "4021  Moderately differentiated     2  Regional          22        Positive   \n",
       "4022  Moderately differentiated     2  Regional          44        Positive   \n",
       "4023  Moderately differentiated     2  Regional          30        Positive   \n",
       "\n",
       "     Progesterone Status  Regional Node Examined  Reginol Node Positive  \\\n",
       "0               Positive                      24                      1   \n",
       "1               Positive                      14                      5   \n",
       "2               Positive                      14                      7   \n",
       "3               Positive                       2                      1   \n",
       "4               Positive                       3                      1   \n",
       "...                  ...                     ...                    ...   \n",
       "4019            Positive                       1                      1   \n",
       "4020            Positive                      14                      8   \n",
       "4021            Negative                      11                      3   \n",
       "4022            Positive                      11                      1   \n",
       "4023            Positive                       7                      2   \n",
       "\n",
       "      Survival Months Status  \n",
       "0                  60  Alive  \n",
       "1                  62  Alive  \n",
       "2                  75  Alive  \n",
       "3                  84  Alive  \n",
       "4                  50  Alive  \n",
       "...               ...    ...  \n",
       "4019               49  Alive  \n",
       "4020               69  Alive  \n",
       "4021               69  Alive  \n",
       "4022               72  Alive  \n",
       "4023              100  Alive  \n",
       "\n",
       "[4024 rows x 16 columns]"
      ]
     },
     "execution_count": 4,
     "metadata": {},
     "output_type": "execute_result"
    }
   ],
   "source": [
    "# loading data from a local file\n",
    "\n",
    "data = pd.read_csv('Breast_Cancer.csv')\n",
    "\n",
    "data"
   ]
  },
  {
   "cell_type": "code",
   "execution_count": null,
   "metadata": {},
   "outputs": [],
   "source": [
    "!pip install mysql-connector-python"
   ]
  },
  {
   "cell_type": "code",
   "execution_count": 28,
   "metadata": {},
   "outputs": [
    {
     "name": "stdout",
     "output_type": "stream",
     "text": [
      "connected to northwind successfully\n"
     ]
    },
    {
     "data": {
      "text/html": [
       "<div>\n",
       "<style scoped>\n",
       "    .dataframe tbody tr th:only-of-type {\n",
       "        vertical-align: middle;\n",
       "    }\n",
       "\n",
       "    .dataframe tbody tr th {\n",
       "        vertical-align: top;\n",
       "    }\n",
       "\n",
       "    .dataframe thead th {\n",
       "        text-align: right;\n",
       "    }\n",
       "</style>\n",
       "<table border=\"1\" class=\"dataframe\">\n",
       "  <thead>\n",
       "    <tr style=\"text-align: right;\">\n",
       "      <th></th>\n",
       "      <th>orderid</th>\n",
       "      <th>freight</th>\n",
       "      <th>shipcountry</th>\n",
       "    </tr>\n",
       "  </thead>\n",
       "  <tbody>\n",
       "    <tr>\n",
       "      <th>0</th>\n",
       "      <td>10248</td>\n",
       "      <td>32.3800</td>\n",
       "      <td>France</td>\n",
       "    </tr>\n",
       "    <tr>\n",
       "      <th>1</th>\n",
       "      <td>10249</td>\n",
       "      <td>11.6100</td>\n",
       "      <td>Germany</td>\n",
       "    </tr>\n",
       "    <tr>\n",
       "      <th>2</th>\n",
       "      <td>10250</td>\n",
       "      <td>65.8300</td>\n",
       "      <td>Brazil</td>\n",
       "    </tr>\n",
       "    <tr>\n",
       "      <th>3</th>\n",
       "      <td>10251</td>\n",
       "      <td>41.3400</td>\n",
       "      <td>France</td>\n",
       "    </tr>\n",
       "    <tr>\n",
       "      <th>4</th>\n",
       "      <td>10252</td>\n",
       "      <td>51.3000</td>\n",
       "      <td>Belgium</td>\n",
       "    </tr>\n",
       "    <tr>\n",
       "      <th>5</th>\n",
       "      <td>10253</td>\n",
       "      <td>58.1700</td>\n",
       "      <td>Brazil</td>\n",
       "    </tr>\n",
       "    <tr>\n",
       "      <th>6</th>\n",
       "      <td>10254</td>\n",
       "      <td>22.9800</td>\n",
       "      <td>Switzerland</td>\n",
       "    </tr>\n",
       "    <tr>\n",
       "      <th>7</th>\n",
       "      <td>10255</td>\n",
       "      <td>148.3300</td>\n",
       "      <td>Switzerland</td>\n",
       "    </tr>\n",
       "    <tr>\n",
       "      <th>8</th>\n",
       "      <td>10256</td>\n",
       "      <td>13.9700</td>\n",
       "      <td>Brazil</td>\n",
       "    </tr>\n",
       "    <tr>\n",
       "      <th>9</th>\n",
       "      <td>10257</td>\n",
       "      <td>81.9100</td>\n",
       "      <td>Venezuela</td>\n",
       "    </tr>\n",
       "    <tr>\n",
       "      <th>10</th>\n",
       "      <td>10258</td>\n",
       "      <td>140.5100</td>\n",
       "      <td>Austria</td>\n",
       "    </tr>\n",
       "    <tr>\n",
       "      <th>11</th>\n",
       "      <td>10259</td>\n",
       "      <td>3.2500</td>\n",
       "      <td>Mexico</td>\n",
       "    </tr>\n",
       "    <tr>\n",
       "      <th>12</th>\n",
       "      <td>10260</td>\n",
       "      <td>55.0900</td>\n",
       "      <td>Germany</td>\n",
       "    </tr>\n",
       "    <tr>\n",
       "      <th>13</th>\n",
       "      <td>10261</td>\n",
       "      <td>3.0500</td>\n",
       "      <td>Brazil</td>\n",
       "    </tr>\n",
       "    <tr>\n",
       "      <th>14</th>\n",
       "      <td>10262</td>\n",
       "      <td>48.2900</td>\n",
       "      <td>USA</td>\n",
       "    </tr>\n",
       "    <tr>\n",
       "      <th>15</th>\n",
       "      <td>10263</td>\n",
       "      <td>146.0600</td>\n",
       "      <td>Austria</td>\n",
       "    </tr>\n",
       "    <tr>\n",
       "      <th>16</th>\n",
       "      <td>10264</td>\n",
       "      <td>3.6700</td>\n",
       "      <td>Sweden</td>\n",
       "    </tr>\n",
       "    <tr>\n",
       "      <th>17</th>\n",
       "      <td>10265</td>\n",
       "      <td>55.2800</td>\n",
       "      <td>France</td>\n",
       "    </tr>\n",
       "    <tr>\n",
       "      <th>18</th>\n",
       "      <td>10266</td>\n",
       "      <td>25.7300</td>\n",
       "      <td>Finland</td>\n",
       "    </tr>\n",
       "    <tr>\n",
       "      <th>19</th>\n",
       "      <td>10267</td>\n",
       "      <td>208.5800</td>\n",
       "      <td>Germany</td>\n",
       "    </tr>\n",
       "    <tr>\n",
       "      <th>20</th>\n",
       "      <td>10268</td>\n",
       "      <td>66.2900</td>\n",
       "      <td>Venezuela</td>\n",
       "    </tr>\n",
       "    <tr>\n",
       "      <th>21</th>\n",
       "      <td>10269</td>\n",
       "      <td>4.5600</td>\n",
       "      <td>USA</td>\n",
       "    </tr>\n",
       "    <tr>\n",
       "      <th>22</th>\n",
       "      <td>10270</td>\n",
       "      <td>136.5400</td>\n",
       "      <td>Finland</td>\n",
       "    </tr>\n",
       "    <tr>\n",
       "      <th>23</th>\n",
       "      <td>10271</td>\n",
       "      <td>4.5400</td>\n",
       "      <td>USA</td>\n",
       "    </tr>\n",
       "    <tr>\n",
       "      <th>24</th>\n",
       "      <td>10272</td>\n",
       "      <td>98.0300</td>\n",
       "      <td>USA</td>\n",
       "    </tr>\n",
       "    <tr>\n",
       "      <th>25</th>\n",
       "      <td>10273</td>\n",
       "      <td>76.0700</td>\n",
       "      <td>Germany</td>\n",
       "    </tr>\n",
       "    <tr>\n",
       "      <th>26</th>\n",
       "      <td>10274</td>\n",
       "      <td>6.0100</td>\n",
       "      <td>France</td>\n",
       "    </tr>\n",
       "    <tr>\n",
       "      <th>27</th>\n",
       "      <td>10275</td>\n",
       "      <td>26.9300</td>\n",
       "      <td>Italy</td>\n",
       "    </tr>\n",
       "    <tr>\n",
       "      <th>28</th>\n",
       "      <td>10276</td>\n",
       "      <td>13.8400</td>\n",
       "      <td>Mexico</td>\n",
       "    </tr>\n",
       "    <tr>\n",
       "      <th>29</th>\n",
       "      <td>10277</td>\n",
       "      <td>125.7700</td>\n",
       "      <td>Germany</td>\n",
       "    </tr>\n",
       "    <tr>\n",
       "      <th>30</th>\n",
       "      <td>10278</td>\n",
       "      <td>92.6900</td>\n",
       "      <td>Sweden</td>\n",
       "    </tr>\n",
       "    <tr>\n",
       "      <th>31</th>\n",
       "      <td>10279</td>\n",
       "      <td>25.8300</td>\n",
       "      <td>Germany</td>\n",
       "    </tr>\n",
       "    <tr>\n",
       "      <th>32</th>\n",
       "      <td>10280</td>\n",
       "      <td>8.9800</td>\n",
       "      <td>Sweden</td>\n",
       "    </tr>\n",
       "    <tr>\n",
       "      <th>33</th>\n",
       "      <td>10281</td>\n",
       "      <td>2.9400</td>\n",
       "      <td>Spain</td>\n",
       "    </tr>\n",
       "    <tr>\n",
       "      <th>34</th>\n",
       "      <td>10282</td>\n",
       "      <td>12.6900</td>\n",
       "      <td>Spain</td>\n",
       "    </tr>\n",
       "    <tr>\n",
       "      <th>35</th>\n",
       "      <td>10283</td>\n",
       "      <td>84.8100</td>\n",
       "      <td>Venezuela</td>\n",
       "    </tr>\n",
       "    <tr>\n",
       "      <th>36</th>\n",
       "      <td>10284</td>\n",
       "      <td>76.5600</td>\n",
       "      <td>Germany</td>\n",
       "    </tr>\n",
       "    <tr>\n",
       "      <th>37</th>\n",
       "      <td>10285</td>\n",
       "      <td>76.8300</td>\n",
       "      <td>Germany</td>\n",
       "    </tr>\n",
       "    <tr>\n",
       "      <th>38</th>\n",
       "      <td>10286</td>\n",
       "      <td>229.2400</td>\n",
       "      <td>Germany</td>\n",
       "    </tr>\n",
       "    <tr>\n",
       "      <th>39</th>\n",
       "      <td>10287</td>\n",
       "      <td>12.7600</td>\n",
       "      <td>Brazil</td>\n",
       "    </tr>\n",
       "    <tr>\n",
       "      <th>40</th>\n",
       "      <td>10288</td>\n",
       "      <td>7.4500</td>\n",
       "      <td>Italy</td>\n",
       "    </tr>\n",
       "    <tr>\n",
       "      <th>41</th>\n",
       "      <td>10289</td>\n",
       "      <td>22.7700</td>\n",
       "      <td>UK</td>\n",
       "    </tr>\n",
       "    <tr>\n",
       "      <th>42</th>\n",
       "      <td>10290</td>\n",
       "      <td>79.7000</td>\n",
       "      <td>Brazil</td>\n",
       "    </tr>\n",
       "    <tr>\n",
       "      <th>43</th>\n",
       "      <td>10291</td>\n",
       "      <td>6.4000</td>\n",
       "      <td>Brazil</td>\n",
       "    </tr>\n",
       "    <tr>\n",
       "      <th>44</th>\n",
       "      <td>10292</td>\n",
       "      <td>1.3500</td>\n",
       "      <td>Brazil</td>\n",
       "    </tr>\n",
       "    <tr>\n",
       "      <th>45</th>\n",
       "      <td>10293</td>\n",
       "      <td>21.1800</td>\n",
       "      <td>Mexico</td>\n",
       "    </tr>\n",
       "    <tr>\n",
       "      <th>46</th>\n",
       "      <td>10294</td>\n",
       "      <td>147.2600</td>\n",
       "      <td>USA</td>\n",
       "    </tr>\n",
       "    <tr>\n",
       "      <th>47</th>\n",
       "      <td>10295</td>\n",
       "      <td>1.1500</td>\n",
       "      <td>France</td>\n",
       "    </tr>\n",
       "    <tr>\n",
       "      <th>48</th>\n",
       "      <td>10296</td>\n",
       "      <td>0.1200</td>\n",
       "      <td>Venezuela</td>\n",
       "    </tr>\n",
       "    <tr>\n",
       "      <th>49</th>\n",
       "      <td>10297</td>\n",
       "      <td>5.7400</td>\n",
       "      <td>France</td>\n",
       "    </tr>\n",
       "  </tbody>\n",
       "</table>\n",
       "</div>"
      ],
      "text/plain": [
       "    orderid   freight  shipcountry\n",
       "0     10248   32.3800       France\n",
       "1     10249   11.6100      Germany\n",
       "2     10250   65.8300       Brazil\n",
       "3     10251   41.3400       France\n",
       "4     10252   51.3000      Belgium\n",
       "5     10253   58.1700       Brazil\n",
       "6     10254   22.9800  Switzerland\n",
       "7     10255  148.3300  Switzerland\n",
       "8     10256   13.9700       Brazil\n",
       "9     10257   81.9100    Venezuela\n",
       "10    10258  140.5100      Austria\n",
       "11    10259    3.2500       Mexico\n",
       "12    10260   55.0900      Germany\n",
       "13    10261    3.0500       Brazil\n",
       "14    10262   48.2900          USA\n",
       "15    10263  146.0600      Austria\n",
       "16    10264    3.6700       Sweden\n",
       "17    10265   55.2800       France\n",
       "18    10266   25.7300      Finland\n",
       "19    10267  208.5800      Germany\n",
       "20    10268   66.2900    Venezuela\n",
       "21    10269    4.5600          USA\n",
       "22    10270  136.5400      Finland\n",
       "23    10271    4.5400          USA\n",
       "24    10272   98.0300          USA\n",
       "25    10273   76.0700      Germany\n",
       "26    10274    6.0100       France\n",
       "27    10275   26.9300        Italy\n",
       "28    10276   13.8400       Mexico\n",
       "29    10277  125.7700      Germany\n",
       "30    10278   92.6900       Sweden\n",
       "31    10279   25.8300      Germany\n",
       "32    10280    8.9800       Sweden\n",
       "33    10281    2.9400        Spain\n",
       "34    10282   12.6900        Spain\n",
       "35    10283   84.8100    Venezuela\n",
       "36    10284   76.5600      Germany\n",
       "37    10285   76.8300      Germany\n",
       "38    10286  229.2400      Germany\n",
       "39    10287   12.7600       Brazil\n",
       "40    10288    7.4500        Italy\n",
       "41    10289   22.7700           UK\n",
       "42    10290   79.7000       Brazil\n",
       "43    10291    6.4000       Brazil\n",
       "44    10292    1.3500       Brazil\n",
       "45    10293   21.1800       Mexico\n",
       "46    10294  147.2600          USA\n",
       "47    10295    1.1500       France\n",
       "48    10296    0.1200    Venezuela\n",
       "49    10297    5.7400       France"
      ]
     },
     "execution_count": 28,
     "metadata": {},
     "output_type": "execute_result"
    }
   ],
   "source": [
    "import mysql.connector\n",
    "from mysql.connector import Error \n",
    "from IPython.display import clear_output\n",
    "\n",
    "\n",
    "def db_connect(user_name, host_name, db_name, password):\n",
    "    connection = None\n",
    "    try:\n",
    "        connection = mysql.connector.connect(\n",
    "            user = user_name,\n",
    "            host = host_name,\n",
    "            database = db_name,\n",
    "            passwd = password\n",
    "        )\n",
    "        print(f'connected to {db_name} successfully')\n",
    "    except Error as err:\n",
    "        print(f\"Error: {err}\")\n",
    "    \n",
    "    return connection\n",
    "\n",
    "pw = input('password: ')\n",
    "clear_output()\n",
    "\n",
    "connection = db_connect(user_name='root',host_name='localhost',\n",
    "                        db_name='northwind',password=pw)\n",
    "\n",
    " \n",
    "def read_query(connection, query):\n",
    "    result = None\n",
    "    cursor = connection.cursor()\n",
    "    try:\n",
    "        cursor.execute(query)\n",
    "        result = cursor.fetchall()\n",
    "    except Error as err:\n",
    "        print(f\"Error: {err}\")\n",
    "    \n",
    "    return result\n",
    "\n",
    "\n",
    "query_1 = '''\n",
    "\n",
    "select orderid, freight, shipcountry\n",
    "from orders\n",
    "limit 50;\n",
    "'''\n",
    "\n",
    "data = read_query(connection=connection, query= query_1)\n",
    "data\n",
    "\n",
    "# converting to dataframe\n",
    "data_list = []\n",
    "\n",
    "for row in data:\n",
    "    row = list(row)\n",
    "    data_list.append(row)\n",
    "\n",
    "columns = ['orderid','freight','shipcountry']\n",
    "\n",
    "order_df = pd.DataFrame(data=data_list, columns=columns)\n",
    "\n",
    "order_df"
   ]
  },
  {
   "cell_type": "code",
   "execution_count": 26,
   "metadata": {},
   "outputs": [
    {
     "name": "stdout",
     "output_type": "stream",
     "text": [
      "None\n"
     ]
    }
   ],
   "source": [
    "print(data)"
   ]
  },
  {
   "cell_type": "code",
   "execution_count": 12,
   "metadata": {},
   "outputs": [],
   "source": [
    "def count_vowels(name):\n",
    "    count = []\n",
    "    vowel = ['a','e','i','o','u']\n",
    "    for letter in name:\n",
    "        if letter in vowel and letter not in count:\n",
    "            count.append(letter)\n",
    "        else:\n",
    "            pass\n",
    "    return len(count)"
   ]
  },
  {
   "cell_type": "code",
   "execution_count": 13,
   "metadata": {},
   "outputs": [
    {
     "data": {
      "text/plain": [
       "2"
      ]
     },
     "execution_count": 13,
     "metadata": {},
     "output_type": "execute_result"
    }
   ],
   "source": [
    "count_vowels('tomisin')"
   ]
  },
  {
   "cell_type": "code",
   "execution_count": 14,
   "metadata": {},
   "outputs": [
    {
     "data": {
      "text/plain": [
       "2"
      ]
     },
     "execution_count": 14,
     "metadata": {},
     "output_type": "execute_result"
    }
   ],
   "source": [
    "count_vowels('ugochukwu')"
   ]
  },
  {
   "cell_type": "code",
   "execution_count": 21,
   "metadata": {},
   "outputs": [],
   "source": [
    "def get_dollar(naira, rate):\n",
    "    try:\n",
    "        dollar = naira / rate\n",
    "    except ZeroDivisionError:\n",
    "        return f'You no wise' \n",
    "    \n",
    "    return dollar\n",
    "    "
   ]
  },
  {
   "cell_type": "code",
   "execution_count": 22,
   "metadata": {},
   "outputs": [
    {
     "data": {
      "text/plain": [
       "33.333333333333336"
      ]
     },
     "execution_count": 22,
     "metadata": {},
     "output_type": "execute_result"
    }
   ],
   "source": [
    "get_dollar(50000, 1500)"
   ]
  },
  {
   "cell_type": "code",
   "execution_count": 23,
   "metadata": {},
   "outputs": [
    {
     "data": {
      "text/plain": [
       "'You no wise'"
      ]
     },
     "execution_count": 23,
     "metadata": {},
     "output_type": "execute_result"
    }
   ],
   "source": [
    "get_dollar(150000, 0)"
   ]
  },
  {
   "cell_type": "code",
   "execution_count": null,
   "metadata": {},
   "outputs": [],
   "source": []
  }
 ],
 "metadata": {
  "kernelspec": {
   "display_name": "base",
   "language": "python",
   "name": "python3"
  },
  "language_info": {
   "codemirror_mode": {
    "name": "ipython",
    "version": 3
   },
   "file_extension": ".py",
   "mimetype": "text/x-python",
   "name": "python",
   "nbconvert_exporter": "python",
   "pygments_lexer": "ipython3",
   "version": "3.11.4"
  }
 },
 "nbformat": 4,
 "nbformat_minor": 2
}

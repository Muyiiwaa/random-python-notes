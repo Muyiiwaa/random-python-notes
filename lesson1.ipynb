{
 "cells": [
  {
   "cell_type": "code",
   "execution_count": 1,
   "metadata": {},
   "outputs": [
    {
     "data": {
      "text/plain": [
       "4"
      ]
     },
     "execution_count": 1,
     "metadata": {},
     "output_type": "execute_result"
    }
   ],
   "source": [
    "2+2"
   ]
  },
  {
   "cell_type": "markdown",
   "metadata": {},
   "source": [
    "### Findings\n",
    "\n",
    "I have just discovered the following:\n",
    "\n",
    "* That 2+2 is 4 \n",
    "* That 2+2 is 4 every time"
   ]
  },
  {
   "cell_type": "markdown",
   "metadata": {},
   "source": [
    "### Variables and Datatypes"
   ]
  },
  {
   "cell_type": "markdown",
   "metadata": {},
   "source": [
    "#### DataTypes in Python\n",
    "\n",
    "datatypes | examples\n",
    ":---------|---------:\n",
    "int    | 2,3,4,5,6\n",
    "float | 2.4, 4.5\n",
    "strings | 'taye', 'wole', 'femi', 'dog'\n",
    "boolean | True or False\n",
    "list | [1,2,3,4], ['ade', 'segun']\n",
    "tuple | ('ade', 'segun')\n",
    "dictionaries | {'lagos:ikeja,'kwara':'ilorin'}\n",
    "sets | (1,2,3,4)"
   ]
  },
  {
   "cell_type": "code",
   "execution_count": 6,
   "metadata": {},
   "outputs": [],
   "source": [
    "#understanding variables\n",
    "\n",
    "age = 25\n",
    "name = 'Segun'\n",
    "\n",
    "# get segun's age in 3 years time\n",
    "age_2027 = age + 3"
   ]
  },
  {
   "cell_type": "code",
   "execution_count": 7,
   "metadata": {},
   "outputs": [
    {
     "data": {
      "text/plain": [
       "28"
      ]
     },
     "execution_count": 7,
     "metadata": {},
     "output_type": "execute_result"
    }
   ],
   "source": [
    "age_2027"
   ]
  },
  {
   "cell_type": "code",
   "execution_count": 19,
   "metadata": {},
   "outputs": [
    {
     "name": "stdout",
     "output_type": "stream",
     "text": [
      "Hi bola, you are 21 years old\n",
      "Hibola, you are 21 years old\n"
     ]
    }
   ],
   "source": [
    "# write a programme that calculates someones age just by acceptin their birth year\n",
    "\n",
    "year_of_birth = int(input('Enter your year of birth: '))\n",
    "name = input('Enter your name: ')\n",
    "age = 2024 - year_of_birth\n",
    "print(f'Hi {name}, you are {age} years old')"
   ]
  },
  {
   "cell_type": "code",
   "execution_count": 20,
   "metadata": {},
   "outputs": [
    {
     "name": "stdout",
     "output_type": "stream",
     "text": [
      "Hi Daniel, the interest on 50000.0 for 3 years is 7500.0 at 5% per annum\n",
      "===========================================\n",
      "Total  Amount Payables is 57500.0 naira\n"
     ]
    }
   ],
   "source": [
    "# write a program that returns the interest due on a loan and the amount payable\n",
    "\n",
    "name = input('Welcome, enter your name: ')\n",
    "principal = float(input('Enter the amount you want to borrow: '))\n",
    "time = int(input('For how long: '))\n",
    "rate = 5\n",
    "\n",
    "interest = (principal * rate * time)/100\n",
    "\n",
    "print(f'Hi {name}, the interest on N{principal} for {time} years is N{interest} at {rate}% per annum')\n",
    "print('===========================================')\n",
    "print(f'Total  Amount Payables is {principal + interest} naira')"
   ]
  },
  {
   "cell_type": "markdown",
   "metadata": {},
   "source": [
    "### Exercise\n",
    "\n",
    "* write a program that calculates a person's tax and tithe by knowing their salary\n",
    "tax is 4%, tithe is 10%\n",
    "* The program should return the amount they have paid in tax and tithe and what is left as their take home."
   ]
  },
  {
   "cell_type": "code",
   "execution_count": 1,
   "metadata": {},
   "outputs": [
    {
     "name": "stdout",
     "output_type": "stream",
     "text": [
      "You paid $1600.0 tax, $3840.0 tithe and you have $34560.0 left\n"
     ]
    }
   ],
   "source": [
    "# assignment solution\n",
    "\n",
    "salary = int(input('Enter your salary'))\n",
    "tax = salary * 0.04\n",
    "tithe = (salary - tax) * 0.1\n",
    "print(f'You paid ${tax} tax, ${tithe} tithe and you have ${salary - tithe - tax} left')"
   ]
  },
  {
   "cell_type": "markdown",
   "metadata": {},
   "source": [
    "### LESSON 2\n",
    "\n",
    "#### CONDITIONALS AND ITERABLES "
   ]
  },
  {
   "cell_type": "code",
   "execution_count": 3,
   "metadata": {},
   "outputs": [
    {
     "name": "stdout",
     "output_type": "stream",
     "text": [
      "Benson, you are an adult\n"
     ]
    }
   ],
   "source": [
    "# write a program that checks if someone is a child, adult, teenager or old\n",
    "\n",
    "name = input('Enter your name: ')\n",
    "year_of_birth = int(input(f'Hi {name}, enter your year of birth: '))\n",
    "age = 2024 - year_of_birth\n",
    "\n",
    "if age < 12:\n",
    "    print(f'{name}, you are a child')\n",
    "elif age < 20:\n",
    "    print(f'{name}, you are a teenager')\n",
    "elif age < 59:\n",
    "    print(f'{name}, you are an adult')\n",
    "else:\n",
    "    print(f'{name}, you are a old')"
   ]
  },
  {
   "cell_type": "code",
   "execution_count": 6,
   "metadata": {},
   "outputs": [
    {
     "name": "stdout",
     "output_type": "stream",
     "text": [
      "femi!!! nawa!!\n"
     ]
    }
   ],
   "source": [
    "# mulitiple condition\n",
    "\n",
    "# write a program that outputs a student's admission eligibility. They can get into UI\n",
    "# only if they score above 60 in english and mathematics. However they can get into Bowen\n",
    "# with above  60  in at least one course\n",
    "\n",
    "name = input('Enter your name: ')\n",
    "english = int(input('Engliish: '))\n",
    "maths = int(input('Maths: '))\n",
    "\n",
    "if english > 60 and maths > 60:\n",
    "    print(f'Congrats {name}! you have gotten into UI')\n",
    "elif english > 60 or maths > 60:\n",
    "      print(f'HI {name} welcome to Bowen')\n",
    "else:\n",
    "    print(f'{name}!!! nawa!!')\n",
    "      \n"
   ]
  },
  {
   "cell_type": "code",
   "execution_count": 13,
   "metadata": {},
   "outputs": [
    {
     "name": "stdout",
     "output_type": "stream",
     "text": [
      "ugo,no discount amount payable is $10800.0\n"
     ]
    }
   ],
   "source": [
    "#### NESTED IFs\n",
    "\n",
    "# program that gives someone 3% discount on their loan if they are female, 4% discount\n",
    "# if they are borrowing above 300k, 10% discount if they satisfy both condition.\n",
    "\n",
    "name = input('Enter your name: ')\n",
    "gender = input('Gender: ')\n",
    "principal = float(input('principal: '))\n",
    "time = float(input('time: '))\n",
    "interest_rate = 4 \n",
    "\n",
    "interest = (principal * interest_rate * time)/100\n",
    "\n",
    "if principal > 300000:\n",
    "    if gender == 'female':\n",
    "        print(f\"{name} you've gotten 10% amount payable is ${principal + (interest * 0.90)}\")\n",
    "    else:\n",
    "        print(f\"{name} you've gotten 4% amount payable is ${principal + (interest * 0.96)}\")\n",
    "else:\n",
    "    if gender == 'female':\n",
    "        print(f\"{name} you've gotten 3% amount payable is ${principal + (interest * 0.97)}\")\n",
    "    else:\n",
    "        print(f\"{name},no discount amount payable is ${principal + interest}\")"
   ]
  },
  {
   "cell_type": "markdown",
   "metadata": {},
   "source": [
    "### ITERABLES (LISTS TUPLES AND DICTIONARIS)"
   ]
  },
  {
   "cell_type": "code",
   "execution_count": 41,
   "metadata": {},
   "outputs": [
    {
     "data": {
      "text/plain": [
       "[1, 3, 5, 7, 9, 11, 13, 15, 17, 19]"
      ]
     },
     "execution_count": 41,
     "metadata": {},
     "output_type": "execute_result"
    }
   ],
   "source": [
    "# creating a list\n",
    "\n",
    "students = ['femi','ugo','daniel','tosin','feyi']\n",
    "even_num = list(range(2,21, 2))\n",
    "odd_num = list(range(1,21,2))\n",
    "\n",
    "# check data type\n",
    "type(students)\n",
    "\n",
    "# forward indexing\n",
    "students[1]\n",
    "\n",
    "# backward indexing \n",
    "students[-4]\n",
    "\n",
    "# slicing \n",
    "students[:3]\n",
    "\n",
    "# slicing \n",
    "students[2:]\n",
    "# slicing\n",
    "students[1:3]\n",
    "\n",
    "# slicing multidimensional list\n",
    "staff = [['ugo',250,'male'],\n",
    "         ['feyi',200,'male'],\n",
    "         ['tola',100,'female']]\n",
    "\n",
    "# access ugo's information\n",
    "staff[0]\n",
    "\n",
    "# access feyi's name \n",
    "staff[1][0]\n",
    "\n",
    "# list method and function\n",
    "# counting elements in a list\n",
    "len(students)\n",
    "even_num\n",
    "odd_num"
   ]
  },
  {
   "cell_type": "code",
   "execution_count": null,
   "metadata": {},
   "outputs": [],
   "source": [
    "zeta hy"
   ]
  }
 ],
 "metadata": {
  "kernelspec": {
   "display_name": "base",
   "language": "python",
   "name": "python3"
  },
  "language_info": {
   "codemirror_mode": {
    "name": "ipython",
    "version": 3
   },
   "file_extension": ".py",
   "mimetype": "text/x-python",
   "name": "python",
   "nbconvert_exporter": "python",
   "pygments_lexer": "ipython3",
   "version": "3.11.4"
  }
 },
 "nbformat": 4,
 "nbformat_minor": 2
}

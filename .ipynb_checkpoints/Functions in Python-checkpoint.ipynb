{
 "cells": [
  {
   "cell_type": "markdown",
   "id": "b508f5ac",
   "metadata": {},
   "source": [
    "## Functions"
   ]
  },
  {
   "cell_type": "code",
   "execution_count": 1,
   "id": "2b544d58",
   "metadata": {},
   "outputs": [],
   "source": [
    "# function that greets someone and addresses them by their full name\n",
    "\n",
    "\n",
    "def greet(firstname, lastname):\n",
    "    greeting = f'HI, {firstname} {lastname} how are you today'\n",
    "    print(greeting)"
   ]
  },
  {
   "cell_type": "code",
   "execution_count": 2,
   "id": "42423563",
   "metadata": {},
   "outputs": [
    {
     "name": "stdout",
     "output_type": "stream",
     "text": [
      "HI, George Adeyeye how are you today\n"
     ]
    }
   ],
   "source": [
    "# call the function\n",
    "\n",
    "greet(firstname = 'George', lastname = 'Adeyeye')"
   ]
  },
  {
   "cell_type": "code",
   "execution_count": 3,
   "id": "f82664fc",
   "metadata": {},
   "outputs": [
    {
     "name": "stdout",
     "output_type": "stream",
     "text": [
      "HI, Ife Salami how are you today\n"
     ]
    }
   ],
   "source": [
    "greet(firstname = 'Ife', lastname = 'Salami')"
   ]
  },
  {
   "cell_type": "code",
   "execution_count": 4,
   "id": "a90637fa",
   "metadata": {},
   "outputs": [
    {
     "name": "stdout",
     "output_type": "stream",
     "text": [
      "HI, Segun Martins how are you today\n"
     ]
    }
   ],
   "source": [
    "greet('Segun', 'Martins')"
   ]
  },
  {
   "cell_type": "code",
   "execution_count": 12,
   "id": "c58f6716",
   "metadata": {},
   "outputs": [],
   "source": [
    "# function that returns someone's age.\n",
    "\n",
    "def calculate_age(year):\n",
    "    age = 2023 - year\n",
    "    return age"
   ]
  },
  {
   "cell_type": "code",
   "execution_count": 14,
   "id": "0f29ca62",
   "metadata": {},
   "outputs": [
    {
     "data": {
      "text/plain": [
       "18"
      ]
     },
     "execution_count": 14,
     "metadata": {},
     "output_type": "execute_result"
    }
   ],
   "source": [
    "calculate_age(year = 2005)"
   ]
  },
  {
   "cell_type": "code",
   "execution_count": 15,
   "id": "99cdb4da",
   "metadata": {},
   "outputs": [],
   "source": [
    "# function that finds the lcm of two numbers\n",
    "\n",
    "def get_lcm(num_1, num_2):\n",
    "    \n",
    "    if num_1 > num_2:\n",
    "        greater = num_1\n",
    "    else:\n",
    "        greater = num_2\n",
    "\n",
    "    while True:\n",
    "        if greater % num_1 == 0 and greater % num_2 == 0:\n",
    "            lcm = greater \n",
    "            break\n",
    "        else:\n",
    "            greater += 1\n",
    "            \n",
    "    return lcm"
   ]
  },
  {
   "cell_type": "code",
   "execution_count": 16,
   "id": "624bfed2",
   "metadata": {},
   "outputs": [
    {
     "data": {
      "text/plain": [
       "15"
      ]
     },
     "execution_count": 16,
     "metadata": {},
     "output_type": "execute_result"
    }
   ],
   "source": [
    "get_lcm(3, 5)"
   ]
  },
  {
   "cell_type": "code",
   "execution_count": 17,
   "id": "ebc25de7",
   "metadata": {},
   "outputs": [
    {
     "data": {
      "text/plain": [
       "24"
      ]
     },
     "execution_count": 17,
     "metadata": {},
     "output_type": "execute_result"
    }
   ],
   "source": [
    "get_lcm(2,24)"
   ]
  },
  {
   "cell_type": "code",
   "execution_count": 33,
   "id": "7fe660b0",
   "metadata": {},
   "outputs": [],
   "source": [
    "# function that checks whether a number is prime or not\n",
    "\n",
    "def check_prime(number):\n",
    "    for num in range(2, number):\n",
    "        if number % num == 0:\n",
    "            return False\n",
    "    else:\n",
    "        return True"
   ]
  },
  {
   "cell_type": "code",
   "execution_count": 34,
   "id": "e208a94b",
   "metadata": {},
   "outputs": [
    {
     "data": {
      "text/plain": [
       "True"
      ]
     },
     "execution_count": 34,
     "metadata": {},
     "output_type": "execute_result"
    }
   ],
   "source": [
    "check_prime(number = 13)"
   ]
  },
  {
   "cell_type": "code",
   "execution_count": 35,
   "id": "c5e7220e",
   "metadata": {},
   "outputs": [],
   "source": [
    "# function that returns the prime number within a given range\n",
    "\n",
    "def get_primes(lower, upper):\n",
    "    \n",
    "    prime_list = []\n",
    "    \n",
    "    for num in range(lower, upper):\n",
    "        if check_prime(num) == True:\n",
    "            prime_list.append(num)\n",
    "            \n",
    "    return prime_list\n",
    "            \n",
    "\n"
   ]
  },
  {
   "cell_type": "code",
   "execution_count": 3,
   "id": "6b16da3e",
   "metadata": {},
   "outputs": [
    {
     "data": {
      "text/plain": [
       "[2, 3, 4, 5, 6, 7]"
      ]
     },
     "execution_count": 3,
     "metadata": {},
     "output_type": "execute_result"
    }
   ],
   "source": [
    "def abc(*nums):\n",
    "    nums = list(nums)\n",
    "    return nums\n",
    "\n",
    "\n",
    "\n",
    "abc(2,3,4,5,6,7)"
   ]
  },
  {
   "cell_type": "code",
   "execution_count": 36,
   "id": "4aeb9567",
   "metadata": {},
   "outputs": [
    {
     "data": {
      "text/plain": [
       "[11, 13, 17, 19]"
      ]
     },
     "execution_count": 36,
     "metadata": {},
     "output_type": "execute_result"
    }
   ],
   "source": [
    "get_primes(10,20)"
   ]
  },
  {
   "cell_type": "code",
   "execution_count": 37,
   "id": "f8b324e8",
   "metadata": {},
   "outputs": [],
   "source": [
    "# function that returns the total number of prime numbers between a range\n",
    "\n",
    "\n",
    "def count_primes(lower, upper):\n",
    "    return len(get_primes(lower, upper))"
   ]
  },
  {
   "cell_type": "code",
   "execution_count": 39,
   "id": "e954835c",
   "metadata": {},
   "outputs": [
    {
     "data": {
      "text/plain": [
       "21"
      ]
     },
     "execution_count": 39,
     "metadata": {},
     "output_type": "execute_result"
    }
   ],
   "source": [
    "count_primes(100,200)"
   ]
  },
  {
   "cell_type": "code",
   "execution_count": 1,
   "id": "662edc4d",
   "metadata": {},
   "outputs": [
    {
     "name": "stdout",
     "output_type": "stream",
     "text": [
      "rice 2\n",
      "beans 3\n",
      "beans 4\n"
     ]
    }
   ],
   "source": [
    "# function that returns the number of even numbers within a range\n",
    "\n",
    "\n",
    "\n",
    "a = ['rice', 'beans', 'beans']\n",
    "b = [2,3,4]\n",
    "\n",
    "for i, element in enumerate(a):\n",
    "    print(element, b[i])"
   ]
  },
  {
   "cell_type": "code",
   "execution_count": null,
   "id": "c71257db",
   "metadata": {},
   "outputs": [],
   "source": []
  }
 ],
 "metadata": {
  "kernelspec": {
   "display_name": "Python 3 (ipykernel)",
   "language": "python",
   "name": "python3"
  },
  "language_info": {
   "codemirror_mode": {
    "name": "ipython",
    "version": 3
   },
   "file_extension": ".py",
   "mimetype": "text/x-python",
   "name": "python",
   "nbconvert_exporter": "python",
   "pygments_lexer": "ipython3",
   "version": "3.11.4"
  }
 },
 "nbformat": 4,
 "nbformat_minor": 5
}

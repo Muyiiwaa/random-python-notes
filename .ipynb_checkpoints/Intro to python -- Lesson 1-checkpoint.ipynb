{
 "cells": [
  {
   "cell_type": "code",
   "execution_count": 3,
   "id": "fe9b2742",
   "metadata": {
    "scrolled": true
   },
   "outputs": [
    {
     "name": "stdout",
     "output_type": "stream",
     "text": [
      "Enter your name: Taiwo\n",
      "Hi Taiwo, welcome to Class\n"
     ]
    }
   ],
   "source": [
    "name = input('Enter your name: ')\n",
    "print(f'Hi {name}, welcome to Class')"
   ]
  },
  {
   "cell_type": "markdown",
   "id": "afdcaa3f",
   "metadata": {},
   "source": [
    "# Biggest Title\n",
    "## Bigger Title\n",
    "### Big Title\n",
    "#### Title\n",
    "\n",
    "\n",
    "This is some texts about whatever"
   ]
  },
  {
   "cell_type": "code",
   "execution_count": 2,
   "id": "949a1e55",
   "metadata": {},
   "outputs": [
    {
     "data": {
      "text/plain": [
       "4"
      ]
     },
     "execution_count": 2,
     "metadata": {},
     "output_type": "execute_result"
    }
   ],
   "source": [
    "2+2"
   ]
  },
  {
   "cell_type": "code",
   "execution_count": null,
   "id": "729da928",
   "metadata": {},
   "outputs": [],
   "source": []
  }
 ],
 "metadata": {
  "kernelspec": {
   "display_name": "Python 3 (ipykernel)",
   "language": "python",
   "name": "python3"
  },
  "language_info": {
   "codemirror_mode": {
    "name": "ipython",
    "version": 3
   },
   "file_extension": ".py",
   "mimetype": "text/x-python",
   "name": "python",
   "nbconvert_exporter": "python",
   "pygments_lexer": "ipython3",
   "version": "3.11.4"
  }
 },
 "nbformat": 4,
 "nbformat_minor": 5
}

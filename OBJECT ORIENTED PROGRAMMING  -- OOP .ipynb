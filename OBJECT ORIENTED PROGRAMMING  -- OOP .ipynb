{
 "cells": [
  {
   "cell_type": "code",
   "execution_count": 1,
   "id": "fd04ba50",
   "metadata": {},
   "outputs": [],
   "source": [
    "# write a program that creates a dog object\n",
    "\n",
    "\n",
    "class Dog:\n",
    "    \n",
    "    def __init__(self,name, color,age):\n",
    "        self.name = name\n",
    "        self.age = age\n",
    "        self.color = color\n",
    "        \n",
    "    def bark(self):\n",
    "        print(f'Woof! Woof!!')"
   ]
  },
  {
   "cell_type": "code",
   "execution_count": 2,
   "id": "be924327",
   "metadata": {},
   "outputs": [],
   "source": [
    "my_dog = Dog('Terry', 'black', 5)"
   ]
  },
  {
   "cell_type": "code",
   "execution_count": 3,
   "id": "5ea05d45",
   "metadata": {},
   "outputs": [
    {
     "name": "stdout",
     "output_type": "stream",
     "text": [
      "Woof! Woof!!\n"
     ]
    }
   ],
   "source": [
    "my_dog.bark()"
   ]
  },
  {
   "cell_type": "code",
   "execution_count": 5,
   "id": "27f9856e",
   "metadata": {},
   "outputs": [
    {
     "data": {
      "text/plain": [
       "'Terry'"
      ]
     },
     "execution_count": 5,
     "metadata": {},
     "output_type": "execute_result"
    }
   ],
   "source": [
    "my_dog.name"
   ]
  },
  {
   "cell_type": "code",
   "execution_count": 7,
   "id": "c8852fbf",
   "metadata": {},
   "outputs": [],
   "source": [
    "george_dog = Dog('JAck','red',3)"
   ]
  },
  {
   "cell_type": "code",
   "execution_count": 8,
   "id": "2844bc44",
   "metadata": {},
   "outputs": [
    {
     "data": {
      "text/plain": [
       "'JAck'"
      ]
     },
     "execution_count": 8,
     "metadata": {},
     "output_type": "execute_result"
    }
   ],
   "source": [
    "george_dog.name"
   ]
  },
  {
   "cell_type": "code",
   "execution_count": 9,
   "id": "9e0a0a35",
   "metadata": {},
   "outputs": [
    {
     "name": "stdout",
     "output_type": "stream",
     "text": [
      "Woof! Woof!!\n"
     ]
    }
   ],
   "source": [
    "george_dog.bark()"
   ]
  },
  {
   "cell_type": "code",
   "execution_count": 35,
   "id": "cc702676",
   "metadata": {},
   "outputs": [],
   "source": [
    "# create a car object \n",
    "\n",
    "\n",
    "class Car:\n",
    "    # add the constructor\n",
    "    def __init__(self, maker, model, year, color):\n",
    "        self.maker = maker\n",
    "        self.model = model\n",
    "        self.year = year\n",
    "        self.color = color\n",
    "        self.speed = 0\n",
    "        self.engine_on = False # the engine is turned off by default\n",
    "        \n",
    "    def kick(self):\n",
    "        if self.engine_on == False and self.speed == 0:\n",
    "            self.engine_on = True\n",
    "            print(f'{self.maker} {self.model} is starting vooooooom!')\n",
    "        else:\n",
    "            print(f'Cannot start {self.maker} {self.model}, it has already started!')\n",
    "            \n",
    "    def accelerate(self, d = 1):\n",
    "        if self.engine_on == False:\n",
    "            print('You need to start the car first')\n",
    "        elif self.engine_on == True and d == 1:\n",
    "            self.speed += 50\n",
    "            print(f'{self.maker} {self.model} is moving at {self.speed} mph')\n",
    "        elif self.engine_on == True and d == 2:\n",
    "            self.speed += 100\n",
    "            print(f'{self.maker} {self.model} is moving at {self.speed} mph')\n",
    "        else:\n",
    "            pass\n",
    "    \n",
    "    def brake(self, intensity = 's'):\n",
    "        if self.speed <= 0:\n",
    "            print(f'{self.maker} {self.model} has already stopped!')\n",
    "        elif self.speed > 0 and intensity.lower() == 's':\n",
    "            self.speed -= self.speed * 0.5\n",
    "            print(f'{self.maker} {self.model} is braking and now moving at {self.speed} mph')\n",
    "        elif self.speed > 0 and intensity.lower() == 'h':\n",
    "            self.speed -= self.speed \n",
    "            print(f'{self.maker} {self.model} is braking hard !!! and now moving at {self.speed} mph')\n",
    "        else:\n",
    "            pass\n",
    "            \n",
    "    def honk(self):\n",
    "        if self.engine_on == True:\n",
    "            print('pim pim!!')\n",
    "        else:\n",
    "            print(f'Engine is off, cannot honk')\n",
    "            \n",
    "    def park(self):\n",
    "        if self.engine_on == True:\n",
    "            if self.speed <= 0: \n",
    "                self.engine_on = False\n",
    "                print(f'{self.maker} {self.model} parked!!')\n",
    "            else:\n",
    "                print(f'You have to stop moving before you can park')\n",
    "        else:\n",
    "            print(f'You have already parked')   "
   ]
  },
  {
   "cell_type": "code",
   "execution_count": 36,
   "id": "deda10ba",
   "metadata": {},
   "outputs": [],
   "source": [
    "my_car = Car('Lexus', 'RX-350',2018, 'Black')\n",
    "george_car = Car('Benz', 'G63',2020, 'Red')"
   ]
  },
  {
   "cell_type": "code",
   "execution_count": 37,
   "id": "0a3b08a5",
   "metadata": {},
   "outputs": [
    {
     "data": {
      "text/plain": [
       "2018"
      ]
     },
     "execution_count": 37,
     "metadata": {},
     "output_type": "execute_result"
    }
   ],
   "source": [
    "my_car.year"
   ]
  },
  {
   "cell_type": "code",
   "execution_count": 38,
   "id": "f6da87ff",
   "metadata": {},
   "outputs": [
    {
     "name": "stdout",
     "output_type": "stream",
     "text": [
      "Lexus RX-350 is starting vooooooom!\n"
     ]
    }
   ],
   "source": [
    "my_car.kick()"
   ]
  },
  {
   "cell_type": "code",
   "execution_count": 39,
   "id": "7c140177",
   "metadata": {
    "scrolled": true
   },
   "outputs": [
    {
     "name": "stdout",
     "output_type": "stream",
     "text": [
      "pim pim!!\n"
     ]
    }
   ],
   "source": [
    "my_car.honk()"
   ]
  },
  {
   "cell_type": "code",
   "execution_count": 40,
   "id": "0725e297",
   "metadata": {},
   "outputs": [
    {
     "name": "stdout",
     "output_type": "stream",
     "text": [
      "Lexus RX-350 has already stopped!\n"
     ]
    }
   ],
   "source": [
    "my_car.brake()"
   ]
  },
  {
   "cell_type": "code",
   "execution_count": 42,
   "id": "287f15ab",
   "metadata": {},
   "outputs": [
    {
     "name": "stdout",
     "output_type": "stream",
     "text": [
      "Lexus RX-350 is moving at 200 mph\n"
     ]
    }
   ],
   "source": [
    "my_car.accelerate(d = 2)"
   ]
  },
  {
   "cell_type": "code",
   "execution_count": 43,
   "id": "c11113bd",
   "metadata": {},
   "outputs": [
    {
     "name": "stdout",
     "output_type": "stream",
     "text": [
      "Lexus RX-350 is braking and now moving at 100.0 mph\n"
     ]
    }
   ],
   "source": [
    "my_car.brake()"
   ]
  },
  {
   "cell_type": "code",
   "execution_count": 44,
   "id": "1f708a86",
   "metadata": {},
   "outputs": [
    {
     "name": "stdout",
     "output_type": "stream",
     "text": [
      "Lexus RX-350 is braking and now moving at 50.0 mph\n"
     ]
    }
   ],
   "source": [
    "my_car.brake()"
   ]
  },
  {
   "cell_type": "code",
   "execution_count": 45,
   "id": "4989e9d9",
   "metadata": {},
   "outputs": [
    {
     "name": "stdout",
     "output_type": "stream",
     "text": [
      "Lexus RX-350 is braking hard !!! and now moving at 0.0 mph\n"
     ]
    }
   ],
   "source": [
    "my_car.brake(intensity = 'h')"
   ]
  },
  {
   "cell_type": "code",
   "execution_count": 46,
   "id": "f1623e06",
   "metadata": {},
   "outputs": [
    {
     "name": "stdout",
     "output_type": "stream",
     "text": [
      "Lexus RX-350 parked!!\n"
     ]
    }
   ],
   "source": [
    "my_car.park()"
   ]
  },
  {
   "cell_type": "code",
   "execution_count": 47,
   "id": "93c3819e",
   "metadata": {},
   "outputs": [
    {
     "name": "stdout",
     "output_type": "stream",
     "text": [
      "You need to start the car first\n"
     ]
    }
   ],
   "source": [
    "my_car.accelerate()"
   ]
  },
  {
   "cell_type": "code",
   "execution_count": 48,
   "id": "881e7ef1",
   "metadata": {},
   "outputs": [
    {
     "name": "stdout",
     "output_type": "stream",
     "text": [
      "You have already parked\n"
     ]
    }
   ],
   "source": [
    "george_car.park()"
   ]
  },
  {
   "cell_type": "code",
   "execution_count": 50,
   "id": "1f93cff5",
   "metadata": {},
   "outputs": [
    {
     "name": "stdout",
     "output_type": "stream",
     "text": [
      "Benz G63 is starting vooooooom!\n"
     ]
    }
   ],
   "source": [
    "george_car.kick()"
   ]
  },
  {
   "cell_type": "code",
   "execution_count": 100,
   "id": "014674da",
   "metadata": {},
   "outputs": [],
   "source": [
    "# create a simple calculator class with functionalities like add, minus, multiply, divide\n",
    "\n",
    "\n",
    "class Calculator:\n",
    "    \n",
    "    # create the constructor\n",
    "    \n",
    "    def __init__(self):\n",
    "        self.log = []\n",
    "    \n",
    "    # create the add method\n",
    "    \n",
    "    def add(self, a, b):\n",
    "        \n",
    "        result = f'{a} + {b} is {a + b}'\n",
    "        self.log.append(result)\n",
    "        return result\n",
    "    \n",
    "    def minus(self, a, b):\n",
    "        \n",
    "        result = f'{a} - {b} is {a - b}'\n",
    "        self.log.append(result)\n",
    "        return result\n",
    "    \n",
    "    def multiply(self, a, b):\n",
    "        \n",
    "        result = f'{a} * {b} is {a * b}'\n",
    "        self.log.append(result)\n",
    "        return result\n",
    "    \n",
    "    def divide(self, a, b):\n",
    "        if b == 0:\n",
    "            result =  f'cannot divide by zero'\n",
    "        else:\n",
    "            result = f'{a} / {b} is {a / b}'\n",
    "            self.log.append(result)\n",
    "            \n",
    "        return result\n",
    "    def history(self,  show = 0):\n",
    "        if len(self.log) == 0:\n",
    "            print('There is no history')\n",
    "        else:\n",
    "            if show == 0:\n",
    "                return self.log\n",
    "            elif show > 0:\n",
    "                return self.log[-show:]\n",
    "    def clear(self):\n",
    "        print('Are you sure you want to clear')\n",
    "        decision = input()\n",
    "        if decision.lower() == 'yes': \n",
    "            self.log.clear()\n",
    "            print('History cleared')\n",
    "        elif decision.lower() == 'no':\n",
    "            pass\n",
    "        else:\n",
    "            print('Wrong input')\n",
    "            pass\n",
    "        "
   ]
  },
  {
   "cell_type": "code",
   "execution_count": 74,
   "id": "22a5915d",
   "metadata": {},
   "outputs": [
    {
     "name": "stdout",
     "output_type": "stream",
     "text": [
      "YES\n",
      "you said yes\n"
     ]
    }
   ],
   "source": [
    "choice = input()\n",
    "\n",
    "if choice.lower() == 'yes':\n",
    "    print('you said yes')\n",
    "elif choice.lower() == 'no':\n",
    "    print('you said no')\n",
    "else:\n",
    "    print('you said nonsense')"
   ]
  },
  {
   "cell_type": "code",
   "execution_count": null,
   "id": "b118f964",
   "metadata": {},
   "outputs": [],
   "source": []
  },
  {
   "cell_type": "code",
   "execution_count": 101,
   "id": "92c40860",
   "metadata": {},
   "outputs": [],
   "source": [
    "my_calc = Calculator()"
   ]
  },
  {
   "cell_type": "code",
   "execution_count": 107,
   "id": "e5db3766",
   "metadata": {},
   "outputs": [
    {
     "data": {
      "text/plain": [
       "'5 + 4 is 9'"
      ]
     },
     "execution_count": 107,
     "metadata": {},
     "output_type": "execute_result"
    }
   ],
   "source": [
    "my_calc.add(5, 4)"
   ]
  },
  {
   "cell_type": "code",
   "execution_count": 108,
   "id": "01747474",
   "metadata": {},
   "outputs": [
    {
     "data": {
      "text/plain": [
       "'11 - 13 is -2'"
      ]
     },
     "execution_count": 108,
     "metadata": {},
     "output_type": "execute_result"
    }
   ],
   "source": [
    "my_calc.minus(11,13)"
   ]
  },
  {
   "cell_type": "code",
   "execution_count": 109,
   "id": "bd31b2af",
   "metadata": {},
   "outputs": [
    {
     "data": {
      "text/plain": [
       "'cannot divide by zero'"
      ]
     },
     "execution_count": 109,
     "metadata": {},
     "output_type": "execute_result"
    }
   ],
   "source": [
    "my_calc.divide(5,0)"
   ]
  },
  {
   "cell_type": "code",
   "execution_count": 116,
   "id": "e79c64c8",
   "metadata": {},
   "outputs": [
    {
     "data": {
      "text/plain": [
       "'5 / 5 is 1.0'"
      ]
     },
     "execution_count": 116,
     "metadata": {},
     "output_type": "execute_result"
    }
   ],
   "source": [
    "my_calc.divide(5,5)"
   ]
  },
  {
   "cell_type": "code",
   "execution_count": 117,
   "id": "75415a1f",
   "metadata": {},
   "outputs": [
    {
     "name": "stdout",
     "output_type": "stream",
     "text": [
      "5 / 5 is 1.0\n"
     ]
    }
   ],
   "source": [
    "for i in my_calc.history():\n",
    "    print(i)"
   ]
  },
  {
   "cell_type": "code",
   "execution_count": 112,
   "id": "2b3e23ac",
   "metadata": {
    "scrolled": true
   },
   "outputs": [
    {
     "name": "stdout",
     "output_type": "stream",
     "text": [
      "11 - 13 is -2\n",
      "5 / 5 is 1.0\n",
      "5 + 4 is 9\n",
      "11 - 13 is -2\n",
      "5 / 5 is 1.0\n"
     ]
    }
   ],
   "source": [
    "for i in my_calc.history(5):\n",
    "    print(i)"
   ]
  },
  {
   "cell_type": "code",
   "execution_count": 119,
   "id": "dcf2ac4c",
   "metadata": {},
   "outputs": [
    {
     "name": "stdout",
     "output_type": "stream",
     "text": [
      "Are you sure you want to clear\n",
      "yes\n",
      "History cleared\n"
     ]
    }
   ],
   "source": [
    "my_calc.clear()"
   ]
  },
  {
   "cell_type": "code",
   "execution_count": 120,
   "id": "7c6b173f",
   "metadata": {},
   "outputs": [
    {
     "name": "stdout",
     "output_type": "stream",
     "text": [
      "There is no history\n"
     ]
    }
   ],
   "source": [
    "my_calc.history()"
   ]
  },
  {
   "cell_type": "code",
   "execution_count": 63,
   "id": "932202da",
   "metadata": {},
   "outputs": [
    {
     "data": {
      "text/plain": [
       "[]"
      ]
     },
     "execution_count": 63,
     "metadata": {},
     "output_type": "execute_result"
    }
   ],
   "source": [
    "fruit = ['apple', 'orange', 'mango', 'cashew']\n",
    "\n",
    "fruit.clear()\n",
    "\n",
    "fruit"
   ]
  },
  {
   "cell_type": "code",
   "execution_count": 61,
   "id": "05796160",
   "metadata": {},
   "outputs": [],
   "source": [
    "calc = Calculator()"
   ]
  },
  {
   "cell_type": "code",
   "execution_count": 62,
   "id": "73b772ee",
   "metadata": {},
   "outputs": [
    {
     "data": {
      "text/plain": [
       "'2 + 2 is 4'"
      ]
     },
     "execution_count": 62,
     "metadata": {},
     "output_type": "execute_result"
    }
   ],
   "source": [
    "calc.add(2,2)"
   ]
  },
  {
   "cell_type": "code",
   "execution_count": 4,
   "id": "22db014c",
   "metadata": {},
   "outputs": [],
   "source": [
    "class Bank:\n",
    "    def __init__(self, name, account):\n",
    "        \"\"\"_summary_\n",
    "\n",
    "        Args:\n",
    "            name (_type_): _description_\n",
    "            account (_type_): _description_\n",
    "        \"\"\"\n",
    "        self.balance = 0\n",
    "        self.name = name\n",
    "        self.account = account\n",
    "\n",
    "\n",
    "    def deposit(self, amount):\n",
    "        \"\"\"_summary_\n",
    "\n",
    "        Args:\n",
    "            amount (_type_): _description_\n",
    "        \"\"\"\n",
    "        if amount <= 0:\n",
    "            print(f'{self.name} you cannot deposit less than $1')\n",
    "        else:\n",
    "            self.balance += amount\n",
    "            return f'You deposited {amount}, new balance is {self.balance}'\n",
    "        \n",
    "    def withdraw(self, amount):\n",
    "        \"\"\"_summary_\n",
    "\n",
    "        Args:\n",
    "            amount (_type_): _description_\n",
    "\n",
    "        Returns:\n",
    "            _type_: _description_\n",
    "        \"\"\"\n",
    "        \n",
    "        if amount > self.balance:\n",
    "            print(f'Insufficient balance')\n",
    "            return self.balance\n",
    "        else:\n",
    "            self.balance -= amount\n",
    "            return f'You withdraw ${amount} your balance is {self.balance} '\n",
    "        \n",
    "\n"
   ]
  },
  {
   "cell_type": "code",
   "execution_count": null,
   "metadata": {},
   "outputs": [],
   "source": [
    "my_account = Bank('Tomisin', 'savings')\n",
    "\n",
    "my_account.deposit(amount = 150)\n",
    "\n",
    "print(my_account.deposit)\n"
   ]
  },
  {
   "cell_type": "code",
   "execution_count": 5,
   "metadata": {},
   "outputs": [],
   "source": [
    "import random\n",
    "\n",
    "class Game:\n",
    "    \n",
    "    def __init__(self, name):\n",
    "        \"\"\"_summary_\n",
    "\n",
    "        Args:\n",
    "            name (_type_): _description_\n",
    "        \"\"\"\n",
    "        self.name = name\n",
    "        self.fund = 0\n",
    "        self.round = 1\n",
    "        self.user = int(input('Welcome to the game choose a number: '))\n",
    "        self.comp = random.randint(4, 10)\n",
    "        self.quit = False\n",
    "        \n",
    "               \n",
    "        \n",
    "    def deposit(self):\n",
    "        \"\"\"_summary_\n",
    "\n",
    "        Returns:\n",
    "            _type_: _description_\n",
    "        \"\"\"\n",
    "        amount = float(input(f'Hi {self.name}, how much do you want to deposit'))\n",
    "        \n",
    "        if amount > 10:\n",
    "            self.fund += amount\n",
    "            \n",
    "        else:\n",
    "            return f'oops {self.name}, Minimum deposit is $10'\n",
    "        \n",
    "        return f'You now have {self.fund}'\n",
    "    \n",
    "    def play(self):\n",
    "        \n",
    "        \"\"\"_summary_\n",
    "        \"\"\"\n",
    "        while True:\n",
    "            print('do you want to continue the game')\n",
    "            choice = input()\n",
    "            if choice.lower == 'no':\n",
    "                self.quit = True\n",
    "            \n",
    "            if self.quit == True:\n",
    "                print(f'Thanks for playing you left with {self.fund}')\n",
    "                break\n",
    "            else:\n",
    "                if self.fund <= 0:\n",
    "                    print(f'Not enough funds, you have ${self.fund}')\n",
    "                    break\n",
    "                else:\n",
    "                    bet = float(input('Enter bet amount'))\n",
    "                    print('ROUND {self.round}')\n",
    "                    print(f'after round one original panadol extra..')\n",
    "                    user_num = int(input())\n",
    "                    comp_num = random.randint(1,self.comp)\n",
    "\n",
    "                    if user_num + comp_num == self.user:\n",
    "                        self.fund += amount * 0.25\n",
    "                        print(f'You won {self.fund * 0.25}')\n",
    "                        self.round += 1\n",
    "                    elif user_num + comp_num  == self.comp:\n",
    "                        self.fund -= amount * 0.25\n",
    "                        print(f'You lost {self.fund * 0.25}')\n",
    "                        self.round += 1\n",
    "                    else:\n",
    "                        print('It is a tie')\n",
    "                        self.round += 1"
   ]
  },
  {
   "cell_type": "code",
   "execution_count": 6,
   "metadata": {},
   "outputs": [],
   "source": [
    "muyiwa = Game('muyiwa')"
   ]
  },
  {
   "cell_type": "code",
   "execution_count": 16,
   "metadata": {},
   "outputs": [
    {
     "data": {
      "text/plain": [
       "'You now have 50.0'"
      ]
     },
     "execution_count": 16,
     "metadata": {},
     "output_type": "execute_result"
    }
   ],
   "source": [
    "muyiwa.deposit()"
   ]
  },
  {
   "cell_type": "code",
   "execution_count": 17,
   "metadata": {},
   "outputs": [
    {
     "name": "stdout",
     "output_type": "stream",
     "text": [
      "do you want to continue the game\n",
      "ROUND {self.round}\n",
      "after round one original panadol extra..\n"
     ]
    },
    {
     "ename": "NameError",
     "evalue": "name 'comp' is not defined",
     "output_type": "error",
     "traceback": [
      "\u001b[1;31m---------------------------------------------------------------------------\u001b[0m",
      "\u001b[1;31mNameError\u001b[0m                                 Traceback (most recent call last)",
      "\u001b[1;32mc:\\Users\\hp\\Desktop\\Python Data Class\\OBJECT ORIENTED PROGRAMMING  -- OOP .ipynb Cell 42\u001b[0m line \u001b[0;36m1\n\u001b[1;32m----> <a href='vscode-notebook-cell:/c%3A/Users/hp/Desktop/Python%20Data%20Class/OBJECT%20ORIENTED%20PROGRAMMING%20%20--%20OOP%20.ipynb#X56sZmlsZQ%3D%3D?line=0'>1</a>\u001b[0m muyiwa\u001b[39m.\u001b[39mplay()\n",
      "\u001b[1;32mc:\\Users\\hp\\Desktop\\Python Data Class\\OBJECT ORIENTED PROGRAMMING  -- OOP .ipynb Cell 42\u001b[0m line \u001b[0;36m5\n\u001b[0;32m     <a href='vscode-notebook-cell:/c%3A/Users/hp/Desktop/Python%20Data%20Class/OBJECT%20ORIENTED%20PROGRAMMING%20%20--%20OOP%20.ipynb#X56sZmlsZQ%3D%3D?line=54'>55</a>\u001b[0m \u001b[39mprint\u001b[39m(\u001b[39mf\u001b[39m\u001b[39m'\u001b[39m\u001b[39mafter round one original panadol extra..\u001b[39m\u001b[39m'\u001b[39m)\n\u001b[0;32m     <a href='vscode-notebook-cell:/c%3A/Users/hp/Desktop/Python%20Data%20Class/OBJECT%20ORIENTED%20PROGRAMMING%20%20--%20OOP%20.ipynb#X56sZmlsZQ%3D%3D?line=55'>56</a>\u001b[0m user_num \u001b[39m=\u001b[39m \u001b[39mint\u001b[39m(\u001b[39minput\u001b[39m())\n\u001b[1;32m---> <a href='vscode-notebook-cell:/c%3A/Users/hp/Desktop/Python%20Data%20Class/OBJECT%20ORIENTED%20PROGRAMMING%20%20--%20OOP%20.ipynb#X56sZmlsZQ%3D%3D?line=56'>57</a>\u001b[0m comp_num \u001b[39m=\u001b[39m random\u001b[39m.\u001b[39mrandint(\u001b[39m1\u001b[39m,comp)\n\u001b[0;32m     <a href='vscode-notebook-cell:/c%3A/Users/hp/Desktop/Python%20Data%20Class/OBJECT%20ORIENTED%20PROGRAMMING%20%20--%20OOP%20.ipynb#X56sZmlsZQ%3D%3D?line=58'>59</a>\u001b[0m \u001b[39mif\u001b[39;00m user_num \u001b[39m+\u001b[39m comp_num \u001b[39m==\u001b[39m \u001b[39mself\u001b[39m\u001b[39m.\u001b[39muser:\n\u001b[0;32m     <a href='vscode-notebook-cell:/c%3A/Users/hp/Desktop/Python%20Data%20Class/OBJECT%20ORIENTED%20PROGRAMMING%20%20--%20OOP%20.ipynb#X56sZmlsZQ%3D%3D?line=59'>60</a>\u001b[0m     \u001b[39mself\u001b[39m\u001b[39m.\u001b[39mfund \u001b[39m+\u001b[39m\u001b[39m=\u001b[39m amount \u001b[39m*\u001b[39m \u001b[39m0.25\u001b[39m\n",
      "\u001b[1;31mNameError\u001b[0m: name 'comp' is not defined"
     ]
    }
   ],
   "source": [
    "muyiwa.play()"
   ]
  },
  {
   "cell_type": "code",
   "execution_count": null,
   "metadata": {},
   "outputs": [],
   "source": []
  }
 ],
 "metadata": {
  "kernelspec": {
   "display_name": "Python 3 (ipykernel)",
   "language": "python",
   "name": "python3"
  },
  "language_info": {
   "codemirror_mode": {
    "name": "ipython",
    "version": 3
   },
   "file_extension": ".py",
   "mimetype": "text/x-python",
   "name": "python",
   "nbconvert_exporter": "python",
   "pygments_lexer": "ipython3",
   "version": "3.11.4"
  }
 },
 "nbformat": 4,
 "nbformat_minor": 5
}

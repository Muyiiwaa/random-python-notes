{
 "cells": [
  {
   "cell_type": "code",
   "execution_count": 6,
   "id": "737888f7",
   "metadata": {},
   "outputs": [
    {
     "name": "stdout",
     "output_type": "stream",
     "text": [
      "Enter the currency you want to convert: dollar\n",
      "what is the dollar amount\n",
      "200\n",
      "Enter the currency you want to convert to: naira\n",
      "what is the naira, dollar rate\n",
      "1100\n",
      "dollar is 220000 naira at 1100 naira per dollar\n"
     ]
    }
   ],
   "source": [
    "    # write a currency converter program\n",
    "\n",
    "base_currency = input('Enter the currency you want to convert: ')\n",
    "print(f'what is the {base_currency} amount')\n",
    "amount_base = int(input())\n",
    "\n",
    "currency = input('Enter the currency you want to convert to: ')\n",
    "print(f'what is the {currency}, {base_currency} rate')\n",
    "rate = int(input())\n",
    "\n",
    "result = amount_base * rate\n",
    "\n",
    "print(f'{base_currency} is {result} {currency} at {rate} {currency} per {base_currency}')"
   ]
  },
  {
   "cell_type": "code",
   "execution_count": 7,
   "id": "2825d351",
   "metadata": {},
   "outputs": [
    {
     "name": "stdout",
     "output_type": "stream",
     "text": [
      "Enter the base: 34\n",
      "Enter the height: 12\n",
      "The area is 204.0\n"
     ]
    }
   ],
   "source": [
    "# write a program that calculates the area of a  triangle\n",
    "\n",
    "\n",
    "base = int(input('Enter the base: '))\n",
    "height = int(input('Enter the height: '))\n",
    "\n",
    "area = 0.5 * base * height\n",
    "\n",
    "print(f'The area is {area}')"
   ]
  },
  {
   "cell_type": "code",
   "execution_count": 12,
   "id": "91852eb8",
   "metadata": {},
   "outputs": [
    {
     "data": {
      "text/plain": [
       "5"
      ]
     },
     "execution_count": 12,
     "metadata": {},
     "output_type": "execute_result"
    }
   ],
   "source": [
    "# built in functions\n",
    "\n",
    "# print\n",
    "# input\n",
    "# sum\n",
    "# min\n",
    "# max\n",
    "# len\n",
    "# round\n",
    "# lower\n",
    "# upper\n",
    "\n",
    "\n",
    "\n",
    "# sum of an iterable\n",
    "a = 5\n",
    "b = 6\n",
    "\n",
    "name = 'Segun'\n",
    "\n",
    "len(name)"
   ]
  },
  {
   "cell_type": "code",
   "execution_count": 14,
   "id": "3fdad731",
   "metadata": {},
   "outputs": [
    {
     "name": "stdout",
     "output_type": "stream",
     "text": [
      "Enter your name: Bisola\n",
      "Hi, Bisola you have 6 letters in your name\n"
     ]
    }
   ],
   "source": [
    "# write a program that accepts someone's name, greets them and tell them the number of letters \n",
    "# in their name.\n",
    "\n",
    "name = input('Enter your name: ')\n",
    "print(f'Hi, {name} you have {len(name)} letters in your name')"
   ]
  },
  {
   "cell_type": "code",
   "execution_count": 19,
   "id": "984463db",
   "metadata": {},
   "outputs": [
    {
     "name": "stdout",
     "output_type": "stream",
     "text": [
      "Enter your height: 343\n",
      "Enter your weight: 12\n",
      "Your BMI is 0.03\n"
     ]
    }
   ],
   "source": [
    "# write a program that calculates a person's bmi\n",
    "\n",
    "height = float(input('Enter your height: '))\n",
    "weight = float(input('Enter your weight: '))\n",
    "\n",
    "bmi = round(weight/height, 2)\n",
    "\n",
    "print(f'Your BMI is {bmi}')"
   ]
  },
  {
   "cell_type": "code",
   "execution_count": 17,
   "id": "6081cf72",
   "metadata": {
    "scrolled": true
   },
   "outputs": [
    {
     "name": "stdout",
     "output_type": "stream",
     "text": [
      "6.5\n",
      "5,6.5\n"
     ]
    }
   ],
   "source": [
    "#a = int(input())\n",
    "b = float(input())\n",
    "\n",
    "print(f'{a},{b}')"
   ]
  },
  {
   "cell_type": "code",
   "execution_count": 21,
   "id": "29957aef",
   "metadata": {},
   "outputs": [
    {
     "name": "stdout",
     "output_type": "stream",
     "text": [
      "a: 1\n",
      "b: -7\n",
      "c: 12\n",
      "x = 3.0 or x =4.0 \n"
     ]
    }
   ],
   "source": [
    "# write a PROGRAM  that solves quadratic equation\n",
    "\n",
    "a = float(input('a: '))\n",
    "b = float(input('b: '))\n",
    "c = float(input('c: '))\n",
    "\n",
    "x1 = (-b - (b**2 - 4*a*c)**0.5)/(2 * a)\n",
    "x2 = (-b + (b**2 - 4*a*c)**0.5)/(2 * a)\n",
    "\n",
    "print(f'x = {x1} or x = {x2} ')"
   ]
  },
  {
   "cell_type": "code",
   "execution_count": 23,
   "id": "6fe196ea",
   "metadata": {},
   "outputs": [
    {
     "name": "stdout",
     "output_type": "stream",
     "text": [
      "Enter the loan amount: 1000\n",
      "Enter the the number of years: 3\n",
      "The amount payable on 1000.0 after 3.0 is 1124.864  at 4% rate\n"
     ]
    }
   ],
   "source": [
    "# write a program that calculates the compound interest on a loan. Return only the amount\n",
    "# payable after terms of the loan has run out. The rate is fixed at 4%\n",
    "\n",
    "\n",
    "\n",
    "p = float(input('Enter the loan amount: '))\n",
    "t = float(input('Enter the the number of years: '))\n",
    "\n",
    "rate = 4\n",
    "\n",
    "returns = p * (1 + rate/100) ** t\n",
    "\n",
    "print(f'The amount payable on {p} after {t} is {returns}  at {rate}% rate')"
   ]
  },
  {
   "cell_type": "code",
   "execution_count": 24,
   "id": "1885a1e0",
   "metadata": {},
   "outputs": [
    {
     "name": "stdout",
     "output_type": "stream",
     "text": [
      "first word: boy\n",
      "second word: potatoe\n",
      "7\n"
     ]
    }
   ],
   "source": [
    "# program that accepts two words and print out the number of letters in the longest word\n",
    "\n",
    "\n",
    "word_1 = input('first word: ')\n",
    "word_2 = input('second word: ')\n",
    "\n",
    "larger = max(len(word_1), len(word_2))\n",
    "\n",
    "print(larger)"
   ]
  },
  {
   "cell_type": "markdown",
   "id": "0db99816",
   "metadata": {},
   "source": [
    "## CONDITIONALS"
   ]
  },
  {
   "cell_type": "code",
   "execution_count": 28,
   "id": "e0c8b4d9",
   "metadata": {},
   "outputs": [
    {
     "name": "stdout",
     "output_type": "stream",
     "text": [
      "Enter first word: ade\n",
      "Enter second word: boy\n",
      "They are equal\n"
     ]
    }
   ],
   "source": [
    "# write a program that accept two words and printing the larger word\n",
    "\n",
    "\n",
    "word_1 = input('Enter first word: ')\n",
    "word_2 = input('Enter second word: ')\n",
    "\n",
    "\n",
    "if len(word_1) > len(word_2):\n",
    "    print(f'{word_1} is longer')\n",
    "elif len(word_1) == len(word_2):\n",
    "    print('They are equal')\n",
    "else:\n",
    "    print(f'{word_2} is longer')\n",
    "    "
   ]
  },
  {
   "cell_type": "code",
   "execution_count": 29,
   "id": "b9da3138",
   "metadata": {},
   "outputs": [
    {
     "name": "stdout",
     "output_type": "stream",
     "text": [
      "Enter your name: Wale\n",
      "ENter your birth year: 2001\n",
      "Hi Wale,you are a adult\n"
     ]
    }
   ],
   "source": [
    "# program that accepts a person's year of birth and tells whether they are\n",
    "# an adult,teenager,child,old\n",
    "\n",
    "name = input('Enter your name: ')\n",
    "year = int(input('ENter your birth year: '))\n",
    "\n",
    "age = 2023 - year\n",
    "\n",
    "if age <= 12:\n",
    "    print(f'Hi {name},you are a child')\n",
    "elif age <= 19:\n",
    "    print(f'Hi {name},you are a teenagers')\n",
    "elif age <= 65:\n",
    "    print(f'Hi {name},you are an adult')\n",
    "else:\n",
    "    print(f'Hi {name},you are old!!')\n",
    "    "
   ]
  },
  {
   "cell_type": "code",
   "execution_count": 36,
   "id": "5526715b",
   "metadata": {},
   "outputs": [
    {
     "name": "stdout",
     "output_type": "stream",
     "text": [
      "a: 1\n",
      "b: 5\n",
      "c: 6\n",
      "x = -3.0 or x = -2.0\n"
     ]
    }
   ],
   "source": [
    "# optimized quadratic solver\n",
    "\n",
    "\n",
    "a = float(input('a: '))\n",
    "b = float(input('b: '))\n",
    "c = float(input('c: '))\n",
    "\n",
    "d = b**2 - 4*a*c\n",
    "\n",
    "if a == 0:\n",
    "    print('This is not a quadratic equation')\n",
    "else:\n",
    "    if d < 0:\n",
    "        x1 = (-b - (d)**0.5)/(2 * a)\n",
    "        x2 = (-b + (d)**0.5)/(2 * a)\n",
    "        print(f'x = {x1} or x = {x2}')\n",
    "    else:\n",
    "        x1 = (-b - (d)**0.5)/(2 * a)\n",
    "        x2 = (-b + (d)**0.5)/(2 * a)\n",
    "        print(f'x = {round(x1,2)} or x = {round(x2,2)}')"
   ]
  },
  {
   "cell_type": "code",
   "execution_count": 38,
   "id": "87ee013b",
   "metadata": {},
   "outputs": [
    {
     "name": "stdout",
     "output_type": "stream",
     "text": [
      "Enter the num: 11\n",
      "11 is just odd\n"
     ]
    }
   ],
   "source": [
    "# write a program returns whether a number is odd or even and also check\n",
    "# whether they are a multiple 3.\n",
    "\n",
    "num = int(input('Enter the num: '))\n",
    "\n",
    "if num % 2 == 0:\n",
    "    if num % 3 == 0:\n",
    "        print(f'{num} is even and a multiple of 3')\n",
    "    else:\n",
    "        print(f'{num} is just even')\n",
    "else:\n",
    "    if num % 3 == 0:\n",
    "        print(f'{num} is odd and a multiple of 3')\n",
    "    else:\n",
    "        print(f'{num} is just odd')"
   ]
  },
  {
   "cell_type": "code",
   "execution_count": 40,
   "id": "c39c14d2",
   "metadata": {},
   "outputs": [
    {
     "name": "stdout",
     "output_type": "stream",
     "text": [
      "Enter the loan amount: 300000\n",
      "Enter the year: 100\n",
      "You are eligible for 2 coupons of 40% discount!\n",
      "Your amount payable is 23790226.41233472\n"
     ]
    }
   ],
   "source": [
    "# the loan company from yesterday wants to introduce different coupons for their customers\n",
    "\n",
    "#coupon 1 -- if the interest ever grow past the initial loan amount, 25% interest discount\n",
    "# coupon 2 -- if the loan amount is above 300k 5% discount on the interest \n",
    "# coupon 3 -- if eligible for 1 and 2, give 40% discount  on the interst\n",
    "\n",
    "# also let them know the coupon that they won\n",
    "# also the amount payable\n",
    "\n",
    "p = float(input('Enter the loan amount: '))\n",
    "r = 5\n",
    "n = int(input('Enter the year: '))\n",
    "\n",
    "amount = p * (1+r/100)** n\n",
    "\n",
    "interest = amount - p\n",
    "\n",
    "\n",
    "\n",
    "\n",
    "\n",
    "if p >= 300000:\n",
    "    if interest > p:\n",
    "        amount = p + (interest * 0.6)\n",
    "        print(f'You are eligible for 2 coupons of 40% discount!')\n",
    "        print(f'Your amount payable is {amount}')\n",
    "    else:\n",
    "        amount = p + (interest * 0.95)\n",
    "        print(f'You are eligible for 1 coupon of 5% discount!')\n",
    "        print(f'Your amount payable is {amount}')\n",
    "        \n",
    "else:\n",
    "    if interest > p:\n",
    "        amount = p + (interest * 0.75)\n",
    "        print(f'You are eligible for 1 coupon of 25% discount!')\n",
    "        print(f'Your amount payable is {amount}')\n",
    "        \n",
    "    else:\n",
    "        print(f'Your amount payable is {amount}')\n",
    "        "
   ]
  },
  {
   "cell_type": "code",
   "execution_count": 5,
   "id": "99d0fe4f",
   "metadata": {},
   "outputs": [
    {
     "name": "stdout",
     "output_type": "stream",
     "text": [
      "22\n",
      "not weird1\n"
     ]
    }
   ],
   "source": [
    "# odd = weird, even and 2-5 = not weird, even and 6-20 weird, even and greater > 20 not weird\n",
    "\n",
    "\n",
    "num = int(input())\n",
    "if num % 2 ==  1:\n",
    "    print('weird')\n",
    "elif num % 2 == 0 and num >= 2 and num <= 5:\n",
    "    print('not weird')\n",
    "elif num % 2 == 0 and num >= 6 and num <= 20:\n",
    "    print('weird')\n",
    "elif num % 2 == 0 and num > 20:\n",
    "    print('not weird1')"
   ]
  },
  {
   "cell_type": "code",
   "execution_count": 31,
   "id": "0d86b349",
   "metadata": {},
   "outputs": [
    {
     "name": "stdout",
     "output_type": "stream",
     "text": [
      "<class 'list'>\n",
      "<class 'tuple'>\n",
      "<class 'dict'>\n",
      "['orange', 'mango', 'cashew']\n",
      "('orange', 'mango', 'cashew')\n",
      "Ikeja\n",
      "<class 'list'>\n"
     ]
    }
   ],
   "source": [
    "#mutability\n",
    "\n",
    "fruits = ['orange', 'mango', 'cashew']\n",
    "fruits2 = ('orange','mango', 'cashew')\n",
    "\n",
    "nigeria = {'Lagos':'Ikeja',\n",
    "          'Oyo':'Ibadan',\n",
    "          'Ekiti':'Ado Ekiti'}\n",
    "\n",
    "\n",
    "print(type(fruits))\n",
    "print(type(fruits2))\n",
    "print(type(nigeria))\n",
    "\n",
    "print(fruits)\n",
    "print(fruits2)\n",
    "print(nigeria['Lagos'])\n",
    "\n",
    "fruits2 = list(fruits2)\n",
    "print(type(fruits2))"
   ]
  },
  {
   "cell_type": "code",
   "execution_count": 33,
   "id": "c9712b86",
   "metadata": {},
   "outputs": [
    {
     "name": "stdout",
     "output_type": "stream",
     "text": [
      "[1, 2, 3, 4, 5, 6, 7, 8, 9, 10]\n",
      "[2, 4, 6, 8, 10]\n"
     ]
    }
   ],
   "source": [
    "nums = [1,2,3,4,5,6,7,8,9,10]\n",
    "nums2 = list(range(2,11,2))\n",
    "\n",
    "print(nums)\n",
    "print(nums2)"
   ]
  },
  {
   "cell_type": "code",
   "execution_count": 28,
   "id": "d210eb81",
   "metadata": {},
   "outputs": [
    {
     "data": {
      "text/plain": [
       "['orange', 'mango', 'cashew', 'banana', 'pineapple']"
      ]
     },
     "execution_count": 28,
     "metadata": {},
     "output_type": "execute_result"
    }
   ],
   "source": [
    "fruits = ['orange', 'mango', 'cashew','banana','pineapple','pawpaw']\n",
    "\n",
    "fruits[:-1]"
   ]
  },
  {
   "cell_type": "code",
   "execution_count": null,
   "id": "70d5e672",
   "metadata": {},
   "outputs": [],
   "source": [
    "# return the list of eveen numbers between 4 and 26\n",
    "\n",
    "#  return the list of multiples of 4 between 21 and 50"
   ]
  },
  {
   "cell_type": "code",
   "execution_count": 35,
   "id": "269fc4e6",
   "metadata": {},
   "outputs": [
    {
     "data": {
      "text/plain": [
       "['orange', 'mango', 'cashew', 'stone', 'stone']"
      ]
     },
     "execution_count": 35,
     "metadata": {},
     "output_type": "execute_result"
    }
   ],
   "source": [
    "# .append\n",
    "\n",
    "fruits.append('stone')\n",
    "fruits"
   ]
  },
  {
   "cell_type": "code",
   "execution_count": 39,
   "id": "fa73af89",
   "metadata": {},
   "outputs": [],
   "source": [
    "#functions\n",
    "# sum\n",
    "# min\n",
    "# max\n",
    "# len\n",
    "# sorted\n",
    "\n",
    "\n",
    "# methods\n",
    "# .append\n",
    "# .extend\n",
    "# .remove\n",
    "#.pop\n",
    "# .sort\n",
    "\n",
    "vegies = ['tomatoe', 'onion']\n",
    "\n",
    "fruits.extend(vegies)\n",
    "\n"
   ]
  },
  {
   "cell_type": "code",
   "execution_count": 40,
   "id": "3e933bb0",
   "metadata": {},
   "outputs": [
    {
     "data": {
      "text/plain": [
       "['orange', 'mango', 'cashew', 'stone', 'stone', 'tomatoe', 'onion']"
      ]
     },
     "execution_count": 40,
     "metadata": {},
     "output_type": "execute_result"
    }
   ],
   "source": [
    "fruits"
   ]
  },
  {
   "cell_type": "code",
   "execution_count": 41,
   "id": "02806f78",
   "metadata": {},
   "outputs": [
    {
     "name": "stdout",
     "output_type": "stream",
     "text": [
      "Sum of elements is 300\n",
      "Total number of element is 10\n"
     ]
    }
   ],
   "source": [
    "# create a list of multiples of 4 between 11 and 50\n",
    "# return the sum of elements in that list and the number of elements in the list\n",
    "\n",
    "num = list(range(12,51,4))\n",
    "print(f'Sum of elements is {sum(num)}')\n",
    "print(f'Total number of element is {len(num)}')"
   ]
  },
  {
   "cell_type": "code",
   "execution_count": 43,
   "id": "faa6d0e5",
   "metadata": {},
   "outputs": [],
   "source": [
    "# return the maximum and minimum values in the first \n",
    "# 5 elements starting from the 3rd element in the list and average\n",
    "\n",
    "num.remove(12)"
   ]
  },
  {
   "cell_type": "code",
   "execution_count": 44,
   "id": "f0a0f0cd",
   "metadata": {},
   "outputs": [
    {
     "data": {
      "text/plain": [
       "[16, 20, 24, 28, 32, 36, 40, 44, 48]"
      ]
     },
     "execution_count": 44,
     "metadata": {},
     "output_type": "execute_result"
    }
   ],
   "source": [
    "num"
   ]
  },
  {
   "cell_type": "code",
   "execution_count": 45,
   "id": "3e408ccd",
   "metadata": {},
   "outputs": [],
   "source": [
    "a = [8,3,5]\n",
    "\n",
    "a.sort()"
   ]
  },
  {
   "cell_type": "code",
   "execution_count": 50,
   "id": "7dc5f51e",
   "metadata": {},
   "outputs": [],
   "source": [
    "a = ['dog','cat','apple']"
   ]
  },
  {
   "cell_type": "code",
   "execution_count": 51,
   "id": "7af73a73",
   "metadata": {},
   "outputs": [
    {
     "data": {
      "text/plain": [
       "['apple', 'cat', 'dog']"
      ]
     },
     "execution_count": 51,
     "metadata": {},
     "output_type": "execute_result"
    }
   ],
   "source": [
    "sorted(a)"
   ]
  },
  {
   "cell_type": "code",
   "execution_count": 52,
   "id": "30a31993",
   "metadata": {},
   "outputs": [
    {
     "data": {
      "text/plain": [
       "'cat'"
      ]
     },
     "execution_count": 52,
     "metadata": {},
     "output_type": "execute_result"
    }
   ],
   "source": [
    "a.pop(1)"
   ]
  },
  {
   "cell_type": "code",
   "execution_count": 11,
   "id": "b06eb4b0",
   "metadata": {},
   "outputs": [
    {
     "data": {
      "text/plain": [
       "'e'"
      ]
     },
     "execution_count": 11,
     "metadata": {},
     "output_type": "execute_result"
    }
   ],
   "source": [
    "name = 'adewale'\n",
    "\n",
    "\n",
    "name = 'Ade'\n",
    "name2 = 'Wale'\n",
    "\n",
    "name[-1]"
   ]
  },
  {
   "cell_type": "code",
   "execution_count": 19,
   "id": "59d4ab93",
   "metadata": {},
   "outputs": [
    {
     "name": "stdout",
     "output_type": "stream",
     "text": [
      "welcome enter your name: SEGUN\n",
      "Access granted, welcome SEGUN\n"
     ]
    }
   ],
   "source": [
    "# an authetication program that checks whether someone is s staff or not\n",
    "\n",
    "staff = ['tolu','tiwa','folake','segun','ayo']\n",
    "\n",
    "name = input('welcome enter your name: ')\n",
    "if name.lower() in staff:\n",
    "    print(f'Access granted, welcome {name}')\n",
    "else:\n",
    "    print('Access denied')"
   ]
  },
  {
   "cell_type": "markdown",
   "id": "087a905f",
   "metadata": {},
   "source": [
    "## LOOPS\n",
    "\n"
   ]
  },
  {
   "cell_type": "code",
   "execution_count": 20,
   "id": "d02d332c",
   "metadata": {},
   "outputs": [
    {
     "name": "stdout",
     "output_type": "stream",
     "text": [
      "Welcome to work tolu\n",
      "Welcome to work tiwa\n",
      "Welcome to work folake\n",
      "Welcome to work segun\n",
      "Welcome to work ayo\n"
     ]
    }
   ],
   "source": [
    "for member in staff:\n",
    "    print(f'Welcome to work {member}')"
   ]
  },
  {
   "cell_type": "code",
   "execution_count": 25,
   "id": "914d2a00",
   "metadata": {},
   "outputs": [
    {
     "name": "stdout",
     "output_type": "stream",
     "text": [
      "Enter the factor: 4\n",
      "Enter the lower number: 51\n",
      "Enter the higher number: 100\n",
      "The multiples of 4 within 51 and 100 are: [52, 56, 60, 64, 68, 72, 76, 80, 84, 88, 92, 96, 100]\n"
     ]
    }
   ],
   "source": [
    "# write a program that returns the multiples of a given factor within a range \n",
    "\n",
    "\n",
    "factor = int(input('Enter the factor: '))\n",
    "\n",
    "lower_bound = int(input('Enter the lower number: '))\n",
    "\n",
    "upper_bound = int(input('Enter the higher number: '))\n",
    "\n",
    "lists = []\n",
    "\n",
    "if lower_bound >= upper_bound:\n",
    "    print('Your not smart')\n",
    "else:\n",
    "    for num in range(lower_bound, upper_bound+1):\n",
    "        if num % factor == 0:\n",
    "            lists.append(num)\n",
    "        else:\n",
    "            pass\n",
    "            \n",
    "print(f'The multiples of {factor} within {lower_bound} and {upper_bound} are: {lists}')"
   ]
  },
  {
   "cell_type": "code",
   "execution_count": 32,
   "id": "8a35cdf7",
   "metadata": {},
   "outputs": [
    {
     "name": "stdout",
     "output_type": "stream",
     "text": [
      "11\n",
      "prime\n"
     ]
    }
   ],
   "source": [
    "# write a program that checks whether a number is prime or not.\n",
    "\n",
    "# give the proof that a number is not prime by returning the factors \n",
    "num = int(input())\n",
    "\n",
    "lists = []\n",
    "for i in range(2,num):\n",
    "    if num % i == 0:\n",
    "        lists.append(i)\n",
    "    else:\n",
    "        pass\n",
    "if len(lists) == 0:\n",
    "    print('prime')\n",
    "else:\n",
    "    print(f'Not prime because there are factors: {lists}')\n",
    "\n"
   ]
  },
  {
   "cell_type": "code",
   "execution_count": 33,
   "id": "4d7f3e8c",
   "metadata": {},
   "outputs": [
    {
     "name": "stdout",
     "output_type": "stream",
     "text": [
      "8\n",
      "1 * 8 = 8\n",
      "2 * 8 = 16\n",
      "3 * 8 = 24\n",
      "4 * 8 = 32\n",
      "5 * 8 = 40\n",
      "6 * 8 = 48\n",
      "7 * 8 = 56\n",
      "8 * 8 = 64\n",
      "9 * 8 = 72\n",
      "10 * 8 = 80\n",
      "11 * 8 = 88\n",
      "12 * 8 = 96\n"
     ]
    }
   ],
   "source": [
    "# write a program that generates the multiplication table of a given number\n",
    "\n",
    "num = int(input())\n",
    "\n",
    "for i in range(1,13):\n",
    "    result = i * num\n",
    "    print(f'{i} * {num} = {result}')\n",
    " "
   ]
  },
  {
   "cell_type": "code",
   "execution_count": 38,
   "id": "0f984200",
   "metadata": {},
   "outputs": [
    {
     "name": "stdout",
     "output_type": "stream",
     "text": [
      "{'a', 'o', 'm', 'c'}\n"
     ]
    }
   ],
   "source": [
    "# returns the number of repeated letters in a string\n",
    "\n",
    "name = 'accommodation'\n",
    "\n",
    "lists = []\n",
    "residual = []\n",
    "\n",
    "for i in name:\n",
    "    if i not in lists:\n",
    "        lists.append(i)\n",
    "    else:\n",
    "        residual.append(i)\n",
    "\n",
    "print(set(residual))"
   ]
  },
  {
   "cell_type": "markdown",
   "id": "b7db67ae",
   "metadata": {},
   "source": [
    "## WHILE LOOP"
   ]
  },
  {
   "cell_type": "code",
   "execution_count": 1,
   "id": "85e96697",
   "metadata": {},
   "outputs": [
    {
     "name": "stdout",
     "output_type": "stream",
     "text": [
      "1\n",
      "2\n",
      "3\n",
      "4\n",
      "5\n"
     ]
    }
   ],
   "source": [
    "for i in range(1,6):\n",
    "    print(i)"
   ]
  },
  {
   "cell_type": "code",
   "execution_count": 2,
   "id": "6bcf164d",
   "metadata": {
    "scrolled": true
   },
   "outputs": [
    {
     "name": "stdout",
     "output_type": "stream",
     "text": [
      "1\n",
      "2\n",
      "3\n",
      "4\n",
      "5\n"
     ]
    }
   ],
   "source": [
    "counter = 0\n",
    "\n",
    "while True:\n",
    "    if counter < 3: # break condition\n",
    "        print(counter)\n",
    "        counter += 1\n",
    "    else:\n",
    "        break"
   ]
  },
  {
   "cell_type": "code",
   "execution_count": 6,
   "id": "60409606",
   "metadata": {},
   "outputs": [
    {
     "name": "stdout",
     "output_type": "stream",
     "text": [
      "Enter your name or \"stop\" to quit: Sade\n",
      "Enter your year of birth: 2001\n",
      "Hi Sade, you are 22 years old\n",
      "Enter your name or \"stop\" to quit: ade\n",
      "Enter your year of birth: 1999\n",
      "Hi ade, you are 24 years old\n",
      "Enter your name or \"stop\" to quit: stop\n",
      "Thank you for using this program\n"
     ]
    }
   ],
   "source": [
    "# write a program that accepts someone's name and year of birth and returns their age.\n",
    "\n",
    "quit = 'stop'\n",
    "\n",
    "while True:\n",
    "    name = input('Enter your name or \"stop\" to quit: ')\n",
    "    \n",
    "    if name.lower() != quit:\n",
    "        year = int(input('Enter your year of birth: '))\n",
    "        age = 2023 - year\n",
    "        print(f'Hi {name}, you are {age} years old')\n",
    "    else:\n",
    "        print('Thank you for using this program')\n",
    "        break"
   ]
  },
  {
   "cell_type": "code",
   "execution_count": 12,
   "id": "3230cffe",
   "metadata": {},
   "outputs": [
    {
     "name": "stdout",
     "output_type": "stream",
     "text": [
      "Welcome to work,  fill the register: chidi\n",
      "Hi, chidi welcome to work\n",
      "Welcome to work,  fill the register: ola\n",
      "Hi, ola welcome to work\n",
      "Welcome to work,  fill the register: daniel\n",
      "daniel you are not a member of staff\n",
      "Welcome to work,  fill the register: kay\n",
      "Hi, kay welcome to work\n",
      "Welcome to work,  fill the register: close\n",
      "Employees at work are: ['chidi', 'ola', 'kay']\n",
      "Employees that are absent are: ['sola', 'habib', 'ben']\n"
     ]
    }
   ],
   "source": [
    "# write a program that takes daily staff attendance, and returns those who came in\n",
    "# and those who did not.\n",
    "\n",
    "staff = ['sola','kay','habib','ola','ben','chidi']\n",
    "register = []\n",
    "absent = []\n",
    "\n",
    "quit = 'close' # break condition\n",
    "\n",
    "while True:\n",
    "    member = input('Welcome to work,  fill the register: ')\n",
    "    if member.lower() == quit:\n",
    "        for name in staff:\n",
    "            if name not in register:\n",
    "                absent.append(name)\n",
    "        \n",
    "        print(f'Employees at work are: {register}')\n",
    "        print(f'Employees that are absent are: {absent}')\n",
    "        break\n",
    "    else:\n",
    "        if member.lower() in staff:\n",
    "            register.append(member)\n",
    "            print(f'Hi, {member} welcome to work')\n",
    "        else:\n",
    "            print(f'{member} you are not a member of staff')"
   ]
  },
  {
   "cell_type": "code",
   "execution_count": 16,
   "id": "3c519753",
   "metadata": {},
   "outputs": [
    {
     "name": "stdout",
     "output_type": "stream",
     "text": [
      "X: 513\n",
      "Y: 145\n",
      "LCM of 513 and 145 is 74385\n"
     ]
    }
   ],
   "source": [
    "# program that returns the LCM of two numbers \n",
    "\n",
    "num1 = int(input('X: '))\n",
    "num2 = int(input('Y: '))\n",
    "\n",
    "if num1 > num2:\n",
    "    larger = num1\n",
    "else:\n",
    "    larger = num2\n",
    "    \n",
    "while True:\n",
    "    if larger % num1 == 0 and larger % num2 == 0:\n",
    "        lcm = larger\n",
    "        break\n",
    "    else:\n",
    "        larger += 1\n",
    "    \n",
    "print(f'LCM of {num1} and {num2} is {lcm}')"
   ]
  },
  {
   "cell_type": "code",
   "execution_count": null,
   "id": "891ed0f5",
   "metadata": {},
   "outputs": [],
   "source": [
    "# quiz program that asks someone to guess the number of even numbers between their\n",
    "# desired range and rewards them  for being correct.\n",
    "\n",
    "\n",
    "# program that accepts a users name only if they are above 18 or has not registered before.\n",
    "\n",
    "# guessing game program that allows user guess a number between 1 and 10 and rewards them\n",
    "# for being correct. they can only play thrice."
   ]
  },
  {
   "cell_type": "code",
   "execution_count": 17,
   "id": "2a05ff2c",
   "metadata": {},
   "outputs": [],
   "source": [
    "import random"
   ]
  },
  {
   "cell_type": "code",
   "execution_count": 23,
   "id": "0941f8cc",
   "metadata": {},
   "outputs": [
    {
     "data": {
      "text/plain": [
       "2"
      ]
     },
     "execution_count": 23,
     "metadata": {},
     "output_type": "execute_result"
    }
   ],
   "source": [
    "computer_mind = random.randint(1,5)"
   ]
  },
  {
   "cell_type": "code",
   "execution_count": 25,
   "id": "82aa47a0",
   "metadata": {},
   "outputs": [
    {
     "name": "stdout",
     "output_type": "stream",
     "text": [
      "Welcome please enter your name\n",
      "wale\n",
      "Hi, wale please deposit an amount to play with\n",
      "10\n",
      "This is a guessing game where you predict what's on my mind and you win $5 for being correct\n",
      "what number am i thinking of?: 3\n",
      "you are wrong you lost $5 you now have $5.0\n",
      "what number am i thinking of?: 3\n",
      "you are wrong you lost $5 you now have $0.0\n",
      "wale you are out of fund\n"
     ]
    }
   ],
   "source": [
    "print('Welcome please enter your name')\n",
    "name = input()\n",
    "\n",
    "print(f'Hi, {name} please deposit an amount to play with')\n",
    "\n",
    "fund = float(input())\n",
    "\n",
    "attempt = 0\n",
    "print(\"This is a guessing game where you predict what's on my mind and you win $5 for being correct\")\n",
    "\n",
    "while True:\n",
    "    if attempt >= 3:\n",
    "        print(f'{name} you left with ${fund}')\n",
    "        break\n",
    "    else:\n",
    "        if fund <= 0:\n",
    "            print(f'{name} you are out of fund')\n",
    "            break\n",
    "        else:\n",
    "            guess = int(input('what number am i thinking of?: '))\n",
    "            computer_mind = random.randint(1,5)\n",
    "            if guess == computer_mind:\n",
    "                fund += 5\n",
    "                attempt += 1\n",
    "                print(f'you are correct you won $5 you now have ${fund}')\n",
    "            else:\n",
    "                fund -= 5\n",
    "                attempt += 1\n",
    "                print(f'you are wrong you lost $5 you now have ${fund}')\n",
    "                \n",
    "\n",
    "    "
   ]
  },
  {
   "cell_type": "markdown",
   "id": "b898e5a1",
   "metadata": {},
   "source": [
    "## DICTIONERIES"
   ]
  },
  {
   "cell_type": "code",
   "execution_count": 1,
   "metadata": {},
   "outputs": [
    {
     "data": {
      "text/plain": [
       "{'Beans': 'protein', 'yam': 'carbohydrate', 'orange': 'vitamin'}"
      ]
     },
     "execution_count": 1,
     "metadata": {},
     "output_type": "execute_result"
    }
   ],
   "source": [
    "# create a food class dictionary \n",
    "\n",
    "\n",
    "food_class = {\n",
    "    \n",
    "    'Beans': 'protein',\n",
    "    'yam' : 'carbohydrate',\n",
    "    'orange': 'vitamin' \n",
    "}\n",
    "\n",
    "food_class"
   ]
  },
  {
   "cell_type": "code",
   "execution_count": 17,
   "metadata": {},
   "outputs": [
    {
     "data": {
      "text/plain": [
       "'carbohydrate'"
      ]
     },
     "execution_count": 17,
     "metadata": {},
     "output_type": "execute_result"
    }
   ],
   "source": [
    "food_class['yam']"
   ]
  },
  {
   "cell_type": "code",
   "execution_count": 2,
   "metadata": {},
   "outputs": [
    {
     "name": "stdout",
     "output_type": "stream",
     "text": [
      "<class 'dict'>\n"
     ]
    }
   ],
   "source": [
    "print(type(food_class))"
   ]
  },
  {
   "cell_type": "code",
   "execution_count": 3,
   "metadata": {},
   "outputs": [
    {
     "data": {
      "text/plain": [
       "dict_keys(['Beans', 'yam', 'orange'])"
      ]
     },
     "execution_count": 3,
     "metadata": {},
     "output_type": "execute_result"
    }
   ],
   "source": [
    "food_class.keys()"
   ]
  },
  {
   "cell_type": "code",
   "execution_count": 4,
   "metadata": {},
   "outputs": [
    {
     "data": {
      "text/plain": [
       "dict_values(['protein', 'carbohydrate', 'vitamin'])"
      ]
     },
     "execution_count": 4,
     "metadata": {},
     "output_type": "execute_result"
    }
   ],
   "source": [
    "food_class.values()"
   ]
  },
  {
   "cell_type": "code",
   "execution_count": 5,
   "metadata": {},
   "outputs": [
    {
     "data": {
      "text/plain": [
       "dict_items([('Beans', 'protein'), ('yam', 'carbohydrate'), ('orange', 'vitamin')])"
      ]
     },
     "execution_count": 5,
     "metadata": {},
     "output_type": "execute_result"
    }
   ],
   "source": [
    "food_class.items()"
   ]
  },
  {
   "cell_type": "code",
   "execution_count": 11,
   "metadata": {},
   "outputs": [
    {
     "name": "stdout",
     "output_type": "stream",
     "text": [
      "('Beans', 'protein')\n",
      "('yam', 'carbohydrate')\n",
      "('orange', 'vitamin')\n"
     ]
    }
   ],
   "source": [
    "for i, j in food_class.items():\n",
    "    print(f'{i,j}')"
   ]
  },
  {
   "cell_type": "code",
   "execution_count": 12,
   "metadata": {},
   "outputs": [
    {
     "data": {
      "text/plain": [
       "'protein'"
      ]
     },
     "execution_count": 12,
     "metadata": {},
     "output_type": "execute_result"
    }
   ],
   "source": [
    "food_class['Beans']"
   ]
  },
  {
   "cell_type": "code",
   "execution_count": 16,
   "metadata": {},
   "outputs": [
    {
     "name": "stdout",
     "output_type": "stream",
     "text": [
      "<class 'dict_keys'>\n"
     ]
    }
   ],
   "source": [
    "print(type(food_class.keys()))"
   ]
  },
  {
   "cell_type": "code",
   "execution_count": 18,
   "metadata": {},
   "outputs": [
    {
     "name": "stdout",
     "output_type": "stream",
     "text": [
      "oyo has 10000 population\n"
     ]
    }
   ],
   "source": [
    "## create a state and population dictionary\n",
    "## you are going to include a program that allows people \n",
    "## check the population of their states.\n",
    "\n",
    "# states: osun,oyo,lagos,kwara,ogun\n",
    "\n",
    "states = {\n",
    "    \n",
    "    'oyo': 10000,\n",
    "    'osun': 2000,\n",
    "    'lagos': 3000,\n",
    "    'ogun' : 2000  \n",
    "    \n",
    "}\n",
    "\n",
    "\n",
    "state_1 = input('Enter the first state: ')\n",
    "state_2 = input('Enter the second state: ')\n",
    "\n",
    "\n",
    "print(f'{state} has {states[state_1]} population')"
   ]
  },
  {
   "cell_type": "code",
   "execution_count": 19,
   "metadata": {},
   "outputs": [],
   "source": [
    "states.update({'kaduna': 50000})"
   ]
  },
  {
   "cell_type": "code",
   "execution_count": 20,
   "metadata": {},
   "outputs": [
    {
     "data": {
      "text/plain": [
       "{'oyo': 10000, 'osun': 2000, 'lagos': 3000, 'kaduna': 50000}"
      ]
     },
     "execution_count": 20,
     "metadata": {},
     "output_type": "execute_result"
    }
   ],
   "source": [
    "# write a sign up program. it will accept username and password\n",
    "#"
   ]
  },
  {
   "cell_type": "code",
   "execution_count": 49,
   "metadata": {},
   "outputs": [],
   "source": [
    "\n",
    "\n",
    "def create_account():\n",
    "    \n",
    "    database = {}\n",
    "    quit = 'stop'\n",
    "\n",
    "    while True:\n",
    "        name = input('Enter your name:')\n",
    "        if name.lower() == 'stop':\n",
    "            break\n",
    "        else:\n",
    "            if name in database.keys():\n",
    "                print('Username already exist')\n",
    "            else:\n",
    "                password = input('Choose a password: ')\n",
    "                database.update({name:password})\n",
    "                print(f'Welcome {name}, account created!')\n",
    "        \n"
   ]
  },
  {
   "cell_type": "code",
   "execution_count": 50,
   "id": "4f71803e",
   "metadata": {},
   "outputs": [
    {
     "name": "stdout",
     "output_type": "stream",
     "text": [
      "Welcome wale, account created!\n"
     ]
    }
   ],
   "source": [
    "create_account()"
   ]
  },
  {
   "cell_type": "code",
   "execution_count": 24,
   "metadata": {},
   "outputs": [
    {
     "name": "stdout",
     "output_type": "stream",
     "text": [
      "Incorrect password\n",
      "Create an account\n"
     ]
    }
   ],
   "source": [
    "stop = 'quit'\n",
    "\n",
    "\n",
    "while True:\n",
    "    name = input('Enter your username: ')\n",
    "    if name in database.keys():\n",
    "        password = input('Enter your passowrd')\n",
    "        if database[name] == password:\n",
    "            print(f'Access granted welcome {name}')\n",
    "        else:\n",
    "            print('Incorrect password')\n",
    "    else:\n",
    "        print('Create an account')\n",
    "        create_account()\n",
    "        break"
   ]
  },
  {
   "cell_type": "code",
   "execution_count": 23,
   "metadata": {},
   "outputs": [
    {
     "data": {
      "text/plain": [
       "dict_keys(['segun', 'done'])"
      ]
     },
     "execution_count": 23,
     "metadata": {},
     "output_type": "execute_result"
    }
   ],
   "source": [
    "database.keys()"
   ]
  },
  {
   "cell_type": "markdown",
   "id": "7af72419",
   "metadata": {},
   "source": [
    "# FUNCTIONS"
   ]
  },
  {
   "cell_type": "code",
   "execution_count": 1,
   "id": "8926a81d",
   "metadata": {},
   "outputs": [],
   "source": [
    "def greet(name):\n",
    "    return f'Hello {name} how are you'"
   ]
  },
  {
   "cell_type": "code",
   "execution_count": 8,
   "id": "7339f67c",
   "metadata": {},
   "outputs": [],
   "source": [
    "# write a function that returns the prime numbers within a range\n",
    "\n",
    "def check_prime(num):\n",
    "    for i in range(2,num):\n",
    "        if num % i == 0:\n",
    "            return False\n",
    "    else:\n",
    "        return True\n"
   ]
  },
  {
   "cell_type": "code",
   "execution_count": 15,
   "id": "664a8cd7",
   "metadata": {},
   "outputs": [],
   "source": [
    "def get_prime(a, b):\n",
    "    primes = []\n",
    "    for i in range(a, b+1):\n",
    "        if check_prime(i) == True:\n",
    "            primes.append(i)\n",
    "    return primes"
   ]
  },
  {
   "cell_type": "code",
   "execution_count": 16,
   "id": "5e66719f",
   "metadata": {},
   "outputs": [
    {
     "data": {
      "text/plain": [
       "[17, 19]"
      ]
     },
     "execution_count": 16,
     "metadata": {},
     "output_type": "execute_result"
    }
   ],
   "source": [
    "get_prime(15,20)"
   ]
  },
  {
   "cell_type": "code",
   "execution_count": 20,
   "id": "c5c2d3af",
   "metadata": {},
   "outputs": [],
   "source": [
    "# write a function that returns the average of numbers \n",
    "\n",
    "def average(*nums):\n",
    "    nums = list(nums)\n",
    "    avg = sum(nums)/len(nums)\n",
    "    return avg\n"
   ]
  },
  {
   "cell_type": "code",
   "execution_count": 21,
   "id": "2702394a",
   "metadata": {},
   "outputs": [
    {
     "data": {
      "text/plain": [
       "5.75"
      ]
     },
     "execution_count": 21,
     "metadata": {},
     "output_type": "execute_result"
    }
   ],
   "source": [
    "average(2,3,4,5,6,7,9,10)"
   ]
  },
  {
   "cell_type": "code",
   "execution_count": 28,
   "id": "5db3f67c",
   "metadata": {},
   "outputs": [],
   "source": [
    "# write a function that returns the average of all the numbers that are not prime within a range.\n",
    "\n",
    "\n",
    "\n",
    "def avg_multiples(a,b):\n",
    "    multiples = []\n",
    "    for i in range(a,b):\n",
    "        if check_prime(i) == False:\n",
    "            multiples.append(i)\n",
    "            \n",
    "    avg = sum(multiples)/len(multiples)\n",
    "    \n",
    "    return avg\n",
    "            \n"
   ]
  },
  {
   "cell_type": "code",
   "execution_count": 29,
   "id": "6f75938a",
   "metadata": {},
   "outputs": [
    {
     "data": {
      "text/plain": [
       "6.75"
      ]
     },
     "execution_count": 29,
     "metadata": {},
     "output_type": "execute_result"
    }
   ],
   "source": [
    "avg_multiples(3,10)"
   ]
  },
  {
   "cell_type": "code",
   "execution_count": 34,
   "id": "b657931e",
   "metadata": {},
   "outputs": [],
   "source": [
    "## build a palindrome checker function\n",
    "\n",
    "\n",
    "def palindrome(word):\n",
    "    \n",
    "    if word == word[::-1]:\n",
    "        return True\n",
    "    else:\n",
    "        return False"
   ]
  },
  {
   "cell_type": "code",
   "execution_count": 36,
   "id": "1b92ba75",
   "metadata": {},
   "outputs": [
    {
     "data": {
      "text/plain": [
       "False"
      ]
     },
     "execution_count": 36,
     "metadata": {},
     "output_type": "execute_result"
    }
   ],
   "source": [
    "palindrome('Johnson')"
   ]
  },
  {
   "cell_type": "code",
   "execution_count": null,
   "id": "000bc4bd",
   "metadata": {},
   "outputs": [],
   "source": [
    "def get_age(year, name):\n",
    "    age = 2023 - year\n",
    "    return f'Hi {name}, you are {age} years old'"
   ]
  },
  {
   "cell_type": "code",
   "execution_count": 41,
   "id": "57394a95",
   "metadata": {},
   "outputs": [],
   "source": [
    "# a function that calculates an employees wage. it will take 3 parameters hours, hourly rate, tax\n",
    "\n",
    "\n",
    "def get_wage(hours, rate, tax = 0.05):\n",
    "    \"\"\"_calculates the wage of an employee_\n",
    "\n",
    "    Args:\n",
    "        hours (float): _The number of hours the employee worked_\n",
    "        rate (float): _description_\n",
    "        tax (float, optional): _description_. Defaults to 0.05.\n",
    "    \"\"\"\n",
    "    wage = hours * rate * (1-tax)\n",
    "    \n",
    "    return wage\n"
   ]
  },
  {
   "cell_type": "code",
   "execution_count": 42,
   "id": "b691c27a",
   "metadata": {},
   "outputs": [
    {
     "data": {
      "text/plain": [
       "85.0"
      ]
     },
     "execution_count": 42,
     "metadata": {},
     "output_type": "execute_result"
    }
   ],
   "source": [
    "get_wage(10,10,0.15)"
   ]
  },
  {
   "cell_type": "code",
   "execution_count": 47,
   "id": "128244f4",
   "metadata": {},
   "outputs": [],
   "source": [
    "# function that returns the net salary of an employee after tax and thrift is deducted.\n",
    "# note, the minimum thrift is 20% of salary and tax is 3% for all staff. Also only the female workers participates\n",
    "# in the thrift\n",
    "\n",
    "# gross, tax, thrift, gender\n",
    "\n",
    "\n",
    "def net_salary(gross, tax = 0.03, thrift = 0.2, female = True):\n",
    "    \"\"\"_summary_\n",
    "\n",
    "    Args:\n",
    "        gross (_type_): _description_\n",
    "        tax (float, optional): _description_. Defaults to 0.03.\n",
    "        thrift (float, optional): _description_. Defaults to 0.2.\n",
    "        female (bool, optional): _description_. Defaults to True.\n",
    "    \"\"\"\n",
    "    salary = gross * (1-tax)\n",
    "    \n",
    "    if female:\n",
    "        return salary * (1-thrift)\n",
    "    else:\n",
    "        return salary"
   ]
  },
  {
   "cell_type": "code",
   "execution_count": 48,
   "id": "e2cfa2c0",
   "metadata": {},
   "outputs": [
    {
     "data": {
      "text/plain": [
       "38250.0"
      ]
     },
     "execution_count": 48,
     "metadata": {},
     "output_type": "execute_result"
    }
   ],
   "source": [
    "net_salary(gross = 50000, tax= 0.15,thrift= 0.1, female= True)"
   ]
  },
  {
   "cell_type": "code",
   "execution_count": 10,
   "id": "9caac761",
   "metadata": {},
   "outputs": [],
   "source": [
    "# create a simple restaurant app with menu and promo feature \n",
    "\n",
    "\n",
    "\n",
    "\n",
    "def order():\n",
    "    quit = 'done' # break condition\n",
    "    bill = 0 # counter for billing\n",
    "    order_list = {}  # empty dictionary for tracking orders\n",
    "    menu = {\n",
    "        \n",
    "        'rice':200,\n",
    "        'beans':100,\n",
    "        'spag': 100,\n",
    "        'fish': 50\n",
    "        \n",
    "    }\n",
    "    while True:\n",
    "        food = input('what do you want?: ')\n",
    "        if food.lower() == quit:\n",
    "            break\n",
    "        else:\n",
    "            if food in menu.keys():\n",
    "                print(f'how many {food} do you want?: ')\n",
    "                quantity = int(input())\n",
    "                order_list.update({food:quantity})\n",
    "                bill += quantity * menu[food]\n",
    "                \n",
    "    return order_list, bill"
   ]
  },
  {
   "cell_type": "code",
   "execution_count": 16,
   "id": "1bc8ee7c",
   "metadata": {},
   "outputs": [],
   "source": [
    "def promo(bill):\n",
    "    gender = input('enter your gender')\n",
    "    if bill < 1000:\n",
    "        pass\n",
    "    else:\n",
    "        if gender == 'female':\n",
    "            bill -= bill * 0.1\n",
    "        elif gender == 'male':\n",
    "            bill -= bill * 0.15\n",
    "    return bill"
   ]
  },
  {
   "cell_type": "code",
   "execution_count": 17,
   "id": "0b192ecf",
   "metadata": {},
   "outputs": [
    {
     "name": "stdout",
     "output_type": "stream",
     "text": [
      "welcome to the hive, would you like to order?\n",
      "how many rice do you want?: \n",
      "how many fish do you want?: \n",
      "3 X rice = N600\n",
      "3 X fish = N150\n",
      "your total bill is N750\n"
     ]
    }
   ],
   "source": [
    "menu = {\n",
    "        \n",
    "        'rice':200,\n",
    "        'beans':100,\n",
    "        'spag': 100,\n",
    "        'fish': 50\n",
    "        \n",
    "    }\n",
    "print(f'welcome to the hive, would you like to order?')\n",
    "decision = input()\n",
    "\n",
    "if decision == 'no':\n",
    "    pass\n",
    "elif decision == 'yes':\n",
    "    your_bill = order()\n",
    "    your_order, total_order = your_bill\n",
    "    total_order = promo(bill= total_order)\n",
    "    for food, quantity in your_order.items():\n",
    "        print(f'{quantity} X {food} = N{quantity * menu[food]}')\n",
    "    print(f'your total bill is N{total_order}')\n",
    "    \n",
    "else:\n",
    "    print('i dont understand')"
   ]
  },
  {
   "cell_type": "code",
   "execution_count": 22,
   "id": "de52276c",
   "metadata": {},
   "outputs": [],
   "source": [
    "# keyword arguments\n",
    "\n",
    "def nigeria(**states):\n",
    "    \n",
    "    return states\n"
   ]
  },
  {
   "cell_type": "code",
   "execution_count": 23,
   "id": "da1e15f4",
   "metadata": {},
   "outputs": [
    {
     "data": {
      "text/plain": [
       "{'oyo': 'ibadan', 'osun': 'osogbo', 'lagos': 'ikeja'}"
      ]
     },
     "execution_count": 23,
     "metadata": {},
     "output_type": "execute_result"
    }
   ],
   "source": [
    "nigeria(oyo = 'ibadan',osun = 'osogbo', lagos = 'ikeja')"
   ]
  },
  {
   "cell_type": "markdown",
   "id": "d2582c5b",
   "metadata": {},
   "source": [
    "## LAMBDA FUNCTIONS"
   ]
  },
  {
   "cell_type": "code",
   "execution_count": 1,
   "id": "223fdad3",
   "metadata": {},
   "outputs": [
    {
     "name": "stdout",
     "output_type": "stream",
     "text": [
      "5\n"
     ]
    }
   ],
   "source": [
    "# function that adds two numbers\n",
    "\n",
    "def add(x,y):\n",
    "    total = x + y\n",
    "    return total\n",
    "\n",
    "print(add(3,2))"
   ]
  },
  {
   "cell_type": "code",
   "execution_count": 2,
   "id": "6f274abf",
   "metadata": {},
   "outputs": [
    {
     "name": "stdout",
     "output_type": "stream",
     "text": [
      "9\n"
     ]
    }
   ],
   "source": [
    "add2 = lambda x,y: x+y\n",
    "\n",
    "\n",
    "print(add2(5,4))"
   ]
  },
  {
   "cell_type": "code",
   "execution_count": 4,
   "id": "8229f741",
   "metadata": {},
   "outputs": [
    {
     "name": "stdout",
     "output_type": "stream",
     "text": [
      "11\n"
     ]
    }
   ],
   "source": [
    "double = lambda x, y = 3: x * 2 + y\n",
    "\n",
    "print(double(4))\n"
   ]
  },
  {
   "cell_type": "code",
   "execution_count": 5,
   "id": "933e3de7",
   "metadata": {},
   "outputs": [
    {
     "data": {
      "text/plain": [
       "[1, 4, 9, 16, 25]"
      ]
     },
     "execution_count": 5,
     "metadata": {},
     "output_type": "execute_result"
    }
   ],
   "source": [
    "# map, reduce and filter\n",
    "\n",
    "\n",
    "# return the square of every element in a list\n",
    "\n",
    "\n",
    "nums = [1,2,3,4,5]\n",
    "\n",
    "square_nums = list(map(lambda x:x**2, nums))\n",
    "square_nums\n",
    "\n"
   ]
  },
  {
   "cell_type": "code",
   "execution_count": 8,
   "id": "d85a5f8e",
   "metadata": {},
   "outputs": [
    {
     "data": {
      "text/plain": [
       "[2, 4, 6, 8]"
      ]
     },
     "execution_count": 8,
     "metadata": {},
     "output_type": "execute_result"
    }
   ],
   "source": [
    "# return the even numbers within a range\n",
    "# filter\n",
    "\n",
    "a = [1,2,3,4,5,6,7,8]\n",
    "\n",
    "even_no = list(filter(lambda x: x%2 ==0, a))\n",
    "even_no\n"
   ]
  },
  {
   "cell_type": "code",
   "execution_count": 11,
   "id": "7941fb3d",
   "metadata": {},
   "outputs": [
    {
     "name": "stdout",
     "output_type": "stream",
     "text": [
      "120\n"
     ]
    }
   ],
   "source": [
    "# reduce \n",
    "\n",
    "numbers = [1,2,3,4,5]\n",
    "\n",
    "print(reduce(lambda x,y: x * y, numbers))"
   ]
  },
  {
   "cell_type": "code",
   "execution_count": 10,
   "id": "0e2b83aa",
   "metadata": {},
   "outputs": [],
   "source": [
    "from functools import reduce"
   ]
  },
  {
   "cell_type": "code",
   "execution_count": null,
   "id": "67d576f7",
   "metadata": {},
   "outputs": [],
   "source": [
    "# write a function that returns the square root of a number \n",
    "# write a function that returns the multiples of 4 between 41 and 100\n",
    "# write a function that returns the result of successively subtracting the elements in a list."
   ]
  },
  {
   "cell_type": "markdown",
   "id": "c0f85e8d",
   "metadata": {},
   "source": [
    "## List comprehension"
   ]
  },
  {
   "cell_type": "code",
   "execution_count": 12,
   "id": "d06bcae7",
   "metadata": {},
   "outputs": [
    {
     "data": {
      "text/plain": [
       "[44, 48, 52, 56, 60, 64, 68, 72, 76, 80, 84, 88, 92, 96]"
      ]
     },
     "execution_count": 12,
     "metadata": {},
     "output_type": "execute_result"
    }
   ],
   "source": [
    "multi_4 = [x for x in range(41,100) if x%4 == 0]\n",
    "\n",
    "multi_4"
   ]
  },
  {
   "cell_type": "code",
   "execution_count": 13,
   "id": "158a8858",
   "metadata": {},
   "outputs": [
    {
     "data": {
      "text/plain": [
       "[1936,\n",
       " 2304,\n",
       " 2704,\n",
       " 3136,\n",
       " 3600,\n",
       " 4096,\n",
       " 4624,\n",
       " 5184,\n",
       " 5776,\n",
       " 6400,\n",
       " 7056,\n",
       " 7744,\n",
       " 8464,\n",
       " 9216]"
      ]
     },
     "execution_count": 13,
     "metadata": {},
     "output_type": "execute_result"
    }
   ],
   "source": [
    "square_multi = [x**2 for x in multi_4]\n",
    "square_multi"
   ]
  },
  {
   "cell_type": "code",
   "execution_count": 16,
   "id": "c3bdeca6",
   "metadata": {},
   "outputs": [
    {
     "data": {
      "text/plain": [
       "['not prime',\n",
       " 'not prime',\n",
       " 'not prime',\n",
       " 'prime',\n",
       " 'not prime',\n",
       " 'not prime',\n",
       " 'not prime',\n",
       " 'not prime',\n",
       " 'not prime',\n",
       " 'prime',\n",
       " 'not prime',\n",
       " 'prime',\n",
       " 'not prime',\n",
       " 'not prime',\n",
       " 'not prime',\n",
       " 'not prime',\n",
       " 'not prime',\n",
       " 'prime',\n",
       " 'not prime',\n",
       " 'not prime']"
      ]
     },
     "execution_count": 16,
     "metadata": {},
     "output_type": "execute_result"
    }
   ],
   "source": [
    "# return the prime numbers within a range\n",
    "\n",
    "\n",
    "def check_prime(num):\n",
    "    for i in range(2,num):\n",
    "        if num % i == 0:\n",
    "            return False\n",
    "    else:\n",
    "        return True\n",
    "    \n",
    "    \n",
    "\n",
    "primes = ['prime' if check_prime(x) == True else 'not prime' for x in\n",
    "          range(20,40)]                    #[x for x in range(20, 70) if check_prime(x) == True]\n",
    "\n",
    "primes"
   ]
  },
  {
   "cell_type": "code",
   "execution_count": 17,
   "id": "5ca2e72b",
   "metadata": {},
   "outputs": [
    {
     "data": {
      "text/plain": [
       "['q1', 'q1', 'q1', 'q2', 'q2', 'q2', 'q3', 'q3', 'q3', 'q4', 'q4', 'q4']"
      ]
     },
     "execution_count": 17,
     "metadata": {},
     "output_type": "execute_result"
    }
   ],
   "source": [
    "some_list = [1,2,3,4,5,6,7,8,9,10,11,12]\n",
    "\n",
    "\n",
    "new = ['q1' if x <= 12 * 0.25 else 'q2' if x <= 12*0.5 else \n",
    "       'q3' if x <= 12 * 0.75 else 'q4' for x in some_list]\n",
    "\n",
    "new\n",
    "\n",
    "\n"
   ]
  },
  {
   "cell_type": "markdown",
   "id": "19eb4aa6",
   "metadata": {},
   "source": [
    "## Exception Handling"
   ]
  },
  {
   "cell_type": "code",
   "execution_count": 25,
   "id": "ae8e3ee2",
   "metadata": {},
   "outputs": [
    {
     "name": "stdout",
     "output_type": "stream",
     "text": [
      "cannot divide by zero\n"
     ]
    },
    {
     "data": {
      "text/plain": [
       "0.5"
      ]
     },
     "execution_count": 25,
     "metadata": {},
     "output_type": "execute_result"
    }
   ],
   "source": [
    "def divide():\n",
    "    attempt = 0\n",
    "    while True:\n",
    "        a = int(input())\n",
    "        b = int(input())\n",
    "        if attempt <= 2:\n",
    "            try:\n",
    "                ratio = a/b\n",
    "            except ZeroDivisionError:\n",
    "                print('cannot divide by zero')\n",
    "            attempt += 1\n",
    "        else:\n",
    "            break\n",
    "    return ratio\n",
    "\n",
    "\n",
    "divide()"
   ]
  },
  {
   "cell_type": "code",
   "execution_count": null,
   "id": "8d388cc3",
   "metadata": {},
   "outputs": [],
   "source": []
  }
 ],
 "metadata": {
  "kernelspec": {
   "display_name": "Python 3 (ipykernel)",
   "language": "python",
   "name": "python3"
  },
  "language_info": {
   "codemirror_mode": {
    "name": "ipython",
    "version": 3
   },
   "file_extension": ".py",
   "mimetype": "text/x-python",
   "name": "python",
   "nbconvert_exporter": "python",
   "pygments_lexer": "ipython3",
   "version": "3.11.4"
  }
 },
 "nbformat": 4,
 "nbformat_minor": 5
}

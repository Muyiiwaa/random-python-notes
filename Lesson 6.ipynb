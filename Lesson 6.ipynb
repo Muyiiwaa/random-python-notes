{
 "cells": [
  {
   "cell_type": "markdown",
   "metadata": {},
   "source": [
    "### Introduction\n",
    "\n",
    "We are going to be covering the following topics today.\n",
    "\n",
    "1. jupyter noteboks\n",
    "2. variables and datatypes\n",
    "3. Basic python operations\n",
    "4. BuiltIn functions and methods\n",
    "5. conditionals\n",
    "\n",
    "Learning outcome.\n",
    "* basic understanding of python data types\n",
    "* handling conditions andd writing basic programs"
   ]
  },
  {
   "cell_type": "code",
   "execution_count": 1,
   "metadata": {},
   "outputs": [
    {
     "name": "stdout",
     "output_type": "stream",
     "text": [
      "sodiq\n"
     ]
    }
   ],
   "source": [
    "name = 'sodiq'\n",
    "\n",
    "print(name)"
   ]
  },
  {
   "cell_type": "code",
   "execution_count": 2,
   "metadata": {},
   "outputs": [
    {
     "name": "stdout",
     "output_type": "stream",
     "text": [
      "Tola is 25 years old\n"
     ]
    }
   ],
   "source": [
    "# string formatting\n",
    "\n",
    "name = 'Tola'\n",
    "age = 25\n",
    "\n",
    "print(f'{name} is {age} years old')"
   ]
  },
  {
   "cell_type": "markdown",
   "metadata": {},
   "source": [
    "#### Data Types\n",
    "\n",
    "* strings -- 'cat','ibadan','pencil'\n",
    "* int -- 1,2,45,67,990000\n",
    "* float -- 23.4, 1.00, 34.6\n",
    "* bool -- True or False\n",
    "* binary -- 0,1\n",
    "* list -- [1,2,3,5]\n",
    "* tuple -- (1,2,3,4)\n",
    "* dictioneries -- {osun: osogbo, lagos:ikeja}"
   ]
  },
  {
   "cell_type": "code",
   "execution_count": 3,
   "metadata": {},
   "outputs": [
    {
     "ename": "ValueError",
     "evalue": "could not convert string to float: ''",
     "output_type": "error",
     "traceback": [
      "\u001b[1;31m---------------------------------------------------------------------------\u001b[0m",
      "\u001b[1;31mValueError\u001b[0m                                Traceback (most recent call last)",
      "Cell \u001b[1;32mIn[3], line 3\u001b[0m\n\u001b[0;32m      1\u001b[0m \u001b[38;5;66;03m# write a program that calculates the area of a rectangle\u001b[39;00m\n\u001b[1;32m----> 3\u001b[0m length \u001b[38;5;241m=\u001b[39m \u001b[38;5;28mfloat\u001b[39m(\u001b[38;5;28minput\u001b[39m(\u001b[38;5;124m'\u001b[39m\u001b[38;5;124mEnter the length: \u001b[39m\u001b[38;5;124m'\u001b[39m))\n\u001b[0;32m      4\u001b[0m breadth \u001b[38;5;241m=\u001b[39m \u001b[38;5;28mfloat\u001b[39m(\u001b[38;5;28minput\u001b[39m(\u001b[38;5;124m'\u001b[39m\u001b[38;5;124mEnter the breadth: \u001b[39m\u001b[38;5;124m'\u001b[39m))\n\u001b[0;32m      6\u001b[0m area \u001b[38;5;241m=\u001b[39m length \u001b[38;5;241m*\u001b[39m breadth\n",
      "\u001b[1;31mValueError\u001b[0m: could not convert string to float: ''"
     ]
    }
   ],
   "source": [
    "# write a program that calculates the area of a rectangle\n",
    "\n",
    "length = float(input('Enter the length: '))\n",
    "breadth = float(input('Enter the breadth: '))\n",
    "\n",
    "area = length * breadth\n",
    "print(f'The area of the rectangle is {area} cm2')"
   ]
  },
  {
   "cell_type": "code",
   "execution_count": null,
   "metadata": {},
   "outputs": [
    {
     "name": "stdout",
     "output_type": "stream",
     "text": [
      "Hi Segun, in 2000 you will be 24 years old\n"
     ]
    }
   ],
   "source": [
    "# write a program that accepts someone's name and retuns their age based on their year of birth\n",
    "\n",
    "name = input('Enter your name: ')\n",
    "year = int(input('Enter your year of birth: '))\n",
    "\n",
    "age = 2024 - year\n",
    "\n",
    "print(f'Hi {name}, in {year} you will be {age} years old')"
   ]
  },
  {
   "cell_type": "code",
   "execution_count": null,
   "metadata": {},
   "outputs": [
    {
     "name": "stdout",
     "output_type": "stream",
     "text": [
      "There are 3 week and 2 day in 23 days\n"
     ]
    }
   ],
   "source": [
    "days = int(input('Enter the number of days: '))\n",
    "\n",
    "weeks = days // 7\n",
    "\n",
    "day = days % 7\n",
    "\n",
    "print(f'There are {weeks} week and {day} day in {days} days')"
   ]
  },
  {
   "cell_type": "code",
   "execution_count": null,
   "metadata": {},
   "outputs": [
    {
     "data": {
      "text/plain": [
       "6.0"
      ]
     },
     "execution_count": 23,
     "metadata": {},
     "output_type": "execute_result"
    }
   ],
   "source": [
    "# floor division\n",
    "\n",
    "5 // 2\n",
    "\n",
    "# remainder or modulus\n",
    "\n",
    "5 % 2\n",
    "\n",
    "# power\n",
    "\n",
    "2 ** 3\n",
    "\n",
    "# root \n",
    "\n",
    "8 **(1/3)\n",
    "\n",
    "# square root\n",
    "\n",
    "36 ** (1/2)"
   ]
  },
  {
   "cell_type": "code",
   "execution_count": null,
   "metadata": {},
   "outputs": [],
   "source": [
    "# write a program that takes any naira amount and converts it to dollars\n",
    "# rate = 1500\n"
   ]
  },
  {
   "cell_type": "code",
   "execution_count": null,
   "metadata": {},
   "outputs": [
    {
     "data": {
      "text/plain": [
       "1"
      ]
     },
     "execution_count": 59,
     "metadata": {},
     "output_type": "execute_result"
    }
   ],
   "source": [
    "# Lists \n",
    "\n",
    "fruits = ['orange','apple','mango','cashew','lemon']\n",
    "foods = ['rice', 'beans']\n",
    "\n",
    "# indexing\n",
    "\n",
    "fruits[-4]\n",
    "\n",
    "# slicing\n",
    "\n",
    "fruits[2:]\n",
    "\n",
    "things = [1,2,True, fruits, 'ade', [2,4,6]]\n",
    "type(things[3][1])\n",
    "\n",
    "# return a list of even numbers between 2 and 10\n",
    "\n",
    "nums = list(range(7,50,7))\n",
    "\n",
    "# list methods.\n",
    "\n",
    "# .append\n",
    "fruits.append('guava')\n",
    "\n",
    "# extend\n",
    "foods.extend(fruits)\n",
    "\n",
    "# remove\n",
    "\n",
    "foods.remove('orange')\n",
    "\n",
    "# .pop\n",
    "\n",
    "foods.pop(2)\n",
    "\n",
    "\n",
    "# .index \n",
    "foods.index('beans')\n"
   ]
  },
  {
   "cell_type": "code",
   "execution_count": null,
   "metadata": {},
   "outputs": [
    {
     "name": "stdout",
     "output_type": "stream",
     "text": [
      "[1, 2, 3, 4, 5, 6]\n"
     ]
    }
   ],
   "source": [
    "# list functions\n",
    "\n",
    "# len \n",
    "\n",
    "len(fruits)\n",
    "\n",
    "# max\n",
    "max(nums)\n",
    "\n",
    "# min\n",
    "min(nums)\n",
    "\n",
    "# sum\n",
    "sum(nums)\n",
    "\n",
    "# sorted\n",
    "\n",
    "age = [2,1,5,3,4,6]\n",
    "\n",
    "print(sorted(age))"
   ]
  },
  {
   "cell_type": "code",
   "execution_count": null,
   "metadata": {},
   "outputs": [],
   "source": [
    "a = [[1,2,3],\n",
    "     [4,5,6],\n",
    "     [7,8,9]\n",
    "     ]"
   ]
  },
  {
   "cell_type": "code",
   "execution_count": null,
   "metadata": {},
   "outputs": [
    {
     "data": {
      "text/plain": [
       "6"
      ]
     },
     "execution_count": 71,
     "metadata": {},
     "output_type": "execute_result"
    }
   ],
   "source": [
    "a[1][2]"
   ]
  },
  {
   "cell_type": "code",
   "execution_count": null,
   "metadata": {},
   "outputs": [],
   "source": [
    "# tuples \n",
    "\n",
    "name = ('ade','wale','tola','femi')\n",
    "age = (8,3,4,15,6)\n"
   ]
  },
  {
   "cell_type": "code",
   "execution_count": null,
   "metadata": {},
   "outputs": [
    {
     "data": {
      "text/plain": [
       "[3, 4, 6, 8, 15]"
      ]
     },
     "execution_count": 78,
     "metadata": {},
     "output_type": "execute_result"
    }
   ],
   "source": [
    "sorted(age)"
   ]
  },
  {
   "cell_type": "code",
   "execution_count": null,
   "metadata": {},
   "outputs": [],
   "source": [
    "# dictioneries \n",
    "\n",
    "nigeria = {\n",
    "    'lagos':'ikeja',\n",
    "    'osun' : 'osogbo',\n",
    "    'oyo':'ibadan',\n",
    "    'ogun':'abeokuta'   \n",
    "}"
   ]
  },
  {
   "cell_type": "code",
   "execution_count": null,
   "metadata": {},
   "outputs": [
    {
     "data": {
      "text/plain": [
       "dict_keys(['lagos', 'osun', 'oyo', 'ogun'])"
      ]
     },
     "execution_count": 82,
     "metadata": {},
     "output_type": "execute_result"
    }
   ],
   "source": [
    "# returns the keys\n",
    "nigeria.keys()"
   ]
  },
  {
   "cell_type": "code",
   "execution_count": null,
   "metadata": {},
   "outputs": [
    {
     "data": {
      "text/plain": [
       "dict_values(['ikeja', 'osogbo', 'ibadan', 'abeokuta'])"
      ]
     },
     "execution_count": 83,
     "metadata": {},
     "output_type": "execute_result"
    }
   ],
   "source": [
    "# returns values\n",
    "\n",
    "nigeria.values()"
   ]
  },
  {
   "cell_type": "code",
   "execution_count": null,
   "metadata": {},
   "outputs": [
    {
     "data": {
      "text/plain": [
       "dict_items([('lagos', 'ikeja'), ('osun', 'osogbo'), ('oyo', 'ibadan'), ('ogun', 'abeokuta')])"
      ]
     },
     "execution_count": 84,
     "metadata": {},
     "output_type": "execute_result"
    }
   ],
   "source": [
    "# returns a list of key value pair tuples \n",
    "nigeria.items()"
   ]
  },
  {
   "cell_type": "code",
   "execution_count": null,
   "metadata": {},
   "outputs": [
    {
     "data": {
      "text/plain": [
       "'osogbo'"
      ]
     },
     "execution_count": 86,
     "metadata": {},
     "output_type": "execute_result"
    }
   ],
   "source": [
    "nigeria['osun']"
   ]
  },
  {
   "cell_type": "code",
   "execution_count": null,
   "metadata": {},
   "outputs": [],
   "source": [
    "nigeria.update({'Kwara':'ilorin'})"
   ]
  },
  {
   "cell_type": "code",
   "execution_count": null,
   "metadata": {},
   "outputs": [
    {
     "data": {
      "text/plain": [
       "'ade'"
      ]
     },
     "execution_count": 94,
     "metadata": {},
     "output_type": "execute_result"
    }
   ],
   "source": [
    "data = {\n",
    "    'student_1':['ade','male',25,False],\n",
    "    'student_2':['wale','male',23,False],\n",
    "    'student_3':['habibat','female',25,True],\n",
    "    'student_4':['grace','female',25,True]   \n",
    "}\n",
    "\n",
    "# getting the name of student 1 \n",
    "\n",
    "data['student_1'][0]\n"
   ]
  },
  {
   "cell_type": "markdown",
   "metadata": {},
   "source": [
    "### CONDITIONALS\n"
   ]
  },
  {
   "cell_type": "code",
   "execution_count": null,
   "metadata": {},
   "outputs": [
    {
     "name": "stdout",
     "output_type": "stream",
     "text": [
      "They same age\n"
     ]
    }
   ],
   "source": [
    "# write a program that takes the name of two people, their date of birth and returns \n",
    "# the older person\n",
    "\n",
    "person_1 = input('Enter your name: ')\n",
    "year_1 = int(input('Enter your year: '))\n",
    "\n",
    "person_2 = input('Enter your name: ')\n",
    "year_2 = int(input('Enter your year: '))\n",
    "\n",
    "if year_1 < year_2 and 'c' in person_1:\n",
    "    print(f'{person_1} is older by {year_2-year_1} years')\n",
    "    print(f'{person_1} is not a Yoruba name')\n",
    "elif year_2 < year_1 and 'c' in person_1:\n",
    "    print(f'{person_2} is older by {year_1-year_2} years')\n",
    "    print(f'{person_1} is not a Yoruba name')\n",
    "else:\n",
    "    print('They same age')\n",
    "    \n",
    "    \n",
    "# The only condition for which this program understands yoruba names\n",
    "# is by absence of letter c"
   ]
  },
  {
   "cell_type": "code",
   "execution_count": null,
   "metadata": {},
   "outputs": [
    {
     "name": "stdout",
     "output_type": "stream",
     "text": [
      "Hi Maleek congratulations, you are eliible for schorlarship\n"
     ]
    }
   ],
   "source": [
    "# schorlarship eigibility program\n",
    "\n",
    "states = ['osun','oyo','lagoss','ogun','ekiti','ondo']\n",
    "\n",
    "name = input('Enter your name: ')\n",
    "state = input('Enter your state of origin: ')\n",
    "scores = int(input('Enter your exam score'))\n",
    "\n",
    "if state in states and scores > 80:\n",
    "    print(f'Hi {name} congratulations, you are eliible for schorlarship')\n",
    "elif state in states and scores <= 80:\n",
    "     print(f'Hi {name} low score, you not are eliible for schorlarship')\n",
    "elif state not in states and scores <= 80:\n",
    "     print(f'Hi {name} you not are eliible for schorlarship on any level')\n",
    "else:\n",
    "     print(f'Hi {name} sadly, you are brillint but you are not in our states')\n"
   ]
  },
  {
   "cell_type": "code",
   "execution_count": null,
   "metadata": {},
   "outputs": [
    {
     "name": "stdout",
     "output_type": "stream",
     "text": [
      "Hi tola congratulations, you are eliible for schorlarship\n"
     ]
    }
   ],
   "source": [
    "# schorlarship eigibility program\n",
    "\n",
    "states = ['osun','oyo','lagoss','ogun','ekiti','ondo']\n",
    "\n",
    "name = input('Enter your name: ')\n",
    "state = input('Enter your state of origin: ')\n",
    "scores = int(input('Enter your exam score'))\n",
    "\n",
    "\n",
    "if state in states:\n",
    "    if scores < 80:\n",
    "        print(f'HI {name} you have a LOW score sadly')\n",
    "    else:\n",
    "        print(f'Hi {name} congratulations, you are eliible for schorlarship')\n",
    "else:\n",
    "    if scores < 80:\n",
    "        print(f'Hi {name} you not are eliible for schorlarship on any level')\n",
    "    else:\n",
    "       print(f'Hi {name} sadly, you are brillint but you are not in our states') \n",
    "    "
   ]
  },
  {
   "cell_type": "code",
   "execution_count": null,
   "metadata": {},
   "outputs": [
    {
     "name": "stdout",
     "output_type": "stream",
     "text": [
      "Hi baseey you have 6000.0 discount, and your fee is: 24000.0\n"
     ]
    }
   ],
   "source": [
    "# write a program that awards 20% discount to customers from Nigeria, Ghana, Togo\n",
    "# when they buy something above 25000.\n",
    "\n",
    "countries = ['nigeria','ghana','togo']\n",
    "\n",
    "name = input('Enter your name: ')\n",
    "country = input('Enter your country: ')\n",
    "amount = int(input('Enter your amount'))\n",
    "\n",
    "\n",
    "if country in countries:\n",
    "    if amount < 25000:\n",
    "        print(f'Hi {name} low amount, there is no discount, your fee is: {amount}')\n",
    "    else:\n",
    "        print(f'Hi {name} you have {amount*0.2} discount, and your fee is: {amount*0.8}')\n",
    "else:\n",
    "    if amount < 25000:\n",
    "        print(f'Hi {name} totally not eligible, your fee is: {amount}')\n",
    "    else:\n",
    "        print(f'Hi {name} high amount, but not in our countries there is no discount, your fee is: {amount}')\n"
   ]
  },
  {
   "cell_type": "markdown",
   "metadata": {},
   "source": [
    "## ASSIGMENTS\n",
    "\n",
    "* program that checks whether or not someone is a student of appclick data science. students of data science includes Sade, Funmi, Teni and Wale\n",
    "* simple program that checks if a second hand car is worth buying or not. All Corrola,camry,avensis  are worth buying. Any other car brand must hav e less than 50k mileage to be worth it.\n",
    "\n"
   ]
  },
  {
   "cell_type": "markdown",
   "metadata": {},
   "source": [
    "## FOR LOOPS "
   ]
  },
  {
   "cell_type": "code",
   "execution_count": null,
   "metadata": {},
   "outputs": [
    {
     "name": "stdout",
     "output_type": "stream",
     "text": [
      "wale is a student\n",
      "sola is a student\n",
      "tobi is a student\n",
      "daniel is a student\n"
     ]
    }
   ],
   "source": [
    "students = ['wale', 'sola','tobi', 'daniel']\n",
    "\n",
    "for name in students:\n",
    "    print(f'{name} is a student')"
   ]
  },
  {
   "cell_type": "code",
   "execution_count": null,
   "metadata": {},
   "outputs": [
    {
     "data": {
      "text/plain": [
       "[56, 63, 70, 77, 84, 91, 98]"
      ]
     },
     "execution_count": 6,
     "metadata": {},
     "output_type": "execute_result"
    }
   ],
   "source": [
    "# return the multiples of 7 between 50 and 100\n",
    "\n",
    "multiple_7 = []\n",
    "\n",
    "for i in range(50, 100):\n",
    "    if i % 7 == 0:\n",
    "        multiple_7.append(i)\n",
    "    else:\n",
    "        pass\n",
    "\n",
    "multiple_7"
   ]
  },
  {
   "cell_type": "markdown",
   "metadata": {},
   "source": [
    "#### assignment\n",
    "1. program that return all the even number within a specified range\n",
    "2. program that takes any list of numbers and return two new list of odd and even numbers"
   ]
  },
  {
   "cell_type": "code",
   "execution_count": null,
   "metadata": {},
   "outputs": [
    {
     "name": "stdout",
     "output_type": "stream",
     "text": [
      "17 is prime\n"
     ]
    }
   ],
   "source": [
    "# program that accepts a number and checks if the number is a prime number \n",
    "\n",
    "num = int(input('Enter a number: '))\n",
    "\n",
    "for i in range(2, num):\n",
    "    if num % i == 0:\n",
    "        print(f'{num} is not a prime number')\n",
    "        break\n",
    "    else:\n",
    "        pass\n",
    "else:\n",
    "    print(f'{num} is prime')"
   ]
  },
  {
   "cell_type": "code",
   "execution_count": null,
   "metadata": {},
   "outputs": [
    {
     "name": "stdout",
     "output_type": "stream",
     "text": [
      "access granted\n"
     ]
    }
   ],
   "source": [
    "# program that performs a simple user validation\n",
    "\n",
    "database = {\n",
    "    'john':'xyzb',\n",
    "    'sodiq': '1234',\n",
    "    'tosin': 'abcd',\n",
    "    'bello': '11ab'  \n",
    "}\n",
    "\n",
    "username = input('Welcome, please enter username')\n",
    "password = input('Enter your password')\n",
    "\n",
    "if username in database.keys():\n",
    "    if database[username] == password:\n",
    "        print('access granted')\n",
    "    else:\n",
    "        print('wrong password')\n",
    "else:\n",
    "    print('sorry you are not a staff')"
   ]
  },
  {
   "cell_type": "code",
   "execution_count": null,
   "metadata": {},
   "outputs": [
    {
     "name": "stdout",
     "output_type": "stream",
     "text": [
      "[3, 5, 7, 9]\n"
     ]
    }
   ],
   "source": [
    "# program that returns the odd numbers within a range of values\n",
    "\n",
    "num_1 = int(input('Enter first number: '))\n",
    "num_2 = int(input('Enter second number: '))\n",
    "\n",
    "if num_1 > num_2:\n",
    "    greater = num_1\n",
    "    lower = num_2\n",
    "else:\n",
    "    greater = num_2\n",
    "    lower = num_1\n",
    "\n",
    "odd_list = []\n",
    "\n",
    "for i in range(lower, greater):\n",
    "    if i % 2 == 0:\n",
    "        pass\n",
    "    else:\n",
    "        odd_list.append(i)\n",
    "\n",
    "\n",
    "print(odd_list)"
   ]
  },
  {
   "cell_type": "code",
   "execution_count": null,
   "metadata": {},
   "outputs": [],
   "source": [
    "for i in range(1,11):\n",
    "    print(i)\n",
    "    "
   ]
  },
  {
   "cell_type": "code",
   "execution_count": null,
   "metadata": {},
   "outputs": [],
   "source": [
    "counter = 1\n",
    "while True:\n",
    "    if counter <= 10:\n",
    "        print(counter)\n",
    "        counter += 1\n",
    "    else:\n",
    "        break"
   ]
  },
  {
   "cell_type": "code",
   "execution_count": null,
   "metadata": {},
   "outputs": [],
   "source": [
    "# write an attendance register program that accepts students name and include it in the \n",
    "# register. after execution, this program returns the names of people that were absent in class\n",
    "\n",
    "\n",
    "student_list = ['ade', 'wale','tola','kola','tomi','henry','femi','john','kemi']\n",
    "\n",
    "register = []\n",
    "absent = []\n",
    "stop = 'stop'\n",
    "while True:\n",
    "    name = input('Enter your name: ')\n",
    "    if name != stop:\n",
    "        if name in student_list:\n",
    "            if name in register:\n",
    "                print(f'Hi {name}, you have been marked present')\n",
    "            else:\n",
    "                print(f'Welcome {name}')\n",
    "                register.append(name)      \n",
    "        else:\n",
    "            print('You are not a student')\n",
    "    else:\n",
    "        break\n",
    "    \n",
    "for name in student_list:\n",
    "    if name not in register:\n",
    "        absent.append(name)\n",
    "\n",
    "print(f'Absentees: {absent}')\n",
    "print(f'Present: {register}')"
   ]
  },
  {
   "cell_type": "code",
   "execution_count": null,
   "metadata": {},
   "outputs": [
    {
     "name": "stdout",
     "output_type": "stream",
     "text": [
      "lcm of 3 and 117 is 117\n"
     ]
    }
   ],
   "source": [
    "# write a program that calculates the LCM of two numbers\n",
    "\n",
    "x = int(input('Enter the first number: ')) \n",
    "y = int(input('Enter the second numer: '))\n",
    "\n",
    "if x > y:\n",
    "    greater = x\n",
    "else:\n",
    "    greater = y\n",
    "    \n",
    "while True:\n",
    "    if greater % x == 0 and greater % y == 0:\n",
    "        lcm = greater\n",
    "        print(f'lcm of {x} and {y} is {lcm}')\n",
    "        break\n",
    "    else:\n",
    "        greater += 1\n"
   ]
  },
  {
   "cell_type": "code",
   "execution_count": 15,
   "metadata": {},
   "outputs": [],
   "source": [
    "# write a program that models the operation of a restaurant\n",
    "\n",
    "def order():\n",
    "    price_list = {\n",
    "        \n",
    "        'rice': ['spoons', 200],\n",
    "        'beans': ['spoons', 100],\n",
    "        'amala': ['wraps', 300],\n",
    "        'meat': ['pcs', 200],\n",
    "        'fish': ['pcs', 100],\n",
    "        'chicken': ['pcs', 300]\n",
    "    }\n",
    "\n",
    "    orders = {}\n",
    "    cost = 0\n",
    "    funds = float(input('Enter the deposit'))\n",
    "\n",
    "    while True:\n",
    "        item = input('What do you want to buy: ')\n",
    "        if item != 'nothing':\n",
    "            if item in list(price_list.keys()):\n",
    "                number = int(input(f'How many {price_list[item][0]} of {item} do you want? '))\n",
    "                orders.update({item:number})\n",
    "                cost += number * price_list[item][1]\n",
    "            else:\n",
    "                print(f'we dont have {item}')\n",
    "        else:\n",
    "            break\n",
    "\n",
    "    print(f'Your total is N{cost}')\n",
    "    print('-------------------------')\n",
    "    for i, v in orders.items():\n",
    "        print(f'{v} X {i}, ({price_list[i][1]} per {price_list[i][0]})  = {(price_list[i][1]) * v}')\n",
    "    print('-------------------------')\n",
    "    if funds < cost:\n",
    "        print(f'Not enough funds you need N{cost - funds} to complete the order')\n",
    "        top_up = deposit()\n",
    "        funds += top_up\n",
    "    else:\n",
    "        pass\n",
    "   "
   ]
  },
  {
   "cell_type": "code",
   "execution_count": 5,
   "metadata": {},
   "outputs": [],
   "source": [
    "def menu():\n",
    "    price_list = {\n",
    "        \n",
    "        'rice': ['spoons', 200],\n",
    "        'beans': ['spoons', 100],\n",
    "        'amala': ['wraps', 300],\n",
    "        'meat': ['pcs', 200],\n",
    "        'fish': ['pcs', 100],\n",
    "        'chicken': ['pcs', 300]\n",
    "    }\n",
    "    print(f'we have the following')\n",
    "    print('-------------------------')\n",
    "    for i,v in price_list.items():\n",
    "        print(f'{i} @ {v[1]} naira per {v[0]}')\n",
    "    print('----------------------------')\n"
   ]
  },
  {
   "cell_type": "code",
   "execution_count": 8,
   "metadata": {},
   "outputs": [],
   "source": [
    "def deposit():\n",
    "    fund = float(input('Enter the amount you want to deposit: '))\n",
    "    return fund"
   ]
  },
  {
   "cell_type": "code",
   "execution_count": 16,
   "metadata": {},
   "outputs": [],
   "source": [
    "def restaurant():\n",
    "    name = input('Welcome to XYZ restaurat, Enter your name: ')\n",
    "    greet(name)\n",
    "    decision = input('do you want to buy food? ')\n",
    "    if decision == 'yes':\n",
    "        menu()\n",
    "        order()\n",
    "        print(f'Thank you for your order {name}')\n",
    "    else:\n",
    "        print(f'Thank you and take care')\n"
   ]
  },
  {
   "cell_type": "code",
   "execution_count": 17,
   "metadata": {},
   "outputs": [
    {
     "name": "stdout",
     "output_type": "stream",
     "text": [
      "we have the following\n",
      "-------------------------\n",
      "rice @ 200 naira per spoons\n",
      "beans @ 100 naira per spoons\n",
      "amala @ 300 naira per wraps\n",
      "meat @ 200 naira per pcs\n",
      "fish @ 100 naira per pcs\n",
      "chicken @ 300 naira per pcs\n",
      "----------------------------\n",
      "Your total is N1400\n",
      "-------------------------\n",
      "3 X rice, (200 per spoons)  = 600\n",
      "4 X beans, (100 per spoons)  = 400\n",
      "2 X meat, (200 per pcs)  = 400\n",
      "-------------------------\n",
      "Not enough funds you need N900.0 to complete the order\n",
      "Thank you for your order ade\n"
     ]
    }
   ],
   "source": [
    "restaurant()"
   ]
  },
  {
   "cell_type": "markdown",
   "metadata": {},
   "source": [
    "define the following functions\n",
    "1. deposit\n",
    "2. log-in"
   ]
  },
  {
   "cell_type": "markdown",
   "metadata": {},
   "source": [
    "## Functions\n"
   ]
  },
  {
   "cell_type": "code",
   "execution_count": 6,
   "metadata": {},
   "outputs": [],
   "source": [
    "# write a function that greets someone\n",
    "\n",
    "def greet(name):\n",
    "    greeting = f'Hi {name}, how are you?'\n",
    "    return greeting\n"
   ]
  },
  {
   "cell_type": "code",
   "execution_count": null,
   "metadata": {},
   "outputs": [
    {
     "data": {
      "text/plain": [
       "'gbolahan is longer by 4 letters'"
      ]
     },
     "execution_count": 4,
     "metadata": {},
     "output_type": "execute_result"
    }
   ],
   "source": [
    "# function that accept two names and return the longest one \n",
    "\n",
    "def check_name(name1, name2):\n",
    "    if len(name1) > len(name2):\n",
    "        return f'{name1} is longer by {len(name1)-len(name2)} letters'\n",
    "    else:\n",
    "        return f'{name2} is longer by {len(name2)-len(name1)} letters'\n",
    "\n",
    "check_name('wale', 'gbolahan')"
   ]
  },
  {
   "cell_type": "code",
   "execution_count": null,
   "metadata": {},
   "outputs": [],
   "source": [
    "# function that returns the prime numbers within a range\n",
    "\n",
    "# creating the function for checking prime numbers \n",
    "\n",
    "def check_prime(num):\n",
    "    primes = []\n",
    "    for i in range(2,num):\n",
    "        if num % i == 0:\n",
    "            return False\n",
    "    else:\n",
    "        return True\n"
   ]
  },
  {
   "cell_type": "code",
   "execution_count": null,
   "metadata": {},
   "outputs": [],
   "source": [
    "def get_prime(a, b):\n",
    "    primes = []\n",
    "    for i in range(a,b):\n",
    "        if check_prime(i):\n",
    "            primes.append(i)\n",
    "        else:\n",
    "            pass\n",
    "    return primes, len(primes), sum(primes)\n",
    "            "
   ]
  },
  {
   "cell_type": "code",
   "execution_count": null,
   "metadata": {},
   "outputs": [
    {
     "name": "stdout",
     "output_type": "stream",
     "text": [
      "[2, 3, 5, 7]\n",
      "4\n",
      "17\n"
     ]
    }
   ],
   "source": [
    "primes, no_primes, sum_primes = get_prime(2, 10)\n",
    "\n",
    "print(primes)\n",
    "print(no_primes)\n",
    "print(sum_primes)"
   ]
  },
  {
   "cell_type": "markdown",
   "metadata": {},
   "source": [
    "## Functions cont'd"
   ]
  },
  {
   "cell_type": "code",
   "execution_count": 19,
   "metadata": {},
   "outputs": [
    {
     "data": {
      "text/plain": [
       "4.2"
      ]
     },
     "execution_count": 19,
     "metadata": {},
     "output_type": "execute_result"
    }
   ],
   "source": [
    "# unlimited parameters \n",
    "\n",
    "\n",
    "def average(*args):\n",
    "    args = list(args)\n",
    "    avg = sum(args)/len(args)\n",
    "    return avg\n",
    "\n",
    "average(2,3,4,5,6,7,8,1,2,4)"
   ]
  },
  {
   "cell_type": "code",
   "execution_count": 43,
   "metadata": {},
   "outputs": [],
   "source": [
    "# a function that takes a word and returns the number of vowel letters in the word\n",
    "\n",
    "def check_vowel(word):\n",
    "    vowels = ['a','e','i','o','u']\n",
    "    holder = []\n",
    "    \n",
    "    for letter in word:\n",
    "        if letter in vowels:\n",
    "            if letter not in holder:\n",
    "                holder.append(letter)\n",
    "            else:\n",
    "                pass\n",
    "        else:\n",
    "            pass\n",
    "    return len(holder)\n",
    "\n",
    "# check_vowel('accomodation')\n",
    "\n",
    "def max_vowels(*words):\n",
    "    hold = {}\n",
    "    for word in words:\n",
    "        hold.update({word: check_vowel(word)})\n",
    "        keyss = list(hold.keys())\n",
    "        values = list(hold.values())\n",
    "    idx = values.index(max(values))\n",
    "    result = keyss[idx]\n",
    "    return result"
   ]
  },
  {
   "cell_type": "code",
   "execution_count": 44,
   "metadata": {},
   "outputs": [
    {
     "data": {
      "text/plain": [
       "'examination'"
      ]
     },
     "execution_count": 44,
     "metadata": {},
     "output_type": "execute_result"
    }
   ],
   "source": [
    "max_vowels('python','junior','examination')"
   ]
  },
  {
   "cell_type": "code",
   "execution_count": 4,
   "metadata": {},
   "outputs": [
    {
     "data": {
      "text/plain": [
       "(-2.0, -3.0)"
      ]
     },
     "execution_count": 4,
     "metadata": {},
     "output_type": "execute_result"
    }
   ],
   "source": [
    "# write a function that solves a quadratic equation\n",
    "\n",
    "def solver(**kwargs):\n",
    "    \"\"\"This function solves quadratic equation\n",
    "    Parameters:\n",
    "    a (int or float): coefficient of x squared\n",
    "    b (int or float): coefficient of x \n",
    "    c (int or float): contant\n",
    "\n",
    "    Returns:\n",
    "        float: x1,x2 \n",
    "        The roots of the equation\n",
    "    \"\"\"\n",
    "    x1 = (-(kwargs['b']) + ((kwargs['b'] ** 2) - 4 * kwargs['a'] * kwargs['c']) ** (1/2))/(2 * kwargs['a'])\n",
    "    x2 = (-(kwargs['b']) - ((kwargs['b'] ** 2) - 4 * kwargs['a'] * kwargs['c']) ** (1/2))/(2 * kwargs['a'])\n",
    "    return x1, x2\n",
    "\n",
    "\n",
    "solver(a=1, b=5, c=6)"
   ]
  },
  {
   "cell_type": "code",
   "execution_count": 7,
   "metadata": {},
   "outputs": [],
   "source": [
    "# function that takes candidates information and displays it \n",
    "\n",
    "def register(**vals):\n",
    "    \"\"\"This function takes information about candidates\n",
    "    Parameters:\n",
    "    name (str): Name of the candidate\n",
    "    year (int): year of birth\n",
    "    religion (str): Religion of the candidate\n",
    "    \"\"\"\n",
    "    vals.update({'age': 2024 - vals['year']})\n",
    "    for i, v in vals.items():\n",
    "        print(f'{i}:{v}')"
   ]
  },
  {
   "cell_type": "code",
   "execution_count": 8,
   "metadata": {},
   "outputs": [
    {
     "name": "stdout",
     "output_type": "stream",
     "text": [
      "name:Tobi\n",
      "year:2001\n",
      "religion:xtian\n",
      "age:23\n"
     ]
    }
   ],
   "source": [
    "register(name = 'Tobi', year = 2001, religion = 'xtian')"
   ]
  },
  {
   "cell_type": "code",
   "execution_count": 5,
   "metadata": {},
   "outputs": [],
   "source": [
    "# create a function that performs user sign up using keyword arguments\n",
    "# function will return a list of usernames of the sign-ups.\n",
    "\n",
    "def onboard(**users):\n",
    "    \"\"\"Onboards new member by taking their names, password and years\n",
    "    Parameters:\n",
    "    name(_str_): The name of the member\n",
    "    password(str): Their password of choice\n",
    "    year(int): Their year of birth\n",
    "\n",
    "    Returns:\n",
    "        _list_: Names of people that has been on boarded\n",
    "    \"\"\"\n",
    "    return users['name']\n",
    "\n",
    "\n",
    "def signup():\n",
    "    \n",
    "    \"\"\"_summary_\n",
    "\n",
    "    Returns:\n",
    "        _type_: _description_\n",
    "    \"\"\"\n",
    "    users = {}\n",
    "    \n",
    "    while True:\n",
    "        name = input('Enter your name: ')\n",
    "        if name != 'stop':\n",
    "            password = input('Enter your password: ')\n",
    "            users.update({name:password})\n",
    "        else:\n",
    "            break\n",
    "    return list(users.keys())"
   ]
  },
  {
   "cell_type": "code",
   "execution_count": 6,
   "metadata": {},
   "outputs": [
    {
     "data": {
      "text/plain": [
       "['segun', 'tola', 'tobi']"
      ]
     },
     "execution_count": 6,
     "metadata": {},
     "output_type": "execute_result"
    }
   ],
   "source": [
    "signup()"
   ]
  },
  {
   "cell_type": "code",
   "execution_count": 13,
   "metadata": {},
   "outputs": [
    {
     "data": {
      "text/plain": [
       "{'a': 1, 'b': 2, 'c': 3}"
      ]
     },
     "execution_count": 13,
     "metadata": {},
     "output_type": "execute_result"
    }
   ],
   "source": [
    "def xyz(**nums):\n",
    "    return nums\n",
    "\n",
    "xyz(a=1,b=2,c=3)"
   ]
  },
  {
   "cell_type": "code",
   "execution_count": 8,
   "metadata": {},
   "outputs": [
    {
     "name": "stdout",
     "output_type": "stream",
     "text": [
      "[7, 14, 21, 28, 35, 42, 49, 56, 63, 70, 77, 84, 91, 98]\n"
     ]
    },
    {
     "data": {
      "text/plain": [
       "[7, 14, 21, 28, 35, 42, 49, 56, 63, 70, 77, 84, 91, 98]"
      ]
     },
     "execution_count": 8,
     "metadata": {},
     "output_type": "execute_result"
    }
   ],
   "source": [
    "# List comprehension\n",
    "\n",
    "# brute force solution\n",
    "numbers = list(range(1,100))\n",
    "\n",
    "multiple_7 = []\n",
    "\n",
    "for number in numbers:\n",
    "    if number % 7 == 0:\n",
    "        multiple_7.append(number)\n",
    "    else:\n",
    "        pass\n",
    "\n",
    "print(multiple_7)\n",
    "\n",
    "# list comprehension method\n",
    "\n",
    "[x for x in list(range(1,100)) if x % 7 == 0]"
   ]
  },
  {
   "cell_type": "code",
   "execution_count": 10,
   "metadata": {},
   "outputs": [
    {
     "data": {
      "text/plain": [
       "['odd', 'even', 'odd', 'even', 'odd', 'even', 'odd', 'even', 'odd']"
      ]
     },
     "execution_count": 10,
     "metadata": {},
     "output_type": "execute_result"
    }
   ],
   "source": [
    "# label all the values between 1 and 20 as either even or odd\n",
    "\n",
    "output = ['even' if x % 2 == 0 else 'odd' for x in list(range(1,10))]\n",
    "output"
   ]
  },
  {
   "cell_type": "code",
   "execution_count": null,
   "metadata": {},
   "outputs": [],
   "source": [
    "# assignment\n",
    "\n",
    "\n",
    "# use list comprehension to return the prime numbers within a range of values\n"
   ]
  },
  {
   "cell_type": "markdown",
   "metadata": {},
   "source": [
    "#### Lambda functions "
   ]
  },
  {
   "cell_type": "code",
   "execution_count": 11,
   "metadata": {},
   "outputs": [
    {
     "data": {
      "text/plain": [
       "6"
      ]
     },
     "execution_count": 11,
     "metadata": {},
     "output_type": "execute_result"
    }
   ],
   "source": [
    "# function that accepts a value and doubles it \n",
    "\n",
    "double = lambda x:x+x\n",
    "\n",
    "\n",
    "double(3)"
   ]
  },
  {
   "cell_type": "code",
   "execution_count": 12,
   "metadata": {},
   "outputs": [
    {
     "data": {
      "text/plain": [
       "121"
      ]
     },
     "execution_count": 12,
     "metadata": {},
     "output_type": "execute_result"
    }
   ],
   "source": [
    "# function that returns the square of a sum of two numbers \n",
    "\n",
    "sum_of_squares = lambda x,y:(x+y)**2\n",
    "\n",
    "sum_of_squares(5,6)"
   ]
  },
  {
   "cell_type": "code",
   "execution_count": 21,
   "metadata": {},
   "outputs": [
    {
     "data": {
      "text/plain": [
       "[11, 14, 15, 18, 20, 21, 23, 26, 29, 30, 33, 35, 36, 39]"
      ]
     },
     "execution_count": 21,
     "metadata": {},
     "output_type": "execute_result"
    }
   ],
   "source": [
    "def check_prime(num):\n",
    "    for i in range(2,num):\n",
    "        if num % i == 0:\n",
    "            return False\n",
    "    else:\n",
    "        return True\n",
    "        \n",
    "sequence = lambda x:x + (x+1)\n",
    "solution = [x for x in range(10, 40) if \n",
    "            check_prime(sequence(x)) == True]\n",
    "\n",
    "solution"
   ]
  },
  {
   "cell_type": "markdown",
   "metadata": {},
   "source": [
    "### Object Oriented Programming (OOP)"
   ]
  },
  {
   "cell_type": "code",
   "execution_count": 54,
   "metadata": {},
   "outputs": [],
   "source": [
    "# create a dog object\n",
    "\n",
    "class Dog:\n",
    "    \"\"\"_summary_\n",
    "    \"\"\"\n",
    "    def __init__(self,name, color, year, gender):\n",
    "        self.color = color\n",
    "        self.year = year\n",
    "        self.gender = gender\n",
    "        self.age = 2024 - self.year\n",
    "        self.hurt = False\n",
    "        self.awake = True\n",
    "        self.name = name\n",
    "    \n",
    "    def bark(self):\n",
    "        if self.awake:\n",
    "            if self.hurt == False:\n",
    "                print('ooof!')\n",
    "            else:\n",
    "                print('oooooooooooooooooof!')\n",
    "        else:\n",
    "            print(f'{self.name} cant bark while asleep you need to wake it')\n",
    "    def chase(self, intensity = 'mid'):\n",
    "        if self.awake == True:\n",
    "            if self.hurt:\n",
    "                print(f'Cannot chase because of injury')\n",
    "            else:\n",
    "                if intensity == 'high':\n",
    "                    print('Chasing very fast')\n",
    "                elif intensity == 'mid':\n",
    "                    print('chasing casually')\n",
    "                elif intensity == 'low':\n",
    "                    print('chasing playfully')\n",
    "        else:\n",
    "            print(f'{self.name} cant chase while asleep you need to wake it')\n",
    "    def sleep(self):\n",
    "        if self.awake:\n",
    "            print(f'{self.name} is sleeping in 1,2,3.....zzzzzz')\n",
    "            self.awake = False\n",
    "        else:\n",
    "            print(f'{self.name} is already sleeping')\n",
    "    def details(self):\n",
    "        details = {\n",
    "            'name': self.name,\n",
    "            'age': self.age,\n",
    "            'gender': self.gender,\n",
    "            'color': self.color\n",
    "        }\n",
    "        print('========================')\n",
    "        for i,v in details.items():\n",
    "            print(f'{i} : {v}')\n",
    "        print('==========================')\n",
    "    \n",
    "    def wake(self):\n",
    "        if self.awake:\n",
    "            print(f'{self.name} is already awake')\n",
    "        else:\n",
    "            self.awake = True\n",
    "            print(f'{self.name} is waking up...')\n",
    "        \n",
    "        \n",
    "    "
   ]
  },
  {
   "cell_type": "code",
   "execution_count": 55,
   "metadata": {},
   "outputs": [],
   "source": [
    "dog_one = Dog(name='jack', color='black',year=2019, gender= 'male')\n",
    "dog_two = Dog(name='bruno', color='red',year=2021, gender= 'female')"
   ]
  },
  {
   "cell_type": "code",
   "execution_count": 26,
   "metadata": {},
   "outputs": [
    {
     "data": {
      "text/plain": [
       "__main__.Dog"
      ]
     },
     "execution_count": 26,
     "metadata": {},
     "output_type": "execute_result"
    }
   ],
   "source": [
    "# checking object type\n",
    "type(dog_one)"
   ]
  },
  {
   "cell_type": "code",
   "execution_count": 27,
   "metadata": {},
   "outputs": [
    {
     "name": "stdout",
     "output_type": "stream",
     "text": [
      "jack\n",
      "bruno\n"
     ]
    }
   ],
   "source": [
    "# check the attributes of Dog instances \n",
    "\n",
    "print(dog_one.name)\n",
    "print(dog_two.name)"
   ]
  },
  {
   "cell_type": "code",
   "execution_count": 28,
   "metadata": {},
   "outputs": [
    {
     "name": "stdout",
     "output_type": "stream",
     "text": [
      "========================\n",
      "name : bruno\n",
      "age : 3\n",
      "gender : female\n",
      "color : red\n",
      "==========================\n"
     ]
    }
   ],
   "source": [
    "# getting dog details\n",
    "\n",
    "dog_two.details()"
   ]
  },
  {
   "cell_type": "code",
   "execution_count": 29,
   "metadata": {},
   "outputs": [
    {
     "data": {
      "text/plain": [
       "True"
      ]
     },
     "execution_count": 29,
     "metadata": {},
     "output_type": "execute_result"
    }
   ],
   "source": [
    "dog_two.awake"
   ]
  },
  {
   "cell_type": "code",
   "execution_count": 30,
   "metadata": {},
   "outputs": [
    {
     "name": "stdout",
     "output_type": "stream",
     "text": [
      "bruno is sleeping in 1,2,3.....zzzzzz\n"
     ]
    }
   ],
   "source": [
    "dog_two.sleep()"
   ]
  },
  {
   "cell_type": "code",
   "execution_count": 56,
   "metadata": {},
   "outputs": [
    {
     "data": {
      "text/plain": [
       "True"
      ]
     },
     "execution_count": 56,
     "metadata": {},
     "output_type": "execute_result"
    }
   ],
   "source": [
    "dog_two.awake"
   ]
  },
  {
   "cell_type": "code",
   "execution_count": 34,
   "metadata": {},
   "outputs": [
    {
     "name": "stdout",
     "output_type": "stream",
     "text": [
      "bruno is already awake\n"
     ]
    }
   ],
   "source": [
    "dog_two.wake()"
   ]
  },
  {
   "cell_type": "code",
   "execution_count": 35,
   "metadata": {},
   "outputs": [
    {
     "name": "stdout",
     "output_type": "stream",
     "text": [
      "jack is already awake\n"
     ]
    }
   ],
   "source": [
    "dog_one.wake()"
   ]
  },
  {
   "cell_type": "code",
   "execution_count": 57,
   "metadata": {},
   "outputs": [
    {
     "name": "stdout",
     "output_type": "stream",
     "text": [
      "chasing casually\n"
     ]
    }
   ],
   "source": [
    "dog_two.chase()"
   ]
  },
  {
   "cell_type": "code",
   "execution_count": 52,
   "metadata": {},
   "outputs": [
    {
     "data": {
      "text/plain": [
       "False"
      ]
     },
     "execution_count": 52,
     "metadata": {},
     "output_type": "execute_result"
    }
   ],
   "source": [
    "dog_two.awake"
   ]
  },
  {
   "cell_type": "code",
   "execution_count": 51,
   "metadata": {},
   "outputs": [
    {
     "name": "stdout",
     "output_type": "stream",
     "text": [
      "bruno is sleeping in 1,2,3.....zzzzzz\n"
     ]
    }
   ],
   "source": [
    "dog_two.sleep()"
   ]
  },
  {
   "cell_type": "code",
   "execution_count": 59,
   "metadata": {},
   "outputs": [],
   "source": [
    "class Calculator:\n",
    "    \n",
    "    def __init__(self):\n",
    "        self.history = []\n",
    "        self.pie = 3.142\n",
    "        \n",
    "    def area(self, kind = 'triangle', **kwargs):\n",
    "        if kind == 'triangle':\n",
    "            area = kwargs['base'] * kwargs['height'] * 0.5\n",
    "            self.history.append(area)\n",
    "            return area \n",
    "        elif kind == 'rectangle':\n",
    "            area = kwargs['breadth'] * kwargs['height']\n",
    "            self.history.append(area)\n",
    "            return area \n",
    "        elif kind == 'circle':\n",
    "            area = self.pie * (kwargs['radius'] ** 2)\n",
    "            self.history.append(area)\n",
    "            return area \n",
    "        \n",
    "    def perimeter(self, kind = 'triangle', **kwargs):\n",
    "        if kind == 'triangle':\n",
    "            perimeter = kwargs['a'] + kwargs['b'] + kwargs['c']\n",
    "            self.history.append(perimeter)\n",
    "            return perimeter \n",
    "        elif kind == 'rectangle':\n",
    "            perimeter = 2 * (kwargs['length'] * kwargs['width'])\n",
    "            self.history.append(perimeter)\n",
    "            return perimeter \n",
    "        elif kind == 'circle':\n",
    "            perimeter = self.pie * kwargs['radius'] * 2\n",
    "            self.history.append(perimeter)\n",
    "            return perimeter\n",
    "        \n",
    "    def circumference(self, radius):\n",
    "        \n",
    "        circumference = 2 * radius\n",
    "        self.history.append(circumference)\n",
    "        return circumference"
   ]
  },
  {
   "cell_type": "code",
   "execution_count": 60,
   "metadata": {},
   "outputs": [],
   "source": [
    "calc = Calculator()"
   ]
  },
  {
   "cell_type": "code",
   "execution_count": 61,
   "metadata": {},
   "outputs": [
    {
     "data": {
      "text/plain": [
       "36.0"
      ]
     },
     "execution_count": 61,
     "metadata": {},
     "output_type": "execute_result"
    }
   ],
   "source": [
    "calc.area(base = 12, height = 6)"
   ]
  },
  {
   "cell_type": "code",
   "execution_count": null,
   "metadata": {},
   "outputs": [],
   "source": []
  }
 ],
 "metadata": {
  "kernelspec": {
   "display_name": "base",
   "language": "python",
   "name": "python3"
  },
  "language_info": {
   "codemirror_mode": {
    "name": "ipython",
    "version": 3
   },
   "file_extension": ".py",
   "mimetype": "text/x-python",
   "name": "python",
   "nbconvert_exporter": "python",
   "pygments_lexer": "ipython3",
   "version": "3.11.4"
  }
 },
 "nbformat": 4,
 "nbformat_minor": 2
}

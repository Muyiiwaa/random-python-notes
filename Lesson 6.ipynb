{
 "cells": [
  {
   "cell_type": "code",
   "execution_count": 2,
   "metadata": {},
   "outputs": [
    {
     "name": "stdout",
     "output_type": "stream",
     "text": [
      "You have won 2.5 and you now have 12.5\n",
      "It is a tie!\n",
      "It is a tie!\n",
      "It is a tie!\n",
      "It is a tie!\n",
      "It is a tie!\n",
      "It is a tie!\n",
      "It is a tie!\n",
      "It is a tie!\n",
      "It is a tie!\n",
      "It is a tie!\n",
      "It is a tie!\n",
      "It is a tie!\n",
      "It is a tie!\n",
      "It is a tie!\n",
      "It is a tie!\n",
      "It is a tie!\n",
      "It is a tie!\n",
      "You have won 2.5 and you now have 15.0\n",
      "You have won 2.5 and you now have 17.5\n",
      "It is a tie!\n"
     ]
    }
   ],
   "source": [
    "import random\n",
    "\n",
    "\n",
    "player_name = input('Enter your name: ')\n",
    "\n",
    "decision = input('Do you want to keep playing')\n",
    "if decision.lower() == 'yes':\n",
    "    deposit = float(input('Enter deposit: '))\n",
    "    if deposit < 10:\n",
    "        print('Too low, enter an amount greater than #10')\n",
    "    else:\n",
    "        fund = deposit\n",
    "        player_choice = int(input('Enter a number between 5 and 10'))\n",
    "        comp_choice = random.randint(5,10)\n",
    "        if player_choice == comp_choice:\n",
    "            comp_choice += 1\n",
    "        if fund >= 10:  \n",
    "            while True:\n",
    "                player_fingers = int(input('player finger: '))\n",
    "                comp_fingers = random.randint(0,6)\n",
    "                #print computer choice and player choice\n",
    "                if player_fingers + comp_fingers == player_choice:\n",
    "                    fund += (deposit * 0.25)\n",
    "                    # print the addition of choices\n",
    "                    print(f'You have won {deposit * 0.25} and you now have {fund}')\n",
    "                elif player_fingers + comp_fingers == comp_choice:\n",
    "                    fund -= (deposit * 0.25)\n",
    "                    print('The addition of choices here')\n",
    "                    print(f'You have lost {deposit * 0.25} and you now have {fund}')\n",
    "                else:\n",
    "                    print('It is a tie!')\n",
    "        else:\n",
    "            print('Not enough fund')\n",
    "                    \n",
    "                        \n",
    "else:\n",
    "    print(f'Thank you for playing, {player_name}')\n",
    "\n",
    "    \n",
    "    "
   ]
  },
  {
   "cell_type": "code",
   "execution_count": 1,
   "metadata": {},
   "outputs": [
    {
     "data": {
      "text/plain": [
       "5"
      ]
     },
     "execution_count": 1,
     "metadata": {},
     "output_type": "execute_result"
    }
   ],
   "source": [
    "import random\n",
    "random.randint(5,10)"
   ]
  },
  {
   "cell_type": "code",
   "execution_count": 5,
   "metadata": {},
   "outputs": [
    {
     "data": {
      "text/plain": [
       "8"
      ]
     },
     "execution_count": 5,
     "metadata": {},
     "output_type": "execute_result"
    }
   ],
   "source": [
    "random.randint(5,10)"
   ]
  },
  {
   "cell_type": "code",
   "execution_count": null,
   "metadata": {},
   "outputs": [],
   "source": []
  }
 ],
 "metadata": {
  "kernelspec": {
   "display_name": "base",
   "language": "python",
   "name": "python3"
  },
  "language_info": {
   "codemirror_mode": {
    "name": "ipython",
    "version": 3
   },
   "file_extension": ".py",
   "mimetype": "text/x-python",
   "name": "python",
   "nbconvert_exporter": "python",
   "pygments_lexer": "ipython3",
   "version": "3.11.4"
  }
 },
 "nbformat": 4,
 "nbformat_minor": 2
}

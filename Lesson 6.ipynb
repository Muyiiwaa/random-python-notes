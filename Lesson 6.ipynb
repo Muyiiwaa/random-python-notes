{
 "cells": [
  {
   "cell_type": "markdown",
   "metadata": {},
   "source": [
    "### Introduction\n",
    "\n",
    "We are going to be covering the following topics today.\n",
    "\n",
    "1. jupyter noteboks\n",
    "2. variables and datatypes\n",
    "3. Basic python operations\n",
    "4. BuiltIn functions and methods\n",
    "5. conditionals\n",
    "\n",
    "Learning outcome.\n",
    "* basic understanding of python data types\n",
    "* handling conditions andd writing basic programs"
   ]
  },
  {
   "cell_type": "code",
   "execution_count": 3,
   "metadata": {},
   "outputs": [
    {
     "name": "stdout",
     "output_type": "stream",
     "text": [
      "sodiq\n"
     ]
    }
   ],
   "source": [
    "name = 'sodiq'\n",
    "\n",
    "print(name)"
   ]
  },
  {
   "cell_type": "code",
   "execution_count": 6,
   "metadata": {},
   "outputs": [
    {
     "name": "stdout",
     "output_type": "stream",
     "text": [
      "Tola is 25 years old\n"
     ]
    }
   ],
   "source": [
    "# string formatting\n",
    "\n",
    "name = 'Tola'\n",
    "age = 25\n",
    "\n",
    "print(f'{name} is {age} years old')"
   ]
  },
  {
   "cell_type": "markdown",
   "metadata": {},
   "source": [
    "#### Data Types\n",
    "\n",
    "* strings -- 'cat','ibadan','pencil'\n",
    "* int -- 1,2,45,67,990000\n",
    "* float -- 23.4, 1.00, 34.6\n",
    "* bool -- True or False\n",
    "* binary -- 0,1\n",
    "* list -- [1,2,3,5]\n",
    "* tuple -- (1,2,3,4)\n",
    "* dictioneries -- {osun: osogbo, lagos:ikeja}"
   ]
  },
  {
   "cell_type": "code",
   "execution_count": 15,
   "metadata": {},
   "outputs": [
    {
     "name": "stdout",
     "output_type": "stream",
     "text": [
      "The area of the rectangle is 93.6 cm2\n"
     ]
    }
   ],
   "source": [
    "# write a program that calculates the area of a rectangle\n",
    "\n",
    "length = float(input('Enter the length: '))\n",
    "breadth = float(input('Enter the breadth: '))\n",
    "\n",
    "area = length * breadth\n",
    "print(f'The area of the rectangle is {area} cm2')"
   ]
  },
  {
   "cell_type": "code",
   "execution_count": 16,
   "metadata": {},
   "outputs": [
    {
     "name": "stdout",
     "output_type": "stream",
     "text": [
      "Hi Segun, in 2000 you will be 24 years old\n"
     ]
    }
   ],
   "source": [
    "# write a program that accepts someone's name and retuns their age based on their year of birth\n",
    "\n",
    "name = input('Enter your name: ')\n",
    "year = int(input('Enter your year of birth: '))\n",
    "\n",
    "age = 2024 - year\n",
    "\n",
    "print(f'Hi {name}, in {year} you will be {age} years old')"
   ]
  },
  {
   "cell_type": "code",
   "execution_count": 26,
   "metadata": {},
   "outputs": [
    {
     "name": "stdout",
     "output_type": "stream",
     "text": [
      "There are 3 week and 2 day in 23 days\n"
     ]
    }
   ],
   "source": [
    "days = int(input('Enter the number of days: '))\n",
    "\n",
    "weeks = days // 7\n",
    "\n",
    "day = days % 7\n",
    "\n",
    "print(f'There are {weeks} week and {day} day in {days} days')"
   ]
  },
  {
   "cell_type": "code",
   "execution_count": 23,
   "metadata": {},
   "outputs": [
    {
     "data": {
      "text/plain": [
       "6.0"
      ]
     },
     "execution_count": 23,
     "metadata": {},
     "output_type": "execute_result"
    }
   ],
   "source": [
    "# floor division\n",
    "\n",
    "5 // 2\n",
    "\n",
    "# remainder or modulus\n",
    "\n",
    "5 % 2\n",
    "\n",
    "# power\n",
    "\n",
    "2 ** 3\n",
    "\n",
    "# root \n",
    "\n",
    "8 **(1/3)\n",
    "\n",
    "# square root\n",
    "\n",
    "36 ** (1/2)"
   ]
  },
  {
   "cell_type": "code",
   "execution_count": null,
   "metadata": {},
   "outputs": [],
   "source": [
    "# write a program that takes any naira amount and converts it to dollars\n",
    "# rate = 1500\n"
   ]
  },
  {
   "cell_type": "code",
   "execution_count": 59,
   "metadata": {},
   "outputs": [
    {
     "data": {
      "text/plain": [
       "1"
      ]
     },
     "execution_count": 59,
     "metadata": {},
     "output_type": "execute_result"
    }
   ],
   "source": [
    "# Lists \n",
    "\n",
    "fruits = ['orange','apple','mango','cashew','lemon']\n",
    "foods = ['rice', 'beans']\n",
    "\n",
    "# indexing\n",
    "\n",
    "fruits[-4]\n",
    "\n",
    "# slicing\n",
    "\n",
    "fruits[2:]\n",
    "\n",
    "things = [1,2,True, fruits, 'ade', [2,4,6]]\n",
    "type(things[3][1])\n",
    "\n",
    "# return a list of even numbers between 2 and 10\n",
    "\n",
    "nums = list(range(7,50,7))\n",
    "\n",
    "# list methods.\n",
    "\n",
    "# .append\n",
    "fruits.append('guava')\n",
    "\n",
    "# extend\n",
    "foods.extend(fruits)\n",
    "\n",
    "# remove\n",
    "\n",
    "foods.remove('orange')\n",
    "\n",
    "# .pop\n",
    "\n",
    "foods.pop(2)\n",
    "\n",
    "\n",
    "# .index \n",
    "foods.index('beans')\n"
   ]
  },
  {
   "cell_type": "code",
   "execution_count": 63,
   "metadata": {},
   "outputs": [
    {
     "name": "stdout",
     "output_type": "stream",
     "text": [
      "[1, 2, 3, 4, 5, 6]\n"
     ]
    }
   ],
   "source": [
    "# list functions\n",
    "\n",
    "# len \n",
    "\n",
    "len(fruits)\n",
    "\n",
    "# max\n",
    "max(nums)\n",
    "\n",
    "# min\n",
    "min(nums)\n",
    "\n",
    "# sum\n",
    "sum(nums)\n",
    "\n",
    "# sorted\n",
    "\n",
    "age = [2,1,5,3,4,6]\n",
    "\n",
    "print(sorted(age))"
   ]
  },
  {
   "cell_type": "code",
   "execution_count": 69,
   "metadata": {},
   "outputs": [],
   "source": [
    "a = [[1,2,3],\n",
    "     [4,5,6],\n",
    "     [7,8,9]\n",
    "     ]"
   ]
  },
  {
   "cell_type": "code",
   "execution_count": 71,
   "metadata": {},
   "outputs": [
    {
     "data": {
      "text/plain": [
       "6"
      ]
     },
     "execution_count": 71,
     "metadata": {},
     "output_type": "execute_result"
    }
   ],
   "source": [
    "a[1][2]"
   ]
  },
  {
   "cell_type": "code",
   "execution_count": 77,
   "metadata": {},
   "outputs": [],
   "source": [
    "# tuples \n",
    "\n",
    "name = ('ade','wale','tola','femi')\n",
    "age = (8,3,4,15,6)\n"
   ]
  },
  {
   "cell_type": "code",
   "execution_count": 78,
   "metadata": {},
   "outputs": [
    {
     "data": {
      "text/plain": [
       "[3, 4, 6, 8, 15]"
      ]
     },
     "execution_count": 78,
     "metadata": {},
     "output_type": "execute_result"
    }
   ],
   "source": [
    "sorted(age)"
   ]
  },
  {
   "cell_type": "code",
   "execution_count": 80,
   "metadata": {},
   "outputs": [],
   "source": [
    "# dictioneries \n",
    "\n",
    "nigeria = {\n",
    "    'lagos':'ikeja',\n",
    "    'osun' : 'osogbo',\n",
    "    'oyo':'ibadan',\n",
    "    'ogun':'abeokuta'   \n",
    "}"
   ]
  },
  {
   "cell_type": "code",
   "execution_count": 82,
   "metadata": {},
   "outputs": [
    {
     "data": {
      "text/plain": [
       "dict_keys(['lagos', 'osun', 'oyo', 'ogun'])"
      ]
     },
     "execution_count": 82,
     "metadata": {},
     "output_type": "execute_result"
    }
   ],
   "source": [
    "# returns the keys\n",
    "nigeria.keys()"
   ]
  },
  {
   "cell_type": "code",
   "execution_count": 83,
   "metadata": {},
   "outputs": [
    {
     "data": {
      "text/plain": [
       "dict_values(['ikeja', 'osogbo', 'ibadan', 'abeokuta'])"
      ]
     },
     "execution_count": 83,
     "metadata": {},
     "output_type": "execute_result"
    }
   ],
   "source": [
    "# returns values\n",
    "\n",
    "nigeria.values()"
   ]
  },
  {
   "cell_type": "code",
   "execution_count": 84,
   "metadata": {},
   "outputs": [
    {
     "data": {
      "text/plain": [
       "dict_items([('lagos', 'ikeja'), ('osun', 'osogbo'), ('oyo', 'ibadan'), ('ogun', 'abeokuta')])"
      ]
     },
     "execution_count": 84,
     "metadata": {},
     "output_type": "execute_result"
    }
   ],
   "source": [
    "# returns a list of key value pair tuples \n",
    "nigeria.items()"
   ]
  },
  {
   "cell_type": "code",
   "execution_count": 86,
   "metadata": {},
   "outputs": [
    {
     "data": {
      "text/plain": [
       "'osogbo'"
      ]
     },
     "execution_count": 86,
     "metadata": {},
     "output_type": "execute_result"
    }
   ],
   "source": [
    "nigeria['osun']"
   ]
  },
  {
   "cell_type": "code",
   "execution_count": 87,
   "metadata": {},
   "outputs": [],
   "source": [
    "nigeria.update({'Kwara':'ilorin'})"
   ]
  },
  {
   "cell_type": "code",
   "execution_count": 94,
   "metadata": {},
   "outputs": [
    {
     "data": {
      "text/plain": [
       "'ade'"
      ]
     },
     "execution_count": 94,
     "metadata": {},
     "output_type": "execute_result"
    }
   ],
   "source": [
    "data = {\n",
    "    'student_1':['ade','male',25,False],\n",
    "    'student_2':['wale','male',23,False],\n",
    "    'student_3':['habibat','female',25,True],\n",
    "    'student_4':['grace','female',25,True]   \n",
    "}\n",
    "\n",
    "# getting the name of student 1 \n",
    "\n",
    "data['student_1'][0]\n"
   ]
  },
  {
   "cell_type": "markdown",
   "metadata": {},
   "source": [
    "### CONDITIONALS\n"
   ]
  },
  {
   "cell_type": "code",
   "execution_count": 103,
   "metadata": {},
   "outputs": [
    {
     "name": "stdout",
     "output_type": "stream",
     "text": [
      "They same age\n"
     ]
    }
   ],
   "source": [
    "# write a program that takes the name of two people, their date of birth and returns \n",
    "# the older person\n",
    "\n",
    "person_1 = input('Enter your name: ')\n",
    "year_1 = int(input('Enter your year: '))\n",
    "\n",
    "person_2 = input('Enter your name: ')\n",
    "year_2 = int(input('Enter your year: '))\n",
    "\n",
    "if year_1 < year_2 and 'c' in person_1:\n",
    "    print(f'{person_1} is older by {year_2-year_1} years')\n",
    "    print(f'{person_1} is not a Yoruba name')\n",
    "elif year_2 < year_1 and 'c' in person_1:\n",
    "    print(f'{person_2} is older by {year_1-year_2} years')\n",
    "    print(f'{person_1} is not a Yoruba name')\n",
    "else:\n",
    "    print('They same age')\n",
    "    \n",
    "    \n",
    "# The only condition for which this program understands yoruba names\n",
    "# is by absence of letter c"
   ]
  },
  {
   "cell_type": "code",
   "execution_count": 108,
   "metadata": {},
   "outputs": [
    {
     "name": "stdout",
     "output_type": "stream",
     "text": [
      "Hi Maleek congratulations, you are eliible for schorlarship\n"
     ]
    }
   ],
   "source": [
    "# schorlarship eigibility program\n",
    "\n",
    "states = ['osun','oyo','lagoss','ogun','ekiti','ondo']\n",
    "\n",
    "name = input('Enter your name: ')\n",
    "state = input('Enter your state of origin: ')\n",
    "scores = int(input('Enter your exam score'))\n",
    "\n",
    "if state in states and scores > 80:\n",
    "    print(f'Hi {name} congratulations, you are eliible for schorlarship')\n",
    "elif state in states and scores <= 80:\n",
    "     print(f'Hi {name} low score, you not are eliible for schorlarship')\n",
    "elif state not in states and scores <= 80:\n",
    "     print(f'Hi {name} you not are eliible for schorlarship on any level')\n",
    "else:\n",
    "     print(f'Hi {name} sadly, you are brillint but you are not in our states')\n"
   ]
  },
  {
   "cell_type": "code",
   "execution_count": 109,
   "metadata": {},
   "outputs": [
    {
     "name": "stdout",
     "output_type": "stream",
     "text": [
      "Hi tola congratulations, you are eliible for schorlarship\n"
     ]
    }
   ],
   "source": [
    "# schorlarship eigibility program\n",
    "\n",
    "states = ['osun','oyo','lagoss','ogun','ekiti','ondo']\n",
    "\n",
    "name = input('Enter your name: ')\n",
    "state = input('Enter your state of origin: ')\n",
    "scores = int(input('Enter your exam score'))\n",
    "\n",
    "\n",
    "if state in states:\n",
    "    if scores < 80:\n",
    "        print(f'HI {name} you have a LOW score sadly')\n",
    "    else:\n",
    "        print(f'Hi {name} congratulations, you are eliible for schorlarship')\n",
    "else:\n",
    "    if scores < 80:\n",
    "        print(f'Hi {name} you not are eliible for schorlarship on any level')\n",
    "    else:\n",
    "       print(f'Hi {name} sadly, you are brillint but you are not in our states') \n",
    "    "
   ]
  },
  {
   "cell_type": "code",
   "execution_count": 112,
   "metadata": {},
   "outputs": [
    {
     "name": "stdout",
     "output_type": "stream",
     "text": [
      "Hi baseey you have 6000.0 discount, and your fee is: 24000.0\n"
     ]
    }
   ],
   "source": [
    "# write a program that awards 20% discount to customers from Nigeria, Ghana, Togo\n",
    "# when they buy something above 25000.\n",
    "\n",
    "countries = ['nigeria','ghana','togo']\n",
    "\n",
    "name = input('Enter your name: ')\n",
    "country = input('Enter your country: ')\n",
    "amount = int(input('Enter your amount'))\n",
    "\n",
    "\n",
    "if country in countries:\n",
    "    if amount < 25000:\n",
    "        print(f'Hi {name} low amount, there is no discount, your fee is: {amount}')\n",
    "    else:\n",
    "        print(f'Hi {name} you have {amount*0.2} discount, and your fee is: {amount*0.8}')\n",
    "else:\n",
    "    if amount < 25000:\n",
    "        print(f'Hi {name} totally not eligible, your fee is: {amount}')\n",
    "    else:\n",
    "        print(f'Hi {name} high amount, but not in our countries there is no discount, your fee is: {amount}')\n"
   ]
  },
  {
   "cell_type": "markdown",
   "metadata": {},
   "source": [
    "## ASSIGMENTS\n",
    "\n",
    "* program that checks whether or not someone is a student of appclick data science. students of data science includes Sade, Funmi, Teni and Wale\n",
    "* simple program that checks if a second hand car is worth buying or not. All Corrola,camry,avensis  are worth buying. Any other car brand must hav e less than 50k mileage to be worth it.\n",
    "\n"
   ]
  },
  {
   "cell_type": "markdown",
   "metadata": {},
   "source": [
    "## FOR LOOPS "
   ]
  },
  {
   "cell_type": "code",
   "execution_count": null,
   "metadata": {},
   "outputs": [],
   "source": [
    " gist.github. com "
   ]
  }
 ],
 "metadata": {
  "kernelspec": {
   "display_name": "base",
   "language": "python",
   "name": "python3"
  },
  "language_info": {
   "codemirror_mode": {
    "name": "ipython",
    "version": 3
   },
   "file_extension": ".py",
   "mimetype": "text/x-python",
   "name": "python",
   "nbconvert_exporter": "python",
   "pygments_lexer": "ipython3",
   "version": "3.11.4"
  }
 },
 "nbformat": 4,
 "nbformat_minor": 2
}

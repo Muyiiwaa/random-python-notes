{
 "cells": [
  {
   "cell_type": "markdown",
   "id": "9397ef63",
   "metadata": {},
   "source": [
    "### Variables and Datatypes"
   ]
  },
  {
   "cell_type": "code",
   "execution_count": 1,
   "id": "c2c9c833",
   "metadata": {},
   "outputs": [
    {
     "name": "stdout",
     "output_type": "stream",
     "text": [
      "<class 'str'>\n",
      "<class 'int'>\n",
      "<class 'float'>\n",
      "<class 'bool'>\n"
     ]
    }
   ],
   "source": [
    "name = 'George'\n",
    "age = 15\n",
    "height = 187.6\n",
    "married =  False\n",
    "\n",
    "\n",
    "\n",
    "print(type(name))\n",
    "print(type(age))\n",
    "print(type(height))\n",
    "print(type(married))"
   ]
  },
  {
   "cell_type": "code",
   "execution_count": 11,
   "id": "449b2431",
   "metadata": {},
   "outputs": [
    {
     "name": "stdout",
     "output_type": "stream",
     "text": [
      "Hello world\n"
     ]
    }
   ],
   "source": [
    "# write a program that prints hello world \n",
    "\n",
    "print('Hello world')"
   ]
  },
  {
   "cell_type": "code",
   "execution_count": 24,
   "id": "9c55081e",
   "metadata": {},
   "outputs": [
    {
     "name": "stdout",
     "output_type": "stream",
     "text": [
      "Hi, Enter Your Name: George\n",
      "Enter your year of birth: 1999\n",
      "Hi, George you are 24 years old\n"
     ]
    }
   ],
   "source": [
    "# write a program that accept users name and year of birth and return their age\n",
    "\n",
    "name = input('Hi, Enter Your Name: ')\n",
    "year = input('Enter your year of birth: ')\n",
    "year = int(year)\n",
    "age = 2023 - year\n",
    "print(f'Hi, {name} you are {age} years old')"
   ]
  },
  {
   "cell_type": "code",
   "execution_count": 25,
   "id": "ae8efaa2",
   "metadata": {},
   "outputs": [
    {
     "name": "stdout",
     "output_type": "stream",
     "text": [
      "Enter your name: Tomisin\n",
      "Hi, Tomisin welcome to Appclick\n"
     ]
    }
   ],
   "source": [
    "# write a program that accepts a user's name and greets them\n",
    "\n",
    "name = input('Enter your name: ')\n",
    "print(f'Hi, {name} welcome to Appclick')"
   ]
  },
  {
   "cell_type": "markdown",
   "id": "69b95d5c",
   "metadata": {},
   "source": [
    "### Mathematical operators"
   ]
  },
  {
   "cell_type": "markdown",
   "id": "a98cd5ec",
   "metadata": {},
   "source": [
    "* addition  +\n",
    "* subtraction  -\n",
    "* division /\n",
    "* multiplication *\n",
    "*  floor division //\n",
    "* modulus %\n",
    "* power **\n",
    "* root ** 1/n\n",
    "* sqrt ** 1/2"
   ]
  },
  {
   "cell_type": "code",
   "execution_count": 1,
   "id": "6ae2cdb8",
   "metadata": {},
   "outputs": [
    {
     "name": "stdout",
     "output_type": "stream",
     "text": [
      "7\n"
     ]
    }
   ],
   "source": [
    "# add two numbers together \n",
    "\n",
    "print(2+5)"
   ]
  },
  {
   "cell_type": "code",
   "execution_count": 2,
   "id": "67399153",
   "metadata": {},
   "outputs": [
    {
     "data": {
      "text/plain": [
       "8.3"
      ]
     },
     "execution_count": 2,
     "metadata": {},
     "output_type": "execute_result"
    }
   ],
   "source": [
    "2.3 + 6"
   ]
  },
  {
   "cell_type": "code",
   "execution_count": 4,
   "id": "51caaf2a",
   "metadata": {},
   "outputs": [
    {
     "name": "stdout",
     "output_type": "stream",
     "text": [
      "Ade Wale\n"
     ]
    }
   ],
   "source": [
    "# adding strings -- string concatenation\n",
    "\n",
    "first_name = 'Ade'\n",
    "last_name = 'Wale'\n",
    "\n",
    "\n",
    "full_name = first_name +' ' + last_name\n",
    "\n",
    "print(full_name)\n"
   ]
  },
  {
   "cell_type": "code",
   "execution_count": 5,
   "id": "5f2b6c10",
   "metadata": {},
   "outputs": [
    {
     "data": {
      "text/plain": [
       "35"
      ]
     },
     "execution_count": 5,
     "metadata": {},
     "output_type": "execute_result"
    }
   ],
   "source": [
    "# subtract floats, integers\n",
    "\n",
    "60-25"
   ]
  },
  {
   "cell_type": "code",
   "execution_count": 6,
   "id": "3ce18d76",
   "metadata": {},
   "outputs": [
    {
     "data": {
      "text/plain": [
       "17.75"
      ]
     },
     "execution_count": 6,
     "metadata": {},
     "output_type": "execute_result"
    }
   ],
   "source": [
    "34.25 - 16.5"
   ]
  },
  {
   "cell_type": "code",
   "execution_count": 7,
   "id": "e1761fb2",
   "metadata": {},
   "outputs": [
    {
     "data": {
      "text/plain": [
       "10.0"
      ]
     },
     "execution_count": 7,
     "metadata": {},
     "output_type": "execute_result"
    }
   ],
   "source": [
    "# division\n",
    "# every time we divide in python we get a floating point result\n",
    "\n",
    "50 / 5"
   ]
  },
  {
   "cell_type": "code",
   "execution_count": 9,
   "id": "c91ec2cf",
   "metadata": {},
   "outputs": [
    {
     "data": {
      "text/plain": [
       "7"
      ]
     },
     "execution_count": 9,
     "metadata": {},
     "output_type": "execute_result"
    }
   ],
   "source": [
    "# floor division\n",
    "\n",
    "15//2"
   ]
  },
  {
   "cell_type": "code",
   "execution_count": 10,
   "id": "7bc35654",
   "metadata": {},
   "outputs": [
    {
     "data": {
      "text/plain": [
       "1"
      ]
     },
     "execution_count": 10,
     "metadata": {},
     "output_type": "execute_result"
    }
   ],
   "source": [
    "# modulus \n",
    "\n",
    "15 % 2"
   ]
  },
  {
   "cell_type": "code",
   "execution_count": 14,
   "id": "a376260e",
   "metadata": {},
   "outputs": [
    {
     "data": {
      "text/plain": [
       "20"
      ]
     },
     "execution_count": 14,
     "metadata": {},
     "output_type": "execute_result"
    }
   ],
   "source": [
    "# multiplication\n",
    "\n",
    "5 * 4"
   ]
  },
  {
   "cell_type": "code",
   "execution_count": 16,
   "id": "4a1abc3e",
   "metadata": {},
   "outputs": [
    {
     "data": {
      "text/plain": [
       "'AdeAdeAde'"
      ]
     },
     "execution_count": 16,
     "metadata": {},
     "output_type": "execute_result"
    }
   ],
   "source": [
    "# multiplying strings\n",
    "\n",
    "3 * first_name"
   ]
  },
  {
   "cell_type": "code",
   "execution_count": 17,
   "id": "06ea4d44",
   "metadata": {},
   "outputs": [
    {
     "data": {
      "text/plain": [
       "9"
      ]
     },
     "execution_count": 17,
     "metadata": {},
     "output_type": "execute_result"
    }
   ],
   "source": [
    "# power \n",
    "\n",
    "3 ** 2"
   ]
  },
  {
   "cell_type": "code",
   "execution_count": 19,
   "id": "fbb9df0c",
   "metadata": {},
   "outputs": [
    {
     "data": {
      "text/plain": [
       "3.0"
      ]
     },
     "execution_count": 19,
     "metadata": {},
     "output_type": "execute_result"
    }
   ],
   "source": [
    "# square root \n",
    "\n",
    "9 ** (1/2)"
   ]
  },
  {
   "cell_type": "code",
   "execution_count": 20,
   "id": "8c5a93fc",
   "metadata": {},
   "outputs": [
    {
     "data": {
      "text/plain": [
       "3.0"
      ]
     },
     "execution_count": 20,
     "metadata": {},
     "output_type": "execute_result"
    }
   ],
   "source": [
    "# root\n",
    "\n",
    "27 ** (1/3)"
   ]
  },
  {
   "cell_type": "markdown",
   "id": "520db152",
   "metadata": {},
   "source": [
    "### Exercises"
   ]
  },
  {
   "cell_type": "code",
   "execution_count": 27,
   "id": "8c9d14d0",
   "metadata": {},
   "outputs": [
    {
     "name": "stdout",
     "output_type": "stream",
     "text": [
      "Enter the value of length: 12\n",
      "Enter the value of breadth: 15\n",
      "The area of your rectangle is 180 cm squared\n"
     ]
    }
   ],
   "source": [
    "# program that calculates the area of a rectangle \n",
    "\n",
    "length = int(input('Enter the value of length: '))\n",
    "breadth = int(input('Enter the value of breadth: '))\n",
    "\n",
    "area = length * breadth\n",
    "\n",
    "print(f'The area of your rectangle is {area} cm squared')"
   ]
  },
  {
   "cell_type": "code",
   "execution_count": 29,
   "id": "d1e0693d",
   "metadata": {},
   "outputs": [
    {
     "name": "stdout",
     "output_type": "stream",
     "text": [
      "Enter the base: 15\n",
      "Enter the height: 3\n",
      "The area of the rectangle is 22.5 cm2\n"
     ]
    }
   ],
   "source": [
    "# program that calculates area of a triangle\n",
    "\n",
    "\n",
    "base = int(input('Enter the base: '))\n",
    "height = int(input('Enter the height: '))\n",
    "\n",
    "area = 0.5 * (base * height)\n",
    "\n",
    "print(f'The area of the rectangle is {area}cm2')"
   ]
  },
  {
   "cell_type": "code",
   "execution_count": 30,
   "id": "c3ff8862",
   "metadata": {},
   "outputs": [
    {
     "name": "stdout",
     "output_type": "stream",
     "text": [
      "Enter the value of a: 1\n",
      "Enter the value of b: 5\n",
      "Enter the value of c: 6\n",
      "The root of the equation is -2.0 and -3.0\n"
     ]
    }
   ],
   "source": [
    "#  write a program that solves a quadratic equation\n",
    "\n",
    "\n",
    "# accepting user input\n",
    "a = int(input('Enter the value of a: '))\n",
    "b = int(input('Enter the value of b: '))\n",
    "c = int(input('Enter the value of c: '))\n",
    "\n",
    "\n",
    "# define the solution\n",
    "\n",
    "x1 = (-b + ((b ** 2) - (4*a*c)) ** (1/2))/(2*a)i\n",
    "\n",
    "x2 = (-b - ((b ** 2) - (4*a*c)) ** (1/2))/(2*a)\n",
    "\n",
    "\n",
    "print(f'The root of the equation is {x1} and {x2}')"
   ]
  },
  {
   "cell_type": "code",
   "execution_count": 3,
   "id": "868a852e",
   "metadata": {},
   "outputs": [
    {
     "name": "stdout",
     "output_type": "stream",
     "text": [
      "Enter the no of days to be converted: 41\n",
      "There are 5 week and 6 days in 41 days\n"
     ]
    }
   ],
   "source": [
    "#  program that converts days to weeks\n",
    "\n",
    "days = int(input('Enter the no of days to be converted: '))\n",
    "\n",
    "weeks = days // 7\n",
    "remaining_days = days % 7\n",
    "\n",
    "print(f'There are {weeks} week and {remaining_days} days in {days} days')"
   ]
  },
  {
   "cell_type": "code",
   "execution_count": 5,
   "id": "cbbf2752",
   "metadata": {},
   "outputs": [
    {
     "name": "stdout",
     "output_type": "stream",
     "text": [
      "Enter the currencyDollar\n",
      "How many Dollar do you want to change?: \n",
      "300\n",
      "What currency do you want to change your 300 Dollar to\n",
      "naira\n",
      "What is the current Dollar and naira exchange rate\n",
      "1300\n",
      "300 Dollar is 390000 naira\n"
     ]
    }
   ],
   "source": [
    "# write a currency converter program using any currency of your choice \n",
    "\n",
    "base_currency = input('Enter the currency')\n",
    "print(f'How many {base_currency} do you want to change?: ')\n",
    "amount = int(input())\n",
    "print(f'What currency do you want to change your {amount} {base_currency} to')\n",
    "second_currency = input()\n",
    "print(f'What is the current {base_currency} and {second_currency} exchange rate')\n",
    "rate = int(input())\n",
    "\n",
    "converted_amount = amount * rate\n",
    "\n",
    "print(f'{amount} {base_currency} is {converted_amount} {second_currency}')"
   ]
  },
  {
   "cell_type": "markdown",
   "id": "132b60f8",
   "metadata": {},
   "source": [
    "### built-in functions\n",
    "\n",
    "* int() -- for coverting objects of any type to integer\n",
    "* float() -- for coverting objects of any type to floats i.e decimal\n",
    "* print() -- to ouput stuffs\n",
    "* input() -- to accept user input from the console\n",
    "* len() -- returns the number of element in an iterable\n",
    "* sum() -- returns the total of elements by additon\n",
    "* max() -- returns the highest element in a group of elements \n",
    "* min() -- returns lowest element\n",
    "* round() -- brings a float value to a particular decimal place\n",
    "* str() -- for coverting objects of any type to string\n",
    "* range() -- returns the number of elements within a specified range"
   ]
  },
  {
   "cell_type": "code",
   "execution_count": 6,
   "id": "500028c8",
   "metadata": {},
   "outputs": [
    {
     "name": "stdout",
     "output_type": "stream",
     "text": [
      "Enter your name: George\n",
      "There are 6 letters in George\n"
     ]
    }
   ],
   "source": [
    "# write a program that returns the number of letters in someone's name\n",
    "\n",
    "name = input('Enter your name: ')\n",
    "\n",
    "count = len(name)\n",
    "\n",
    "print(f'There are {count} letters in {name}')"
   ]
  },
  {
   "cell_type": "code",
   "execution_count": 11,
   "id": "d67ae180",
   "metadata": {},
   "outputs": [
    {
     "data": {
      "text/plain": [
       "8"
      ]
     },
     "execution_count": 11,
     "metadata": {},
     "output_type": "execute_result"
    }
   ],
   "source": [
    "max(3,5,8)"
   ]
  },
  {
   "cell_type": "code",
   "execution_count": 12,
   "id": "6c6ce189",
   "metadata": {},
   "outputs": [
    {
     "data": {
      "text/plain": [
       "3"
      ]
     },
     "execution_count": 12,
     "metadata": {},
     "output_type": "execute_result"
    }
   ],
   "source": [
    "min(3,5,8)"
   ]
  },
  {
   "cell_type": "code",
   "execution_count": 18,
   "id": "c64aba73",
   "metadata": {},
   "outputs": [
    {
     "data": {
      "text/plain": [
       "1"
      ]
     },
     "execution_count": 18,
     "metadata": {},
     "output_type": "execute_result"
    }
   ],
   "source": [
    "round(0.51)"
   ]
  },
  {
   "cell_type": "code",
   "execution_count": 24,
   "id": "9a36c57c",
   "metadata": {},
   "outputs": [
    {
     "data": {
      "text/plain": [
       "[1, 3, 5]"
      ]
     },
     "execution_count": 24,
     "metadata": {},
     "output_type": "execute_result"
    }
   ],
   "source": [
    "list(range(1,7,2))"
   ]
  },
  {
   "cell_type": "code",
   "execution_count": 33,
   "id": "658ee28c",
   "metadata": {},
   "outputs": [],
   "source": [
    "# return all even numbers between 4 and 22\n",
    "\n",
    "\n",
    "even_range = list(range(4,23,2))\n"
   ]
  },
  {
   "cell_type": "code",
   "execution_count": 26,
   "id": "3f586584",
   "metadata": {},
   "outputs": [
    {
     "data": {
      "text/plain": [
       "[4, 6, 8, 10, 12, 14, 16, 18, 20, 22]"
      ]
     },
     "execution_count": 26,
     "metadata": {},
     "output_type": "execute_result"
    }
   ],
   "source": [
    "even_range"
   ]
  },
  {
   "cell_type": "code",
   "execution_count": 32,
   "id": "d7c26d78",
   "metadata": {},
   "outputs": [
    {
     "name": "stdout",
     "output_type": "stream",
     "text": [
      "name_1: wale\n",
      "name_2: George\n",
      "The longest has 6 letters\n"
     ]
    }
   ],
   "source": [
    "# write a program  that accepts two people's name and returns the length of the longest.\n",
    "\n",
    "name_1 = input('name_1: ')\n",
    "name_2 = input('name_2: ')\n",
    "\n",
    "count_1 = len(name_1)\n",
    "count_2 = len(name_2)\n",
    "\n",
    "greater = max(count_1, count_2)\n",
    "\n",
    "print(f'The longest has {greater} letters')"
   ]
  },
  {
   "cell_type": "code",
   "execution_count": 36,
   "id": "fd1a119f",
   "metadata": {},
   "outputs": [
    {
     "name": "stdout",
     "output_type": "stream",
     "text": [
      "4\n"
     ]
    }
   ],
   "source": [
    "a = 2 + 2 \n",
    "print(a)"
   ]
  },
  {
   "cell_type": "code",
   "execution_count": null,
   "id": "ef911b6d",
   "metadata": {},
   "outputs": [],
   "source": [
    "# write a program that returns the number of even numbers between 6 and 568."
   ]
  }
 ],
 "metadata": {
  "kernelspec": {
   "display_name": "Python 3 (ipykernel)",
   "language": "python",
   "name": "python3"
  },
  "language_info": {
   "codemirror_mode": {
    "name": "ipython",
    "version": 3
   },
   "file_extension": ".py",
   "mimetype": "text/x-python",
   "name": "python",
   "nbconvert_exporter": "python",
   "pygments_lexer": "ipython3",
   "version": "3.11.4"
  }
 },
 "nbformat": 4,
 "nbformat_minor": 5
}

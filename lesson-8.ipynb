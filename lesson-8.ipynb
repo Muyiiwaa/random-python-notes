{
 "cells": [
  {
   "cell_type": "markdown",
   "metadata": {},
   "source": [
    "### object oriented programming (OOP) in python"
   ]
  },
  {
   "cell_type": "code",
   "execution_count": 2,
   "metadata": {},
   "outputs": [
    {
     "name": "stdout",
     "output_type": "stream",
     "text": [
      "<class 'str'>\n"
     ]
    }
   ],
   "source": [
    "name = 'Sade'\n",
    "\n",
    "print(type(name))"
   ]
  },
  {
   "cell_type": "code",
   "execution_count": 3,
   "metadata": {},
   "outputs": [
    {
     "name": "stdout",
     "output_type": "stream",
     "text": [
      "<class 'int'>\n"
     ]
    }
   ],
   "source": [
    "age = 35\n",
    "\n",
    "print(type(age))"
   ]
  },
  {
   "cell_type": "code",
   "execution_count": null,
   "metadata": {},
   "outputs": [],
   "source": [
    "# class\n",
    "# instances\n",
    "# attributes\n",
    "# methods\n",
    "# constructors\n",
    "\n",
    "\n",
    "#------------------------#\n",
    "\n",
    "# inheritance\n",
    "# polymorphism\n",
    "# abstraction\n",
    "# dunder methods\n",
    "\n"
   ]
  },
  {
   "cell_type": "code",
   "execution_count": 23,
   "metadata": {},
   "outputs": [],
   "source": [
    "# create Car class\n",
    "\n",
    "\n",
    "# always name the class starting with capital letter\n",
    "class Car:\n",
    "    \n",
    "    # creating the constructor \n",
    "    def __init__(self, make, model, color, year):\n",
    "        \n",
    "        self.make = make\n",
    "        self.model = model \n",
    "        self.color = color\n",
    "        self.year = year\n",
    "        self.start = False\n",
    "        self.speed = 0\n",
    "        \n",
    "    # creating the methods \n",
    "    \n",
    "    def kick(self):\n",
    "        if self.start:\n",
    "            print(f'{self.make} is already running') \n",
    "        else:\n",
    "            print('zooooooooom!!!')\n",
    "            self.start = True\n",
    "    \n",
    "    def drive(self, gear = 'l'):\n",
    "        if self.start:\n",
    "            if gear == 'l':\n",
    "                self.speed += 30\n",
    "                print(f'Moving at {self.speed} per hour')\n",
    "            elif gear == 'm':\n",
    "                self.speed += 40\n",
    "                print(f'Moving at {sel  f.speed} per hour')\n",
    "            elif gear == 'h':\n",
    "                self.speed += 50\n",
    "                print(f'Moving at {self.speed} per hour')\n",
    "                \n",
    "        else:\n",
    "            print(f'You have to start the car first')\n",
    "            \n",
    "    def brake(self, intensity = 'l'):\n",
    "        if self.start:\n",
    "            if self.speed <= 0:\n",
    "                print(f'Car is not moving')\n",
    "            else:\n",
    "                if intensity == 'l':\n",
    "                    self.speed -= self.speed * 0.50\n",
    "                    print(f'car is braking and moving at {self.speed}')\n",
    "                elif intensity == 'm':\n",
    "                    self.speed -= self.speed * 0.75\n",
    "                    print(f'car is braking and moving at {self.speed}')\n",
    "                elif intensity == 'h':\n",
    "                    self.speed -= self.speed\n",
    "                    print(f'car has stopped')\n",
    "    def park(self):\n",
    "        if self.start == False:\n",
    "            print(f'Car is already parked')\n",
    "        else:\n",
    "            if self.speed > 0:\n",
    "                print(f'You cant park at {self.speed} you have to brake all the way')\n",
    "            else:\n",
    "                self.start = False\n",
    "                print('Car is now parked')\n",
    "    \n",
    "    "
   ]
  },
  {
   "cell_type": "code",
   "execution_count": 24,
   "metadata": {},
   "outputs": [],
   "source": [
    "my_car = Car(make= 'Mercedez', model= 'benz', color= 'black', year= '2022')\n",
    "zainab_car = Car(make= 'Toyota', model= 'Camry', color= 'white', year= '2023')\n",
    "yemi_car = Car(make= 'Bmw', model= 'X6', color= 'Grey', year= '2021')\n",
    "\n"
   ]
  },
  {
   "cell_type": "code",
   "execution_count": 25,
   "metadata": {},
   "outputs": [
    {
     "data": {
      "text/plain": [
       "'Mercedez'"
      ]
     },
     "execution_count": 25,
     "metadata": {},
     "output_type": "execute_result"
    }
   ],
   "source": [
    "my_car.make"
   ]
  },
  {
   "cell_type": "code",
   "execution_count": 26,
   "metadata": {},
   "outputs": [
    {
     "name": "stdout",
     "output_type": "stream",
     "text": [
      "You have to start the car first\n"
     ]
    }
   ],
   "source": [
    "zainab_car.drive(gear= 'l')"
   ]
  },
  {
   "cell_type": "code",
   "execution_count": 27,
   "metadata": {},
   "outputs": [
    {
     "name": "stdout",
     "output_type": "stream",
     "text": [
      "<class '__main__.Car'>\n"
     ]
    }
   ],
   "source": [
    "print(type(zainab_car))"
   ]
  },
  {
   "cell_type": "code",
   "execution_count": 28,
   "metadata": {},
   "outputs": [
    {
     "name": "stdout",
     "output_type": "stream",
     "text": [
      "zooooooooom!!!\n"
     ]
    }
   ],
   "source": [
    "zainab_car.kick()"
   ]
  },
  {
   "cell_type": "code",
   "execution_count": 37,
   "metadata": {},
   "outputs": [
    {
     "name": "stdout",
     "output_type": "stream",
     "text": [
      "Moving at 120 per hour\n"
     ]
    }
   ],
   "source": [
    "zainab_car.drive(gear= 'm')"
   ]
  },
  {
   "cell_type": "code",
   "execution_count": 41,
   "metadata": {},
   "outputs": [
    {
     "name": "stdout",
     "output_type": "stream",
     "text": [
      "car has stopped\n"
     ]
    }
   ],
   "source": [
    "zainab_car.brake(intensity= 'h')"
   ]
  },
  {
   "cell_type": "code",
   "execution_count": 42,
   "metadata": {},
   "outputs": [
    {
     "name": "stdout",
     "output_type": "stream",
     "text": [
      "Car is now parked\n"
     ]
    }
   ],
   "source": [
    "zainab_car.park()"
   ]
  },
  {
   "cell_type": "code",
   "execution_count": null,
   "metadata": {},
   "outputs": [],
   "source": []
  },
  {
   "cell_type": "code",
   "execution_count": null,
   "metadata": {},
   "outputs": [],
   "source": []
  },
  {
   "cell_type": "code",
   "execution_count": null,
   "metadata": {},
   "outputs": [],
   "source": []
  },
  {
   "cell_type": "code",
   "execution_count": null,
   "metadata": {},
   "outputs": [],
   "source": []
  }
 ],
 "metadata": {
  "kernelspec": {
   "display_name": "base",
   "language": "python",
   "name": "python3"
  },
  "language_info": {
   "codemirror_mode": {
    "name": "ipython",
    "version": 3
   },
   "file_extension": ".py",
   "mimetype": "text/x-python",
   "name": "python",
   "nbconvert_exporter": "python",
   "pygments_lexer": "ipython3",
   "version": "3.11.4"
  }
 },
 "nbformat": 4,
 "nbformat_minor": 2
}

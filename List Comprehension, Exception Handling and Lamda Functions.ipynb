{
 "cells": [
  {
   "cell_type": "markdown",
   "id": "0754003d",
   "metadata": {},
   "source": [
    "### Funtions with Unlimited arguments"
   ]
  },
  {
   "cell_type": "code",
   "execution_count": 4,
   "id": "30dc7b7d",
   "metadata": {},
   "outputs": [],
   "source": [
    "# function that returns the average of a list of numbers \n",
    "\n",
    "\n",
    "\n",
    "def avg(*nums):\n",
    "    nums = list(nums)\n",
    "    average = sum(nums)/len(nums)\n",
    "    return average"
   ]
  },
  {
   "cell_type": "code",
   "execution_count": null,
   "id": "94b0419d",
   "metadata": {},
   "outputs": [],
   "source": []
  },
  {
   "cell_type": "code",
   "execution_count": 9,
   "id": "08d2f9ae",
   "metadata": {},
   "outputs": [
    {
     "data": {
      "text/plain": [
       "6.555555555555555"
      ]
     },
     "execution_count": 9,
     "metadata": {},
     "output_type": "execute_result"
    }
   ],
   "source": [
    "avg(2,3,4,5,6,8,7,13,11)"
   ]
  },
  {
   "cell_type": "markdown",
   "id": "98705afb",
   "metadata": {},
   "source": [
    "### List Comprehension"
   ]
  },
  {
   "cell_type": "code",
   "execution_count": 13,
   "id": "180cae07",
   "metadata": {},
   "outputs": [
    {
     "data": {
      "text/plain": [
       "[2, 4, 6, 8, 10]"
      ]
     },
     "execution_count": 13,
     "metadata": {},
     "output_type": "execute_result"
    }
   ],
   "source": [
    "# write a program that returns the even numbers between 1 and 10\n",
    "\n",
    "numbers = [1,2,3,4,5,6,7,8,9,10]\n",
    "even_list = []\n",
    "\n",
    "for num in numbers:\n",
    "    if num % 2 == 0:\n",
    "        even_list.append(num)\n",
    "\n",
    "even_list"
   ]
  },
  {
   "cell_type": "code",
   "execution_count": 15,
   "id": "b33241f3",
   "metadata": {},
   "outputs": [
    {
     "data": {
      "text/plain": [
       "[2, 4, 6, 8, 10]"
      ]
     },
     "execution_count": 15,
     "metadata": {},
     "output_type": "execute_result"
    }
   ],
   "source": [
    "even_nos = [x for x in numbers if x % 2 == 0]\n",
    "even_nos"
   ]
  },
  {
   "cell_type": "code",
   "execution_count": 16,
   "id": "72b409b8",
   "metadata": {},
   "outputs": [
    {
     "data": {
      "text/plain": [
       "['odd', 'even', 'odd', 'even', 'odd', 'even', 'odd', 'even', 'odd', 'even']"
      ]
     },
     "execution_count": 16,
     "metadata": {},
     "output_type": "execute_result"
    }
   ],
   "source": [
    "# labels a list as odd or even\n",
    "\n",
    "\n",
    "labels = ['odd' if x % 2 != 0 else 'even' for x in numbers]\n",
    "labels"
   ]
  },
  {
   "cell_type": "code",
   "execution_count": 17,
   "id": "19d5c919",
   "metadata": {},
   "outputs": [
    {
     "data": {
      "text/plain": [
       "[2, 4, 6, 8, 10, 12, 14, 16, 18, 20]"
      ]
     },
     "execution_count": 17,
     "metadata": {},
     "output_type": "execute_result"
    }
   ],
   "source": [
    "double = [x * 2 for x in numbers]\n",
    "double"
   ]
  },
  {
   "cell_type": "code",
   "execution_count": 18,
   "id": "4d1e92a1",
   "metadata": {},
   "outputs": [],
   "source": [
    "def check_prime(number):\n",
    "    for num in range(2, number):\n",
    "        if number % num == 0:\n",
    "            return False\n",
    "    else:\n",
    "        return True"
   ]
  },
  {
   "cell_type": "code",
   "execution_count": 19,
   "id": "16c7fe89",
   "metadata": {},
   "outputs": [],
   "source": [
    "# return the list of multiples of 4 between 1 and 40 using list comprehension\n",
    "\n",
    "multiple_4 = [x for x in range(1,41) if x % 4 == 0]"
   ]
  },
  {
   "cell_type": "code",
   "execution_count": 20,
   "id": "e06c5917",
   "metadata": {},
   "outputs": [
    {
     "data": {
      "text/plain": [
       "[4, 8, 12, 16, 20, 24, 28, 32, 36, 40]"
      ]
     },
     "execution_count": 20,
     "metadata": {},
     "output_type": "execute_result"
    }
   ],
   "source": [
    "multiple_4"
   ]
  },
  {
   "cell_type": "code",
   "execution_count": 26,
   "id": "f265385e",
   "metadata": {},
   "outputs": [
    {
     "data": {
      "text/plain": [
       "[1, 2, 3, 5, 7, 11, 13, 17, 19, 23, 29, 31, 37]"
      ]
     },
     "execution_count": 26,
     "metadata": {},
     "output_type": "execute_result"
    }
   ],
   "source": [
    "# returns the prime numbers betweem 1 and 40\n",
    "\n",
    "primes_40 = [x for x in range(1,41) if check_prime(x)]\n",
    "primes_40"
   ]
  },
  {
   "cell_type": "markdown",
   "id": "4a543e29",
   "metadata": {},
   "source": [
    "## Exception handling"
   ]
  },
  {
   "cell_type": "code",
   "execution_count": 41,
   "id": "4fd1b4ea",
   "metadata": {},
   "outputs": [
    {
     "name": "stdout",
     "output_type": "stream",
     "text": [
      "Enter the days: 41\n",
      "5 weeks and 6 days\n",
      "Enter the days: forty days\n",
      "Please enter integer value not strings\n",
      "Enter the days: 34\n",
      "4 weeks and 6 days\n",
      "Enter the days: 33\n",
      "4 weeks and 5 days\n"
     ]
    }
   ],
   "source": [
    "# program that converts days to weeks \n",
    "\n",
    "counter = 0\n",
    "while True:\n",
    "    if counter <= 2:\n",
    "        try:\n",
    "            days = int(input('Enter the days: '))\n",
    "            weeks = days // 7\n",
    "            remaining_days = days % 7\n",
    "            print(f'{weeks} weeks and {remaining_days} days')\n",
    "            counter += 1\n",
    "        except ValueError:\n",
    "            print('Please enter integer value not strings')\n",
    "    else:\n",
    "        break"
   ]
  },
  {
   "cell_type": "code",
   "execution_count": 49,
   "id": "47e0fa01",
   "metadata": {},
   "outputs": [
    {
     "name": "stdout",
     "output_type": "stream",
     "text": [
      "2.5\n",
      "nothing happened\n"
     ]
    }
   ],
   "source": [
    "try:\n",
    "    print(5/2)\n",
    "except ZeroDivisionError:\n",
    "    print(0)\n"
   ]
  },
  {
   "cell_type": "code",
   "execution_count": null,
   "id": "aef4c3aa",
   "metadata": {},
   "outputs": [],
   "source": [
    "base_currency = input('Enter the currency')\n",
    "print(f'How many {base_currency} do you want to change?: ')\n",
    "amount = int(input())\n",
    "print(f'What currency do you want to change your {amount} {base_currency} to')\n",
    "second_currency = input()\n",
    "print(f'What is the current {base_currency} and {second_currency} exchange rate')\n",
    "rate = int(input())\n",
    " \n",
    "converted_amount = amount * rate\n",
    "print(f'{amount} {base_currency} is {converted_amount} {second_currency}')"
   ]
  },
  {
   "cell_type": "code",
   "execution_count": 2,
   "id": "791482c2",
   "metadata": {},
   "outputs": [
    {
     "data": {
      "text/plain": [
       "6"
      ]
     },
     "execution_count": 2,
     "metadata": {},
     "output_type": "execute_result"
    }
   ],
   "source": [
    "# function that adds two numbers \n",
    "\n",
    "\n",
    "def add(x,y):\n",
    "    result = x + y\n",
    "    return result\n",
    "\n",
    "\n",
    "add(2,4)"
   ]
  },
  {
   "cell_type": "code",
   "execution_count": 1,
   "id": "542f9ee6",
   "metadata": {},
   "outputs": [
    {
     "name": "stdout",
     "output_type": "stream",
     "text": [
      "8\n"
     ]
    }
   ],
   "source": [
    "x = lambda a,b: a + b\n",
    "\n",
    "print(x(3,5))"
   ]
  },
  {
   "cell_type": "code",
   "execution_count": 2,
   "id": "a6ff3949",
   "metadata": {},
   "outputs": [
    {
     "name": "stdout",
     "output_type": "stream",
     "text": [
      "22\n"
     ]
    }
   ],
   "source": [
    "# lamda function that doubles itself\n",
    "\n",
    "double = lambda a: a * 2\n",
    "\n",
    "print(double(11))"
   ]
  },
  {
   "cell_type": "code",
   "execution_count": 6,
   "id": "8c7289b9",
   "metadata": {},
   "outputs": [
    {
     "name": "stdout",
     "output_type": "stream",
     "text": [
      "Enter higher number: 10\n",
      "Enter lower number: 3\n",
      "[3, 4, 5, 6, 7, 8, 9, 10]\n",
      "[9, 16, 25, 36, 49, 64, 81, 100]\n"
     ]
    }
   ],
   "source": [
    "# write a program that squares all the elements in a given range\n",
    "\n",
    "\n",
    "upper = int(input('Enter higher number: '))\n",
    "lower = int(input('Enter lower number: '))\n",
    "numbers = list(range(lower, upper+1))\n",
    "\n",
    "squared = map(lambda x: x **2, numbers)\n",
    "\n",
    "print(numbers)\n",
    "print(list(squared))"
   ]
  },
  {
   "cell_type": "code",
   "execution_count": 4,
   "id": "5a350d75",
   "metadata": {},
   "outputs": [
    {
     "data": {
      "text/plain": [
       "[]"
      ]
     },
     "execution_count": 4,
     "metadata": {},
     "output_type": "execute_result"
    }
   ],
   "source": [
    "numbers"
   ]
  },
  {
   "cell_type": "code",
   "execution_count": null,
   "id": "92ab2fd3",
   "metadata": {},
   "outputs": [],
   "source": [
    "list(range(2,10))"
   ]
  }
 ],
 "metadata": {
  "kernelspec": {
   "display_name": "Python 3 (ipykernel)",
   "language": "python",
   "name": "python3"
  },
  "language_info": {
   "codemirror_mode": {
    "name": "ipython",
    "version": 3
   },
   "file_extension": ".py",
   "mimetype": "text/x-python",
   "name": "python",
   "nbconvert_exporter": "python",
   "pygments_lexer": "ipython3",
   "version": "3.11.4"
  }
 },
 "nbformat": 4,
 "nbformat_minor": 5
}

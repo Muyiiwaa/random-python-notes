{
 "cells": [
  {
   "cell_type": "code",
   "execution_count": 1,
   "metadata": {},
   "outputs": [],
   "source": [
    "# import the required libraries\n",
    "\n",
    "import pandas as pd\n",
    "import numpy as np\n",
    "import math\n",
    "\n",
    "# visualisation libraries\n",
    "import seaborn as sns\n",
    "import matplotlib.pyplot as plt\n",
    "import plotly.express as px\n",
    "\n",
    "\n",
    "#customising the visuals \n",
    "sns.set_palette('husl')\n",
    "sns.set_style('darkgrid')\n",
    "\n",
    "# import statistical libraries\n",
    "from scipy.stats import chi2_contingency,f_oneway,pearsonr,spearmanr,kruskal\n",
    "from statsmodels.api import  OLS"
   ]
  },
  {
   "cell_type": "code",
   "execution_count": 2,
   "metadata": {},
   "outputs": [],
   "source": [
    "# load the dataset into the working directory\n",
    "\n",
    "data = pd.read_csv('supermarket_sales.csv')"
   ]
  },
  {
   "cell_type": "markdown",
   "metadata": {},
   "source": [
    "#### Inspect the dataset"
   ]
  },
  {
   "cell_type": "code",
   "execution_count": 3,
   "metadata": {},
   "outputs": [
    {
     "data": {
      "text/html": [
       "<div>\n",
       "<style scoped>\n",
       "    .dataframe tbody tr th:only-of-type {\n",
       "        vertical-align: middle;\n",
       "    }\n",
       "\n",
       "    .dataframe tbody tr th {\n",
       "        vertical-align: top;\n",
       "    }\n",
       "\n",
       "    .dataframe thead th {\n",
       "        text-align: right;\n",
       "    }\n",
       "</style>\n",
       "<table border=\"1\" class=\"dataframe\">\n",
       "  <thead>\n",
       "    <tr style=\"text-align: right;\">\n",
       "      <th></th>\n",
       "      <th>Invoice ID</th>\n",
       "      <th>Branch</th>\n",
       "      <th>City</th>\n",
       "      <th>Customer type</th>\n",
       "      <th>Gender</th>\n",
       "      <th>Product line</th>\n",
       "      <th>Unit price</th>\n",
       "      <th>Quantity</th>\n",
       "      <th>Tax 5%</th>\n",
       "      <th>Total</th>\n",
       "      <th>Date</th>\n",
       "      <th>Time</th>\n",
       "      <th>Payment</th>\n",
       "      <th>cogs</th>\n",
       "      <th>gross margin percentage</th>\n",
       "      <th>gross income</th>\n",
       "      <th>Rating</th>\n",
       "    </tr>\n",
       "  </thead>\n",
       "  <tbody>\n",
       "    <tr>\n",
       "      <th>0</th>\n",
       "      <td>750-67-8428</td>\n",
       "      <td>A</td>\n",
       "      <td>Yangon</td>\n",
       "      <td>Member</td>\n",
       "      <td>Female</td>\n",
       "      <td>Health and beauty</td>\n",
       "      <td>74.69</td>\n",
       "      <td>7</td>\n",
       "      <td>26.1415</td>\n",
       "      <td>548.9715</td>\n",
       "      <td>1/5/2019</td>\n",
       "      <td>13:08</td>\n",
       "      <td>Ewallet</td>\n",
       "      <td>522.83</td>\n",
       "      <td>4.761905</td>\n",
       "      <td>26.1415</td>\n",
       "      <td>9.1</td>\n",
       "    </tr>\n",
       "    <tr>\n",
       "      <th>1</th>\n",
       "      <td>226-31-3081</td>\n",
       "      <td>C</td>\n",
       "      <td>Naypyitaw</td>\n",
       "      <td>Normal</td>\n",
       "      <td>Female</td>\n",
       "      <td>Electronic accessories</td>\n",
       "      <td>15.28</td>\n",
       "      <td>5</td>\n",
       "      <td>3.8200</td>\n",
       "      <td>80.2200</td>\n",
       "      <td>3/8/2019</td>\n",
       "      <td>10:29</td>\n",
       "      <td>Cash</td>\n",
       "      <td>76.40</td>\n",
       "      <td>4.761905</td>\n",
       "      <td>3.8200</td>\n",
       "      <td>9.6</td>\n",
       "    </tr>\n",
       "    <tr>\n",
       "      <th>2</th>\n",
       "      <td>631-41-3108</td>\n",
       "      <td>A</td>\n",
       "      <td>Yangon</td>\n",
       "      <td>Normal</td>\n",
       "      <td>Male</td>\n",
       "      <td>Home and lifestyle</td>\n",
       "      <td>46.33</td>\n",
       "      <td>7</td>\n",
       "      <td>16.2155</td>\n",
       "      <td>340.5255</td>\n",
       "      <td>3/3/2019</td>\n",
       "      <td>13:23</td>\n",
       "      <td>Credit card</td>\n",
       "      <td>324.31</td>\n",
       "      <td>4.761905</td>\n",
       "      <td>16.2155</td>\n",
       "      <td>7.4</td>\n",
       "    </tr>\n",
       "  </tbody>\n",
       "</table>\n",
       "</div>"
      ],
      "text/plain": [
       "    Invoice ID Branch       City  ... gross margin percentage gross income Rating\n",
       "0  750-67-8428      A     Yangon  ...                4.761905      26.1415    9.1\n",
       "1  226-31-3081      C  Naypyitaw  ...                4.761905       3.8200    9.6\n",
       "2  631-41-3108      A     Yangon  ...                4.761905      16.2155    7.4\n",
       "\n",
       "[3 rows x 17 columns]"
      ]
     },
     "execution_count": 3,
     "metadata": {},
     "output_type": "execute_result"
    }
   ],
   "source": [
    "data.head(3)"
   ]
  },
  {
   "cell_type": "code",
   "execution_count": 6,
   "metadata": {},
   "outputs": [
    {
     "name": "stdout",
     "output_type": "stream",
     "text": [
      "There are 1000 rows and 17 columns in the dataset\n"
     ]
    }
   ],
   "source": [
    "# checking the data dimension\n",
    "\n",
    "print(f'There are {data.shape[0]} rows and {data.shape[1]} columns in the dataset')"
   ]
  },
  {
   "cell_type": "code",
   "execution_count": 9,
   "metadata": {},
   "outputs": [
    {
     "name": "stdout",
     "output_type": "stream",
     "text": [
      "<class 'pandas.core.frame.DataFrame'>\n",
      "RangeIndex: 1000 entries, 0 to 999\n",
      "Data columns (total 17 columns):\n",
      " #   Column                   Non-Null Count  Dtype         \n",
      "---  ------                   --------------  -----         \n",
      " 0   Invoice ID               1000 non-null   object        \n",
      " 1   Branch                   1000 non-null   object        \n",
      " 2   City                     1000 non-null   object        \n",
      " 3   Customer type            1000 non-null   object        \n",
      " 4   Gender                   1000 non-null   object        \n",
      " 5   Product line             1000 non-null   object        \n",
      " 6   Unit price               1000 non-null   float64       \n",
      " 7   Quantity                 1000 non-null   int64         \n",
      " 8   Tax 5%                   1000 non-null   float64       \n",
      " 9   Total                    1000 non-null   float64       \n",
      " 10  Date                     1000 non-null   datetime64[ns]\n",
      " 11  Time                     1000 non-null   object        \n",
      " 12  Payment                  1000 non-null   object        \n",
      " 13  cogs                     1000 non-null   float64       \n",
      " 14  gross margin percentage  1000 non-null   float64       \n",
      " 15  gross income             1000 non-null   float64       \n",
      " 16  Rating                   1000 non-null   float64       \n",
      "dtypes: datetime64[ns](1), float64(7), int64(1), object(8)\n",
      "memory usage: 132.9+ KB\n"
     ]
    }
   ],
   "source": [
    "# inspect datatype and missing values \n",
    "\n",
    "data.info()"
   ]
  },
  {
   "cell_type": "code",
   "execution_count": 8,
   "metadata": {},
   "outputs": [],
   "source": [
    "# converting date to the right datatype\n",
    "\n",
    "data['Date'] = data['Date'].apply(pd.to_datetime)"
   ]
  },
  {
   "cell_type": "markdown",
   "metadata": {},
   "source": [
    "#### Visualisation"
   ]
  },
  {
   "cell_type": "code",
   "execution_count": 10,
   "metadata": {},
   "outputs": [
    {
     "data": {
      "text/plain": [
       "Index(['Invoice ID', 'Branch', 'City', 'Customer type', 'Gender',\n",
       "       'Product line', 'Unit price', 'Quantity', 'Tax 5%', 'Total', 'Date',\n",
       "       'Time', 'Payment', 'cogs', 'gross margin percentage', 'gross income',\n",
       "       'Rating'],\n",
       "      dtype='object')"
      ]
     },
     "execution_count": 10,
     "metadata": {},
     "output_type": "execute_result"
    }
   ],
   "source": [
    "data.columns"
   ]
  },
  {
   "cell_type": "code",
   "execution_count": 17,
   "metadata": {},
   "outputs": [
    {
     "data": {
      "image/png": "[encoded data removed]",
      "text/plain": [
       "<Figure size 2000x1000 with 4 Axes>"
      ]
     },
     "metadata": {},
     "output_type": "display_data"
    }
   ],
   "source": [
    "def get_plot(x, y, title):\n",
    "    \n",
    "    fig, axes = plt.subplots(2,2, figsize = (20,10))\n",
    "\n",
    "    sns.countplot(data, x = x, ax = axes[0,0])\n",
    "    sns.barplot(data, x = x,y = y[0], ax = axes[0,1], estimator= 'sum')\n",
    "    sns.barplot(data, x = x, y = y[1], ax = axes[1,0], estimator= 'sum')\n",
    "    sns.barplot(data, x = x, y = y[2], ax = axes[1,1], estimator= 'sum')\n",
    "\n",
    "    axes[0,0].set_title(f'COUNT PLOT OF {x}')\n",
    "    axes[0,1].set_title(f'{x} vs {y[0]}')\n",
    "    axes[1,0].set_title(f'{x} vs {y[1]}')\n",
    "    axes[1,1].set_title(f'{x} vs {y[2]}')\n",
    "\n",
    "    plt.suptitle(title)\n",
    "\n",
    "    fig.tight_layout(pad = 5)\n",
    "    \n",
    "get_plot(x = 'Customer type', y = ['Quantity','Total','gross income'],\n",
    "         title= 'CUSTOMER TYPE VS KEY VARIABLES')"
   ]
  },
  {
   "cell_type": "code",
   "execution_count": 18,
   "metadata": {},
   "outputs": [
    {
     "data": {
      "image/png": "[encoded data removed]",
      "text/plain": [
       "<Figure size 2000x1000 with 4 Axes>"
      ]
     },
     "metadata": {},
     "output_type": "display_data"
    }
   ],
   "source": [
    "# plotting gender vs important variables\n",
    "\n",
    "get_plot(x = 'Gender', y = ['Quantity','Total','gross income'],\n",
    "         title= 'Gender VS KEY VARIABLES')"
   ]
  },
  {
   "cell_type": "code",
   "execution_count": 19,
   "metadata": {},
   "outputs": [
    {
     "data": {
      "image/png": "[encoded data removed]",
      "text/plain": [
       "<Figure size 2000x1000 with 4 Axes>"
      ]
     },
     "metadata": {},
     "output_type": "display_data"
    }
   ],
   "source": [
    "get_plot(x = 'Branch', y = ['Quantity','Total','gross income'],\n",
    "         title= 'Branch VS KEY VARIABLES')"
   ]
  },
  {
   "cell_type": "code",
   "execution_count": 27,
   "metadata": {},
   "outputs": [
    {
     "data": {
      "application/vnd.plotly.v1+json": {
       "config": {
        "plotlyServerURL": "https://plot.ly"
       },
       "data": [
        {
         "alignmentgroup": "True",
         "hovertemplate": "Branch=%{x}<br>Gender=Female<br>Total=%{y}<extra></extra>",
         "legendgroup": "A",
         "marker": {
          "color": "#636efa"
         },
         "name": "A",
         "notched": false,
         "offsetgroup": "A",
         "orientation": "v",
         "showlegend": true,
         "type": "box",
         "x": [
          "A",
          "A",
          "A",
          "A",
          "A",
          "A",
          "A",
          "A",
          "A",
          "A",
          "A",
          "A",
          "A",
          "A",
          "A",
          "A",
          "A",
          "A",
          "A",
          "A",
          "A",
          "A",
          "A",
          "A",
          "A",
          "A",
          "A",
          "A",
          "A",
          "A",
          "A",
          "A",
          "A",
          "A",
          "A",
          "A",
          "A",
          "A",
          "A",
          "A",
          "A",
          "A",
          "A",
          "A",
          "A",
          "A",
          "A",
          "A",
          "A",
          "A",
          "A",
          "A",
          "A",
          "A",
          "A",
          "A",
          "A",
          "A",
          "A",
          "A",
          "A",
          "A",
          "A",
          "A",
          "A",
          "A",
          "A",
          "A",
          "A",
          "A",
          "A",
          "A",
          "A",
          "A",
          "A",
          "A",
          "A",
          "A",
          "A",
          "A",
          "A",
          "A",
          "A",
          "A",
          "A",
          "A",
          "A",
          "A",
          "A",
          "A",
          "A",
          "A",
          "A",
          "A",
          "A",
          "A",
          "A",
          "A",
          "A",
          "A",
          "A",
          "A",
          "A",
          "A",
          "A",
          "A",
          "A",
          "A",
          "A",
          "A",
          "A",
          "A",
          "A",
          "A",
          "A",
          "A",
          "A",
          "A",
          "A",
          "A",
          "A",
          "A",
          "A",
          "A",
          "A",
          "A",
          "A",
          "A",
          "A",
          "A",
          "A",
          "A",
          "A",
          "A",
          "A",
          "A",
          "A",
          "A",
          "A",
          "A",
          "A",
          "A",
          "A",
          "A",
          "A",
          "A",
          "A",
          "A",
          "A",
          "A",
          "A",
          "A",
          "A",
          "A",
          "A",
          "A",
          "A",
          "A",
          "A",
          "A",
          "A"
         ],
         "x0": " ",
         "xaxis": "x",
         "y": [
          548.9715,
          433.692,
          76.146,
          246.4875,
          749.49,
          506.6355,
          441.756,
          184.107,
          575.316,
          234.0975,
          759.675,
          19.2465,
          189.0945,
          161.553,
          115.08,
          836.304,
          688.6215,
          169.3125,
          580.419,
          138.1275,
          216.846,
          491.085,
          316.47,
          90.699,
          26.5545,
          217.6335,
          298.116,
          532.728,
          195.594,
          709.317,
          233.52,
          723.24,
          373.17,
          203.553,
          25.263,
          587.664,
          16.107,
          200.214,
          697.368,
          65.604,
          76.356,
          214.998,
          295.6905,
          745.836,
          83.412,
          172.011,
          74.7075,
          146.9475,
          324.2925,
          149.3625,
          736.4385,
          352.2225,
          507.675,
          214.935,
          339.36,
          548.73,
          83.727,
          406.875,
          284.9175,
          237.426,
          185.367,
          951.825,
          147.798,
          843.0345,
          140.385,
          333.9525,
          168.21,
          338.31,
          174.615,
          206.43,
          432.768,
          225.2775,
          398.958,
          235.872,
          479.9025,
          148.68,
          306.81,
          308.91,
          416.178,
          228.123,
          852.705,
          621.243,
          269.934,
          326.256,
          164.871,
          226.065,
          47.859,
          236.88,
          147.672,
          394.3275,
          30.408,
          365.904,
          225.792,
          96.1905,
          12.6945,
          49.4235,
          277.6725,
          146.6325,
          204.246,
          477.54,
          308.574,
          211.365,
          458.6925,
          113.568,
          187.32,
          525.231,
          93.744,
          150.423,
          143.22,
          182.91,
          817.236,
          608.076,
          232.638,
          536.592,
          56.1225,
          72.009,
          397.992,
          32.151,
          97.881,
          257.145,
          462.672,
          325.374,
          195.678,
          210.966,
          422.73,
          408.408,
          100.128,
          216.4365,
          92.442,
          779.31,
          82.887,
          624.33,
          206.808,
          503.7375,
          118.902,
          450.1035,
          250.7085,
          756.168,
          216.846,
          175.014,
          771.435,
          145.5825,
          167.034,
          782.208,
          313.74,
          397.614,
          374.409,
          781.62,
          469.77,
          290.0835,
          479.64,
          690.018,
          312.8895,
          932.337,
          16.275,
          314.685,
          49.77,
          313.572,
          921.186,
          296.94,
          649.299
         ],
         "y0": " ",
         "yaxis": "y"
        },
        {
         "alignmentgroup": "True",
         "hovertemplate": "Branch=%{x}<br>Gender=Male<br>Total=%{y}<extra></extra>",
         "legendgroup": "A",
         "marker": {
          "color": "#636efa"
         },
         "name": "A",
         "notched": false,
         "offsetgroup": "A",
         "orientation": "v",
         "showlegend": false,
         "type": "box",
         "x": [
          "A",
          "A",
          "A",
          "A",
          "A",
          "A",
          "A",
          "A",
          "A",
          "A",
          "A",
          "A",
          "A",
          "A",
          "A",
          "A",
          "A",
          "A",
          "A",
          "A",
          "A",
          "A",
          "A",
          "A",
          "A",
          "A",
          "A",
          "A",
          "A",
          "A",
          "A",
          "A",
          "A",
          "A",
          "A",
          "A",
          "A",
          "A",
          "A",
          "A",
          "A",
          "A",
          "A",
          "A",
          "A",
          "A",
          "A",
          "A",
          "A",
          "A",
          "A",
          "A",
          "A",
          "A",
          "A",
          "A",
          "A",
          "A",
          "A",
          "A",
          "A",
          "A",
          "A",
          "A",
          "A",
          "A",
          "A",
          "A",
          "A",
          "A",
          "A",
          "A",
          "A",
          "A",
          "A",
          "A",
          "A",
          "A",
          "A",
          "A",
          "A",
          "A",
          "A",
          "A",
          "A",
          "A",
          "A",
          "A",
          "A",
          "A",
          "A",
          "A",
          "A",
          "A",
          "A",
          "A",
          "A",
          "A",
          "A",
          "A",
          "A",
          "A",
          "A",
          "A",
          "A",
          "A",
          "A",
          "A",
          "A",
          "A",
          "A",
          "A",
          "A",
          "A",
          "A",
          "A",
          "A",
          "A",
          "A",
          "A",
          "A",
          "A",
          "A",
          "A",
          "A",
          "A",
          "A",
          "A",
          "A",
          "A",
          "A",
          "A",
          "A",
          "A",
          "A",
          "A",
          "A",
          "A",
          "A",
          "A",
          "A",
          "A",
          "A",
          "A",
          "A",
          "A",
          "A",
          "A",
          "A",
          "A",
          "A",
          "A",
          "A",
          "A",
          "A",
          "A",
          "A",
          "A",
          "A",
          "A",
          "A",
          "A",
          "A",
          "A",
          "A",
          "A",
          "A",
          "A",
          "A",
          "A",
          "A",
          "A",
          "A",
          "A",
          "A",
          "A",
          "A",
          "A",
          "A"
         ],
         "x0": " ",
         "xaxis": "x2",
         "y": [
          340.5255,
          489.048,
          634.3785,
          453.495,
          457.443,
          172.2105,
          181.44,
          279.1845,
          235.2105,
          202.818,
          328.755,
          93.114,
          752.64,
          166.005,
          166.635,
          827.085,
          705.6315,
          362.943,
          44.5935,
          102.018,
          166.1625,
          367.038,
          931.035,
          391.419,
          548.7615,
          609,
          272.664,
          786.618,
          484.5225,
          66.8745,
          336.5565,
          1039.29,
          323.064,
          510.972,
          367.5525,
          319.788,
          186.228,
          465.444,
          162.75,
          77.7735,
          171.7275,
          247.8735,
          19.194,
          90.825,
          545.37,
          94.1745,
          235.683,
          125.517,
          263.13,
          399.756,
          94.185,
          326.424,
          99.75,
          494.76,
          69.6675,
          163.233,
          135.45,
          297.108,
          462.21,
          628.929,
          493.794,
          252.042,
          530.67,
          96.138,
          135.576,
          523.845,
          152.712,
          103.635,
          404.355,
          49.308,
          721.98,
          140.6475,
          75.5475,
          191.247,
          379.9215,
          680.064,
          461.286,
          276.948,
          203.175,
          345.786,
          80.661,
          282.492,
          72.3975,
          110.0925,
          81.396,
          427.812,
          390.7995,
          214.137,
          26.25,
          87.234,
          269.535,
          452.865,
          205.317,
          40.53,
          194.985,
          156.03,
          203.112,
          731.6925,
          72.933,
          514.773,
          926.9505,
          160.209,
          728.112,
          102.837,
          96.642,
          575.9775,
          142.002,
          262.458,
          469.413,
          74.4555,
          451.0275,
          217.182,
          76.755,
          164.43,
          32.1405,
          708.225,
          620.739,
          127.827,
          167.895,
          673.995,
          246.6765,
          175.917,
          212.7825,
          182.952,
          764.19,
          58.2225,
          588.42,
          305.55,
          45.108,
          667.38,
          510.615,
          657.531,
          80.955,
          507.906,
          37.611,
          142.947,
          176.4,
          20.685,
          887.922,
          79.149,
          197.925,
          233.1,
          548.163,
          432.9885,
          48.7305,
          680.61,
          99.9075,
          284.592,
          130.032,
          88.704,
          95.865,
          54.999,
          202.335,
          163.611,
          22.386,
          295.407,
          76.923,
          77.805,
          26.796,
          271.278,
          182.427,
          561.078,
          97.818,
          335.013,
          92.295,
          807.66,
          331.128,
          84.7455,
          431.256,
          279.384,
          266.6475,
          74.088,
          43.869,
          255.1815,
          252.252,
          244.23,
          121.863,
          33.432,
          69.111
         ],
         "y0": " ",
         "yaxis": "y2"
        },
        {
         "alignmentgroup": "True",
         "hovertemplate": "Branch=%{x}<br>Gender=Female<br>Total=%{y}<extra></extra>",
         "legendgroup": "C",
         "marker": {
          "color": "#EF553B"
         },
         "name": "C",
         "notched": false,
         "offsetgroup": "C",
         "orientation": "v",
         "showlegend": true,
         "type": "box",
         "x": [
          "C",
          "C",
          "C",
          "C",
          "C",
          "C",
          "C",
          "C",
          "C",
          "C",
          "C",
          "C",
          "C",
          "C",
          "C",
          "C",
          "C",
          "C",
          "C",
          "C",
          "C",
          "C",
          "C",
          "C",
          "C",
          "C",
          "C",
          "C",
          "C",
          "C",
          "C",
          "C",
          "C",
          "C",
          "C",
          "C",
          "C",
          "C",
          "C",
          "C",
          "C",
          "C",
          "C",
          "C",
          "C",
          "C",
          "C",
          "C",
          "C",
          "C",
          "C",
          "C",
          "C",
          "C",
          "C",
          "C",
          "C",
          "C",
          "C",
          "C",
          "C",
          "C",
          "C",
          "C",
          "C",
          "C",
          "C",
          "C",
          "C",
          "C",
          "C",
          "C",
          "C",
          "C",
          "C",
          "C",
          "C",
          "C",
          "C",
          "C",
          "C",
          "C",
          "C",
          "C",
          "C",
          "C",
          "C",
          "C",
          "C",
          "C",
          "C",
          "C",
          "C",
          "C",
          "C",
          "C",
          "C",
          "C",
          "C",
          "C",
          "C",
          "C",
          "C",
          "C",
          "C",
          "C",
          "C",
          "C",
          "C",
          "C",
          "C",
          "C",
          "C",
          "C",
          "C",
          "C",
          "C",
          "C",
          "C",
          "C",
          "C",
          "C",
          "C",
          "C",
          "C",
          "C",
          "C",
          "C",
          "C",
          "C",
          "C",
          "C",
          "C",
          "C",
          "C",
          "C",
          "C",
          "C",
          "C",
          "C",
          "C",
          "C",
          "C",
          "C",
          "C",
          "C",
          "C",
          "C",
          "C",
          "C",
          "C",
          "C",
          "C",
          "C",
          "C",
          "C",
          "C",
          "C",
          "C",
          "C",
          "C",
          "C",
          "C",
          "C",
          "C",
          "C",
          "C",
          "C",
          "C",
          "C",
          "C",
          "C",
          "C",
          "C",
          "C",
          "C",
          "C",
          "C"
         ],
         "x0": " ",
         "xaxis": "x",
         "y": [
          80.22,
          772.38,
          417.564,
          71.526,
          461.328,
          829.08,
          867.615,
          722.232,
          77.931,
          70.287,
          478.233,
          437.325,
          822.255,
          106.995,
          624.897,
          337.512,
          610.491,
          198.996,
          471.03,
          78.435,
          218.0115,
          321.111,
          309.3615,
          763.4655,
          85.113,
          299.8485,
          575.736,
          512.19,
          942.9,
          720.3,
          31.9305,
          291.438,
          103.824,
          680.148,
          362.712,
          165.4485,
          293.202,
          829.71,
          78.0045,
          374.7975,
          120.645,
          629.8425,
          299.565,
          881.307,
          13.167,
          183.036,
          232.155,
          30.219,
          69.09,
          44.352,
          229.11,
          400.764,
          224.4375,
          272.58,
          93.0405,
          820.365,
          66.402,
          218.0745,
          216.6885,
          41.391,
          150.0975,
          509.4075,
          749.7,
          1042.65,
          31.752,
          394.275,
          1002.12,
          793.548,
          173.208,
          343.056,
          484.974,
          150.78,
          441.693,
          55.881,
          314.538,
          510.9615,
          253.512,
          248.409,
          718.7565,
          125.055,
          190.596,
          85.5855,
          121.59,
          264.7575,
          1020.705,
          343.224,
          488.985,
          310.59,
          23.751,
          572.775,
          273.0525,
          103.782,
          527.751,
          344.4,
          388.29,
          127.26,
          132.762,
          568.512,
          33.495,
          100.485,
          54.0435,
          523.971,
          154.1295,
          551.124,
          1034.46,
          517.965,
          543.753,
          195.258,
          178.164,
          440.937,
          193.4625,
          68.2395,
          381.3915,
          209.118,
          935.2665,
          273.798,
          48.51,
          743.82,
          609.168,
          32.529,
          104.6745,
          914.55,
          207.48,
          300.573,
          310.716,
          663.2955,
          539.343,
          497.07,
          507.444,
          317.226,
          733.6035,
          130.8825,
          856.4535,
          270.2595,
          239.4,
          596.82,
          266.028,
          40.341,
          55.2825,
          267.3405,
          239.589,
          631.1445,
          499.7265,
          55.041,
          369.684,
          53.34,
          57.6975,
          63.9135,
          253.68,
          652.89,
          341.0925,
          333.984,
          184.086,
          31.227,
          23.499,
          688.716,
          90.5835,
          131.922,
          85.512,
          102.396,
          439.215,
          485.5725,
          297.801,
          423.738,
          122.472,
          329.196,
          235.746,
          223.587,
          338.2155,
          26.733,
          611.079,
          221.886,
          175.035,
          579.8415,
          360.927,
          88.368,
          165.9,
          63.9975
         ],
         "y0": " ",
         "yaxis": "y"
        },
        {
         "alignmentgroup": "True",
         "hovertemplate": "Branch=%{x}<br>Gender=Male<br>Total=%{y}<extra></extra>",
         "legendgroup": "C",
         "marker": {
          "color": "#EF553B"
         },
         "name": "C",
         "notched": false,
         "offsetgroup": "C",
         "orientation": "v",
         "showlegend": false,
         "type": "box",
         "x": [
          "C",
          "C",
          "C",
          "C",
          "C",
          "C",
          "C",
          "C",
          "C",
          "C",
          "C",
          "C",
          "C",
          "C",
          "C",
          "C",
          "C",
          "C",
          "C",
          "C",
          "C",
          "C",
          "C",
          "C",
          "C",
          "C",
          "C",
          "C",
          "C",
          "C",
          "C",
          "C",
          "C",
          "C",
          "C",
          "C",
          "C",
          "C",
          "C",
          "C",
          "C",
          "C",
          "C",
          "C",
          "C",
          "C",
          "C",
          "C",
          "C",
          "C",
          "C",
          "C",
          "C",
          "C",
          "C",
          "C",
          "C",
          "C",
          "C",
          "C",
          "C",
          "C",
          "C",
          "C",
          "C",
          "C",
          "C",
          "C",
          "C",
          "C",
          "C",
          "C",
          "C",
          "C",
          "C",
          "C",
          "C",
          "C",
          "C",
          "C",
          "C",
          "C",
          "C",
          "C",
          "C",
          "C",
          "C",
          "C",
          "C",
          "C",
          "C",
          "C",
          "C",
          "C",
          "C",
          "C",
          "C",
          "C",
          "C",
          "C",
          "C",
          "C",
          "C",
          "C",
          "C",
          "C",
          "C",
          "C",
          "C",
          "C",
          "C",
          "C",
          "C",
          "C",
          "C",
          "C",
          "C",
          "C",
          "C",
          "C",
          "C",
          "C",
          "C",
          "C",
          "C",
          "C",
          "C",
          "C",
          "C",
          "C",
          "C",
          "C",
          "C",
          "C",
          "C",
          "C",
          "C",
          "C",
          "C",
          "C",
          "C",
          "C",
          "C",
          "C",
          "C",
          "C",
          "C",
          "C",
          "C",
          "C"
         ],
         "x0": " ",
         "xaxis": "x2",
         "y": [
          627.6165,
          451.71,
          117.831,
          32.277,
          671.79,
          16.2015,
          192.843,
          351.099,
          939.54,
          652.26,
          463.428,
          161.7,
          256.7775,
          401.73,
          94.2375,
          51.1455,
          742.2975,
          172.494,
          860.685,
          419.832,
          536.844,
          284.193,
          950.25,
          277.788,
          254.016,
          160.44,
          1003.59,
          175.14,
          273.42,
          472.311,
          323.148,
          288.204,
          91.77,
          174.3,
          451.3635,
          62.0025,
          155.652,
          91.4025,
          195.72,
          369.495,
          276.948,
          148.974,
          745.395,
          38.85,
          78.603,
          204.6975,
          121.128,
          209.622,
          51.0405,
          145.593,
          208.677,
          392.6475,
          185.094,
          395.892,
          77.175,
          209.559,
          265.104,
          701.8515,
          407.316,
          294.651,
          194.124,
          14.679,
          17.094,
          90.867,
          937.818,
          348.306,
          71.568,
          91.56,
          13.419,
          290.43,
          144.081,
          37.6845,
          212.73,
          22.659,
          353.094,
          554.148,
          24.108,
          145.74,
          429.1665,
          206.7975,
          377.58,
          132.027,
          122.5245,
          79.674,
          118.251,
          139.923,
          936.6,
          133.434,
          85.743,
          625.905,
          293.139,
          87.234,
          814.38,
          84.9765,
          461.5275,
          63.2625,
          442.323,
          259.77,
          125.979,
          282.576,
          618.975,
          153.048,
          404.544,
          1023.75,
          72.429,
          131.208,
          829.08,
          175.0455,
          408.492,
          860.475,
          616.98,
          408.7335,
          89.0715,
          597.0405,
          137.865,
          480.0285,
          132.5625,
          183.12,
          603.876,
          190.4805,
          287.91,
          455.1225,
          495.3165,
          10.6785,
          681.975,
          586.635,
          390.9465,
          106.5015,
          76.5765,
          59.325,
          548.184,
          54.9675,
          446.439,
          629.16,
          888.405,
          44.9925,
          470.988,
          270.018,
          943.299,
          176.925,
          188.0025,
          477.1305,
          96.579,
          304.983,
          180.873,
          250.278,
          734.706,
          708.3195,
          864.57,
          42.3675
         ],
         "y0": " ",
         "yaxis": "y2"
        },
        {
         "alignmentgroup": "True",
         "hovertemplate": "Branch=%{x}<br>Gender=Female<br>Total=%{y}<extra></extra>",
         "legendgroup": "B",
         "marker": {
          "color": "#00cc96"
         },
         "name": "B",
         "notched": false,
         "offsetgroup": "B",
         "orientation": "v",
         "showlegend": true,
         "type": "box",
         "x": [
          "B",
          "B",
          "B",
          "B",
          "B",
          "B",
          "B",
          "B",
          "B",
          "B",
          "B",
          "B",
          "B",
          "B",
          "B",
          "B",
          "B",
          "B",
          "B",
          "B",
          "B",
          "B",
          "B",
          "B",
          "B",
          "B",
          "B",
          "B",
          "B",
          "B",
          "B",
          "B",
          "B",
          "B",
          "B",
          "B",
          "B",
          "B",
          "B",
          "B",
          "B",
          "B",
          "B",
          "B",
          "B",
          "B",
          "B",
          "B",
          "B",
          "B",
          "B",
          "B",
          "B",
          "B",
          "B",
          "B",
          "B",
          "B",
          "B",
          "B",
          "B",
          "B",
          "B",
          "B",
          "B",
          "B",
          "B",
          "B",
          "B",
          "B",
          "B",
          "B",
          "B",
          "B",
          "B",
          "B",
          "B",
          "B",
          "B",
          "B",
          "B",
          "B",
          "B",
          "B",
          "B",
          "B",
          "B",
          "B",
          "B",
          "B",
          "B",
          "B",
          "B",
          "B",
          "B",
          "B",
          "B",
          "B",
          "B",
          "B",
          "B",
          "B",
          "B",
          "B",
          "B",
          "B",
          "B",
          "B",
          "B",
          "B",
          "B",
          "B",
          "B",
          "B",
          "B",
          "B",
          "B",
          "B",
          "B",
          "B",
          "B",
          "B",
          "B",
          "B",
          "B",
          "B",
          "B",
          "B",
          "B",
          "B",
          "B",
          "B",
          "B",
          "B",
          "B",
          "B",
          "B",
          "B",
          "B",
          "B",
          "B",
          "B",
          "B",
          "B",
          "B",
          "B",
          "B",
          "B",
          "B",
          "B",
          "B",
          "B",
          "B",
          "B",
          "B",
          "B",
          "B",
          "B",
          "B",
          "B",
          "B",
          "B"
         ],
         "x0": " ",
         "xaxis": "x",
         "y": [
          172.746,
          60.816,
          590.436,
          84.63,
          463.89,
          91.056,
          435.456,
          394.632,
          189.0945,
          75.054,
          520.4115,
          614.943,
          152.838,
          304.542,
          485.037,
          34.629,
          535.374,
          474.348,
          853.146,
          291.207,
          146.328,
          384.468,
          793.716,
          242.676,
          154.392,
          241.458,
          95.6655,
          942.4485,
          217.6335,
          130.0425,
          180.621,
          571.41,
          170.877,
          33.3585,
          794.6505,
          69.405,
          256.41,
          160.86,
          783.3,
          354.0075,
          628.173,
          356.5485,
          125.664,
          365.085,
          404.649,
          411.3795,
          565.215,
          141.75,
          402.2655,
          374.388,
          193.011,
          128.016,
          334.341,
          99.33,
          523.3725,
          398.475,
          258.678,
          208.6875,
          288.582,
          359.205,
          120.162,
          65.7405,
          49.812,
          742.812,
          20.1075,
          28.4235,
          41.076,
          470.673,
          155.19,
          731.43,
          767.025,
          207.858,
          431.445,
          734.076,
          72.87,
          212.688,
          103.0365,
          195.951,
          152.775,
          529.515,
          666.939,
          143.9865,
          570.78,
          77.658,
          84.756,
          74.76,
          270.585,
          513.2295,
          550.368,
          151.284,
          356.328,
          586.971,
          430.71,
          75.936,
          343.413,
          695.2365,
          874.125,
          165.648,
          92.5575,
          311.1885,
          351.603,
          135.3555,
          370.125,
          75.474,
          85.302,
          231.2415,
          470.988,
          41.454,
          36.5505,
          145.404,
          103.11,
          136.143,
          207.585,
          835.2855,
          180.6,
          110.124,
          187.866,
          383.523,
          116.1405,
          93.744,
          300.216,
          810.6,
          801.864,
          401.688,
          401.268,
          151.515,
          1022.385,
          714.3255,
          18.6375,
          446.964,
          441.588,
          681.4395,
          99.54,
          299.3655,
          554.295,
          345.0195,
          106.596,
          375.3645,
          225.015,
          101.64,
          348.705,
          486.444,
          435.12,
          514.605,
          91.8225,
          82.719,
          103.131,
          57.876,
          833.9625,
          397.845,
          222.012,
          68.985,
          263.97,
          80.367,
          181.0725,
          888.615,
          26.7225,
          71.1585,
          334.4775,
          30.996,
          804.3,
          1022.49
         ],
         "y0": " ",
         "yaxis": "y"
        },
        {
         "alignmentgroup": "True",
         "hovertemplate": "Branch=%{x}<br>Gender=Male<br>Total=%{y}<extra></extra>",
         "legendgroup": "B",
         "marker": {
          "color": "#00cc96"
         },
         "name": "B",
         "notched": false,
         "offsetgroup": "B",
         "orientation": "v",
         "showlegend": false,
         "type": "box",
         "x": [
          "B",
          "B",
          "B",
          "B",
          "B",
          "B",
          "B",
          "B",
          "B",
          "B",
          "B",
          "B",
          "B",
          "B",
          "B",
          "B",
          "B",
          "B",
          "B",
          "B",
          "B",
          "B",
          "B",
          "B",
          "B",
          "B",
          "B",
          "B",
          "B",
          "B",
          "B",
          "B",
          "B",
          "B",
          "B",
          "B",
          "B",
          "B",
          "B",
          "B",
          "B",
          "B",
          "B",
          "B",
          "B",
          "B",
          "B",
          "B",
          "B",
          "B",
          "B",
          "B",
          "B",
          "B",
          "B",
          "B",
          "B",
          "B",
          "B",
          "B",
          "B",
          "B",
          "B",
          "B",
          "B",
          "B",
          "B",
          "B",
          "B",
          "B",
          "B",
          "B",
          "B",
          "B",
          "B",
          "B",
          "B",
          "B",
          "B",
          "B",
          "B",
          "B",
          "B",
          "B",
          "B",
          "B",
          "B",
          "B",
          "B",
          "B",
          "B",
          "B",
          "B",
          "B",
          "B",
          "B",
          "B",
          "B",
          "B",
          "B",
          "B",
          "B",
          "B",
          "B",
          "B",
          "B",
          "B",
          "B",
          "B",
          "B",
          "B",
          "B",
          "B",
          "B",
          "B",
          "B",
          "B",
          "B",
          "B",
          "B",
          "B",
          "B",
          "B",
          "B",
          "B",
          "B",
          "B",
          "B",
          "B",
          "B",
          "B",
          "B",
          "B",
          "B",
          "B",
          "B",
          "B",
          "B",
          "B",
          "B",
          "B",
          "B",
          "B",
          "B",
          "B",
          "B",
          "B",
          "B",
          "B",
          "B",
          "B",
          "B",
          "B",
          "B",
          "B",
          "B",
          "B",
          "B",
          "B",
          "B",
          "B",
          "B",
          "B",
          "B",
          "B",
          "B",
          "B",
          "B",
          "B",
          "B"
         ],
         "x0": " ",
         "xaxis": "x2",
         "y": [
          107.142,
          277.137,
          69.72,
          35.196,
          494.1825,
          737.7615,
          703.752,
          253.008,
          535.7205,
          119.259,
          33.936,
          318.108,
          608.202,
          922.635,
          521.01,
          223.0725,
          115.185,
          53.928,
          112.224,
          944.622,
          550.935,
          545.055,
          603.624,
          75.7785,
          263.97,
          918.729,
          588.357,
          418.95,
          357.588,
          420.2625,
          333.207,
          166.236,
          56.952,
          195.174,
          107.31,
          271.95,
          93.2925,
          484.89,
          146.223,
          796.908,
          285.705,
          456.288,
          655.5465,
          310.044,
          788.508,
          536.991,
          439.8975,
          137.004,
          57.1725,
          352.5795,
          350.07,
          423.15,
          190.155,
          40.9605,
          503.559,
          410.508,
          214.746,
          208.089,
          151.4835,
          255.15,
          86.625,
          78.7185,
          79.611,
          133.917,
          128.4255,
          181.818,
          45.927,
          100.9155,
          213.528,
          383.7645,
          353.1675,
          145.068,
          702.219,
          138.663,
          833.595,
          233.226,
          609.588,
          360.885,
          633.99,
          209.769,
          637.728,
          77.6685,
          92.8725,
          321.7725,
          288.015,
          164.682,
          125.706,
          240.975,
          163.002,
          180.4005,
          118.062,
          203.931,
          208.425,
          280.035,
          152.019,
          597.6285,
          253.26,
          145.971,
          198.639,
          304.92,
          46.683,
          133.35,
          121.569,
          293.643,
          457.38,
          95.9175,
          867.09,
          314.055,
          251.7165,
          697.935,
          165.123,
          116.907,
          35.3115,
          397.215,
          352.674,
          252.756,
          181.881,
          196.14,
          175.917,
          261.198,
          101.808,
          760.4415,
          527.5095,
          138.978,
          98.028,
          732.27,
          557.718,
          56.406,
          769.104,
          684.915,
          384.72,
          757.365,
          86.247,
          98.049,
          830.3715,
          57.078,
          97.419,
          144.963,
          90.3,
          403.872,
          247.59,
          222.138,
          262.794,
          281.169,
          63.315,
          177.408,
          362.817,
          760.452,
          41.7375,
          335.895,
          148.995,
          317.835,
          832.944,
          193.074,
          217.2555,
          92.7255,
          53.151,
          629.496,
          56.469,
          125.7165,
          415.233,
          289.926,
          69.993,
          271.2885,
          640.038,
          104.832,
          167.58,
          520.8,
          633.108,
          183.645
         ],
         "y0": " ",
         "yaxis": "y2"
        }
       ],
       "layout": {
        "annotations": [
         {
          "font": {},
          "showarrow": false,
          "text": "Gender=Female",
          "x": 0.245,
          "xanchor": "center",
          "xref": "paper",
          "y": 1,
          "yanchor": "bottom",
          "yref": "paper"
         },
         {
          "font": {},
          "showarrow": false,
          "text": "Gender=Male",
          "x": 0.755,
          "xanchor": "center",
          "xref": "paper",
          "y": 1,
          "yanchor": "bottom",
          "yref": "paper"
         }
        ],
        "boxmode": "overlay",
        "legend": {
         "title": {
          "text": "Branch"
         },
         "tracegroupgap": 0
        },
        "margin": {
         "t": 60
        },
        "template": {
         "data": {
          "bar": [
           {
            "error_x": {
             "color": "#2a3f5f"
            },
            "error_y": {
             "color": "#2a3f5f"
            },
            "marker": {
             "line": {
              "color": "#E5ECF6",
              "width": 0.5
             },
             "pattern": {
              "fillmode": "overlay",
              "size": 10,
              "solidity": 0.2
             }
            },
            "type": "bar"
           }
          ],
          "barpolar": [
           {
            "marker": {
             "line": {
              "color": "#E5ECF6",
              "width": 0.5
             },
             "pattern": {
              "fillmode": "overlay",
              "size": 10,
              "solidity": 0.2
             }
            },
            "type": "barpolar"
           }
          ],
          "carpet": [
           {
            "aaxis": {
             "endlinecolor": "#2a3f5f",
             "gridcolor": "white",
             "linecolor": "white",
             "minorgridcolor": "white",
             "startlinecolor": "#2a3f5f"
            },
            "baxis": {
             "endlinecolor": "#2a3f5f",
             "gridcolor": "white",
             "linecolor": "white",
             "minorgridcolor": "white",
             "startlinecolor": "#2a3f5f"
            },
            "type": "carpet"
           }
          ],
          "choropleth": [
           {
            "colorbar": {
             "outlinewidth": 0,
             "ticks": ""
            },
            "type": "choropleth"
           }
          ],
          "contour": [
           {
            "colorbar": {
             "outlinewidth": 0,
             "ticks": ""
            },
            "colorscale": [
             [
              0,
              "#0d0887"
             ],
             [
              0.1111111111111111,
              "#46039f"
             ],
             [
              0.2222222222222222,
              "#7201a8"
             ],
             [
              0.3333333333333333,
              "#9c179e"
             ],
             [
              0.4444444444444444,
              "#bd3786"
             ],
             [
              0.5555555555555556,
              "#d8576b"
             ],
             [
              0.6666666666666666,
              "#ed7953"
             ],
             [
              0.7777777777777778,
              "#fb9f3a"
             ],
             [
              0.8888888888888888,
              "#fdca26"
             ],
             [
              1,
              "#f0f921"
             ]
            ],
            "type": "contour"
           }
          ],
          "contourcarpet": [
           {
            "colorbar": {
             "outlinewidth": 0,
             "ticks": ""
            },
            "type": "contourcarpet"
           }
          ],
          "heatmap": [
           {
            "colorbar": {
             "outlinewidth": 0,
             "ticks": ""
            },
            "colorscale": [
             [
              0,
              "#0d0887"
             ],
             [
              0.1111111111111111,
              "#46039f"
             ],
             [
              0.2222222222222222,
              "#7201a8"
             ],
             [
              0.3333333333333333,
              "#9c179e"
             ],
             [
              0.4444444444444444,
              "#bd3786"
             ],
             [
              0.5555555555555556,
              "#d8576b"
             ],
             [
              0.6666666666666666,
              "#ed7953"
             ],
             [
              0.7777777777777778,
              "#fb9f3a"
             ],
             [
              0.8888888888888888,
              "#fdca26"
             ],
             [
              1,
              "#f0f921"
             ]
            ],
            "type": "heatmap"
           }
          ],
          "heatmapgl": [
           {
            "colorbar": {
             "outlinewidth": 0,
             "ticks": ""
            },
            "colorscale": [
             [
              0,
              "#0d0887"
             ],
             [
              0.1111111111111111,
              "#46039f"
             ],
             [
              0.2222222222222222,
              "#7201a8"
             ],
             [
              0.3333333333333333,
              "#9c179e"
             ],
             [
              0.4444444444444444,
              "#bd3786"
             ],
             [
              0.5555555555555556,
              "#d8576b"
             ],
             [
              0.6666666666666666,
              "#ed7953"
             ],
             [
              0.7777777777777778,
              "#fb9f3a"
             ],
             [
              0.8888888888888888,
              "#fdca26"
             ],
             [
              1,
              "#f0f921"
             ]
            ],
            "type": "heatmapgl"
           }
          ],
          "histogram": [
           {
            "marker": {
             "pattern": {
              "fillmode": "overlay",
              "size": 10,
              "solidity": 0.2
             }
            },
            "type": "histogram"
           }
          ],
          "histogram2d": [
           {
            "colorbar": {
             "outlinewidth": 0,
             "ticks": ""
            },
            "colorscale": [
             [
              0,
              "#0d0887"
             ],
             [
              0.1111111111111111,
              "#46039f"
             ],
             [
              0.2222222222222222,
              "#7201a8"
             ],
             [
              0.3333333333333333,
              "#9c179e"
             ],
             [
              0.4444444444444444,
              "#bd3786"
             ],
             [
              0.5555555555555556,
              "#d8576b"
             ],
             [
              0.6666666666666666,
              "#ed7953"
             ],
             [
              0.7777777777777778,
              "#fb9f3a"
             ],
             [
              0.8888888888888888,
              "#fdca26"
             ],
             [
              1,
              "#f0f921"
             ]
            ],
            "type": "histogram2d"
           }
          ],
          "histogram2dcontour": [
           {
            "colorbar": {
             "outlinewidth": 0,
             "ticks": ""
            },
            "colorscale": [
             [
              0,
              "#0d0887"
             ],
             [
              0.1111111111111111,
              "#46039f"
             ],
             [
              0.2222222222222222,
              "#7201a8"
             ],
             [
              0.3333333333333333,
              "#9c179e"
             ],
             [
              0.4444444444444444,
              "#bd3786"
             ],
             [
              0.5555555555555556,
              "#d8576b"
             ],
             [
              0.6666666666666666,
              "#ed7953"
             ],
             [
              0.7777777777777778,
              "#fb9f3a"
             ],
             [
              0.8888888888888888,
              "#fdca26"
             ],
             [
              1,
              "#f0f921"
             ]
            ],
            "type": "histogram2dcontour"
           }
          ],
          "mesh3d": [
           {
            "colorbar": {
             "outlinewidth": 0,
             "ticks": ""
            },
            "type": "mesh3d"
           }
          ],
          "parcoords": [
           {
            "line": {
             "colorbar": {
              "outlinewidth": 0,
              "ticks": ""
             }
            },
            "type": "parcoords"
           }
          ],
          "pie": [
           {
            "automargin": true,
            "type": "pie"
           }
          ],
          "scatter": [
           {
            "fillpattern": {
             "fillmode": "overlay",
             "size": 10,
             "solidity": 0.2
            },
            "type": "scatter"
           }
          ],
          "scatter3d": [
           {
            "line": {
             "colorbar": {
              "outlinewidth": 0,
              "ticks": ""
             }
            },
            "marker": {
             "colorbar": {
              "outlinewidth": 0,
              "ticks": ""
             }
            },
            "type": "scatter3d"
           }
          ],
          "scattercarpet": [
           {
            "marker": {
             "colorbar": {
              "outlinewidth": 0,
              "ticks": ""
             }
            },
            "type": "scattercarpet"
           }
          ],
          "scattergeo": [
           {
            "marker": {
             "colorbar": {
              "outlinewidth": 0,
              "ticks": ""
             }
            },
            "type": "scattergeo"
           }
          ],
          "scattergl": [
           {
            "marker": {
             "colorbar": {
              "outlinewidth": 0,
              "ticks": ""
             }
            },
            "type": "scattergl"
           }
          ],
          "scattermapbox": [
           {
            "marker": {
             "colorbar": {
              "outlinewidth": 0,
              "ticks": ""
             }
            },
            "type": "scattermapbox"
           }
          ],
          "scatterpolar": [
           {
            "marker": {
             "colorbar": {
              "outlinewidth": 0,
              "ticks": ""
             }
            },
            "type": "scatterpolar"
           }
          ],
          "scatterpolargl": [
           {
            "marker": {
             "colorbar": {
              "outlinewidth": 0,
              "ticks": ""
             }
            },
            "type": "scatterpolargl"
           }
          ],
          "scatterternary": [
           {
            "marker": {
             "colorbar": {
              "outlinewidth": 0,
              "ticks": ""
             }
            },
            "type": "scatterternary"
           }
          ],
          "surface": [
           {
            "colorbar": {
             "outlinewidth": 0,
             "ticks": ""
            },
            "colorscale": [
             [
              0,
              "#0d0887"
             ],
             [
              0.1111111111111111,
              "#46039f"
             ],
             [
              0.2222222222222222,
              "#7201a8"
             ],
             [
              0.3333333333333333,
              "#9c179e"
             ],
             [
              0.4444444444444444,
              "#bd3786"
             ],
             [
              0.5555555555555556,
              "#d8576b"
             ],
             [
              0.6666666666666666,
              "#ed7953"
             ],
             [
              0.7777777777777778,
              "#fb9f3a"
             ],
             [
              0.8888888888888888,
              "#fdca26"
             ],
             [
              1,
              "#f0f921"
             ]
            ],
            "type": "surface"
           }
          ],
          "table": [
           {
            "cells": {
             "fill": {
              "color": "#EBF0F8"
             },
             "line": {
              "color": "white"
             }
            },
            "header": {
             "fill": {
              "color": "#C8D4E3"
             },
             "line": {
              "color": "white"
             }
            },
            "type": "table"
           }
          ]
         },
         "layout": {
          "annotationdefaults": {
           "arrowcolor": "#2a3f5f",
           "arrowhead": 0,
           "arrowwidth": 1
          },
          "autotypenumbers": "strict",
          "coloraxis": {
           "colorbar": {
            "outlinewidth": 0,
            "ticks": ""
           }
          },
          "colorscale": {
           "diverging": [
            [
             0,
             "#8e0152"
            ],
            [
             0.1,
             "#c51b7d"
            ],
            [
             0.2,
             "#de77ae"
            ],
            [
             0.3,
             "#f1b6da"
            ],
            [
             0.4,
             "#fde0ef"
            ],
            [
             0.5,
             "#f7f7f7"
            ],
            [
             0.6,
             "#e6f5d0"
            ],
            [
             0.7,
             "#b8e186"
            ],
            [
             0.8,
             "#7fbc41"
            ],
            [
             0.9,
             "#4d9221"
            ],
            [
             1,
             "#276419"
            ]
           ],
           "sequential": [
            [
             0,
             "#0d0887"
            ],
            [
             0.1111111111111111,
             "#46039f"
            ],
            [
             0.2222222222222222,
             "#7201a8"
            ],
            [
             0.3333333333333333,
             "#9c179e"
            ],
            [
             0.4444444444444444,
             "#bd3786"
            ],
            [
             0.5555555555555556,
             "#d8576b"
            ],
            [
             0.6666666666666666,
             "#ed7953"
            ],
            [
             0.7777777777777778,
             "#fb9f3a"
            ],
            [
             0.8888888888888888,
             "#fdca26"
            ],
            [
             1,
             "#f0f921"
            ]
           ],
           "sequentialminus": [
            [
             0,
             "#0d0887"
            ],
            [
             0.1111111111111111,
             "#46039f"
            ],
            [
             0.2222222222222222,
             "#7201a8"
            ],
            [
             0.3333333333333333,
             "#9c179e"
            ],
            [
             0.4444444444444444,
             "#bd3786"
            ],
            [
             0.5555555555555556,
             "#d8576b"
            ],
            [
             0.6666666666666666,
             "#ed7953"
            ],
            [
             0.7777777777777778,
             "#fb9f3a"
            ],
            [
             0.8888888888888888,
             "#fdca26"
            ],
            [
             1,
             "#f0f921"
            ]
           ]
          },
          "colorway": [
           "#636efa",
           "#EF553B",
           "#00cc96",
           "#ab63fa",
           "#FFA15A",
           "#19d3f3",
           "#FF6692",
           "#B6E880",
           "#FF97FF",
           "#FECB52"
          ],
          "font": {
           "color": "#2a3f5f"
          },
          "geo": {
           "bgcolor": "white",
           "lakecolor": "white",
           "landcolor": "#E5ECF6",
           "showlakes": true,
           "showland": true,
           "subunitcolor": "white"
          },
          "hoverlabel": {
           "align": "left"
          },
          "hovermode": "closest",
          "mapbox": {
           "style": "light"
          },
          "paper_bgcolor": "white",
          "plot_bgcolor": "#E5ECF6",
          "polar": {
           "angularaxis": {
            "gridcolor": "white",
            "linecolor": "white",
            "ticks": ""
           },
           "bgcolor": "#E5ECF6",
           "radialaxis": {
            "gridcolor": "white",
            "linecolor": "white",
            "ticks": ""
           }
          },
          "scene": {
           "xaxis": {
            "backgroundcolor": "#E5ECF6",
            "gridcolor": "white",
            "gridwidth": 2,
            "linecolor": "white",
            "showbackground": true,
            "ticks": "",
            "zerolinecolor": "white"
           },
           "yaxis": {
            "backgroundcolor": "#E5ECF6",
            "gridcolor": "white",
            "gridwidth": 2,
            "linecolor": "white",
            "showbackground": true,
            "ticks": "",
            "zerolinecolor": "white"
           },
           "zaxis": {
            "backgroundcolor": "#E5ECF6",
            "gridcolor": "white",
            "gridwidth": 2,
            "linecolor": "white",
            "showbackground": true,
            "ticks": "",
            "zerolinecolor": "white"
           }
          },
          "shapedefaults": {
           "line": {
            "color": "#2a3f5f"
           }
          },
          "ternary": {
           "aaxis": {
            "gridcolor": "white",
            "linecolor": "white",
            "ticks": ""
           },
           "baxis": {
            "gridcolor": "white",
            "linecolor": "white",
            "ticks": ""
           },
           "bgcolor": "#E5ECF6",
           "caxis": {
            "gridcolor": "white",
            "linecolor": "white",
            "ticks": ""
           }
          },
          "title": {
           "x": 0.05
          },
          "xaxis": {
           "automargin": true,
           "gridcolor": "white",
           "linecolor": "white",
           "ticks": "",
           "title": {
            "standoff": 15
           },
           "zerolinecolor": "white",
           "zerolinewidth": 2
          },
          "yaxis": {
           "automargin": true,
           "gridcolor": "white",
           "linecolor": "white",
           "ticks": "",
           "title": {
            "standoff": 15
           },
           "zerolinecolor": "white",
           "zerolinewidth": 2
          }
         }
        },
        "xaxis": {
         "anchor": "y",
         "categoryarray": [
          "A",
          "C",
          "B"
         ],
         "categoryorder": "array",
         "domain": [
          0,
          0.49
         ],
         "title": {
          "text": "Branch"
         }
        },
        "xaxis2": {
         "anchor": "y2",
         "categoryarray": [
          "A",
          "C",
          "B"
         ],
         "categoryorder": "array",
         "domain": [
          0.51,
          1
         ],
         "matches": "x",
         "title": {
          "text": "Branch"
         }
        },
        "yaxis": {
         "anchor": "x",
         "domain": [
          0,
          1
         ],
         "title": {
          "text": "Total"
         }
        },
        "yaxis2": {
         "anchor": "x2",
         "domain": [
          0,
          1
         ],
         "matches": "y",
         "showticklabels": false
        }
       }
      }
     },
     "metadata": {},
     "output_type": "display_data"
    }
   ],
   "source": [
    "px.box(data_frame= data, x = 'Branch', y = 'Total', facet_col= 'Gender',\n",
    "       color= 'Branch')"
   ]
  },
  {
   "cell_type": "code",
   "execution_count": 28,
   "metadata": {},
   "outputs": [],
   "source": [
    "# generate an histogram of all the other continuous variables\n",
    "# add a descriptive markdown of all our findings from both the visualisation and stats tests."
   ]
  },
  {
   "cell_type": "code",
   "execution_count": 37,
   "metadata": {},
   "outputs": [
    {
     "data": {
      "text/plain": [
       "Text(0.5, 1.0, 'Correlation Matrix')"
      ]
     },
     "execution_count": 37,
     "metadata": {},
     "output_type": "execute_result"
    },
    {
     "data": {
      "image/png": "[encoded data removed]",
      "text/plain": [
       "<Figure size 640x480 with 1 Axes>"
      ]
     },
     "metadata": {},
     "output_type": "display_data"
    }
   ],
   "source": [
    "####  STATISTICAL TESTS\n",
    "\n",
    "\n",
    "corr_df = data[['Quantity','Unit price','Rating']].corr()\n",
    "sns.heatmap(data= corr_df, cmap= 'Blues', cbar=False, annot= True)\n",
    "\n",
    "plt.title('Correlation Matrix')"
   ]
  },
  {
   "cell_type": "code",
   "execution_count": 40,
   "metadata": {},
   "outputs": [
    {
     "name": "stdout",
     "output_type": "stream",
     "text": [
      "0.413210174367147\n"
     ]
    }
   ],
   "source": [
    "# run a one way anova on brancches vs total cost\n",
    "\n",
    "branch_a = data[data['Branch'] == \"A\"]['Total']\n",
    "branch_c = data[data['Branch'] == \"C\"]['Total']\n",
    "branch_b = data[data['Branch'] == \"B\"]['Total']\n",
    "\n",
    "test_stats, pvalue = f_oneway(branch_a, branch_b, branch_c)\n",
    "\n",
    "print(pvalue)"
   ]
  },
  {
   "cell_type": "code",
   "execution_count": 39,
   "metadata": {},
   "outputs": [
    {
     "data": {
      "text/plain": [
       "array(['A', 'C', 'B'], dtype=object)"
      ]
     },
     "execution_count": 39,
     "metadata": {},
     "output_type": "execute_result"
    }
   ],
   "source": [
    "# work to do\n",
    "# one way anova for city"
   ]
  },
  {
   "cell_type": "code",
   "execution_count": 41,
   "metadata": {},
   "outputs": [
    {
     "data": {
      "text/plain": [
       "array(['Yangon', 'Naypyitaw', 'Mandalay'], dtype=object)"
      ]
     },
     "execution_count": 41,
     "metadata": {},
     "output_type": "execute_result"
    }
   ],
   "source": [
    "data['City'].unique()"
   ]
  },
  {
   "cell_type": "code",
   "execution_count": null,
   "metadata": {},
   "outputs": [],
   "source": []
  }
 ],
 "metadata": {
  "kernelspec": {
   "display_name": "base",
   "language": "python",
   "name": "python3"
  },
  "language_info": {
   "codemirror_mode": {
    "name": "ipython",
    "version": 3
   },
   "file_extension": ".py",
   "mimetype": "text/x-python",
   "name": "python",
   "nbconvert_exporter": "python",
   "pygments_lexer": "ipython3",
   "version": "3.11.4"
  }
 },
 "nbformat": 4,
 "nbformat_minor": 2
}
